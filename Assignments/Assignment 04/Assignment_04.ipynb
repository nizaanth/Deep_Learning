{
 "cells": [
  {
   "cell_type": "markdown",
   "metadata": {
    "id": "tnpOp1yOWIJT"
   },
   "source": [
    "# **Course**: Deep Learning\n",
    "\n",
    "[<img align=\"right\" width=\"400\" height=\"100\" src=\"https://www.tu-braunschweig.de/typo3conf/ext/tu_braunschweig/Resources/Public/Images/Logos/tu_braunschweig_logo.svg\">](https://www.tu-braunschweig.de/en/)\n",
    "\n",
    "[Mehdi Maboudi](https://www.tu-braunschweig.de/en/igp/staff/mehdi-maboudi) \\([m.maboudi@tu-bs.de](m.maboudi@tu-bs.de)) and [Pedro Achanccaray](https://www.tu-braunschweig.de/en/igp/staff/pedro-diaz) (p.diaz@tu-bs.de)\n",
    "\n",
    "[Technical University of Braunschweig](https://www.tu-braunschweig.de/en/)  \n",
    "[Institute of Geodesy and Photogrammetry](https://www.tu-braunschweig.de/igp)"
   ]
  },
  {
   "cell_type": "markdown",
   "metadata": {
    "id": "GCZeFSPlAfEh"
   },
   "source": [
    "# **Assignment 04:** Improving CNN for EuroSAT dataset"
   ]
  },
  {
   "cell_type": "markdown",
   "metadata": {
    "id": "ZcOA6hVa1PEE"
   },
   "source": [
    "## **Load packages and data**"
   ]
  },
  {
   "cell_type": "code",
   "execution_count": 1,
   "metadata": {
    "id": "pt9G0y1g6iA6"
   },
   "outputs": [
    {
     "name": "stdout",
     "output_type": "stream",
     "text": [
      "Requirement already satisfied: wandb in c:\\users\\disha\\anaconda3\\lib\\site-packages (0.16.6)\n",
      "Requirement already satisfied: Click!=8.0.0,>=7.1 in c:\\users\\disha\\anaconda3\\lib\\site-packages (from wandb) (8.0.4)\n",
      "Requirement already satisfied: GitPython!=3.1.29,>=1.0.0 in c:\\users\\disha\\anaconda3\\lib\\site-packages (from wandb) (3.1.43)\n",
      "Requirement already satisfied: requests<3,>=2.0.0 in c:\\users\\disha\\anaconda3\\lib\\site-packages (from wandb) (2.31.0)\n",
      "Requirement already satisfied: psutil>=5.0.0 in c:\\users\\disha\\anaconda3\\lib\\site-packages (from wandb) (5.9.0)\n",
      "Requirement already satisfied: sentry-sdk>=1.0.0 in c:\\users\\disha\\anaconda3\\lib\\site-packages (from wandb) (2.0.1)\n",
      "Requirement already satisfied: docker-pycreds>=0.4.0 in c:\\users\\disha\\anaconda3\\lib\\site-packages (from wandb) (0.4.0)\n",
      "Requirement already satisfied: PyYAML in c:\\users\\disha\\anaconda3\\lib\\site-packages (from wandb) (6.0)\n",
      "Requirement already satisfied: setproctitle in c:\\users\\disha\\anaconda3\\lib\\site-packages (from wandb) (1.3.3)\n",
      "Requirement already satisfied: setuptools in c:\\users\\disha\\anaconda3\\lib\\site-packages (from wandb) (68.0.0)\n",
      "Requirement already satisfied: appdirs>=1.4.3 in c:\\users\\disha\\anaconda3\\lib\\site-packages (from wandb) (1.4.4)\n",
      "Requirement already satisfied: protobuf!=4.21.0,<5,>=3.19.0 in c:\\users\\disha\\anaconda3\\lib\\site-packages (from wandb) (4.25.3)\n",
      "Requirement already satisfied: colorama in c:\\users\\disha\\anaconda3\\lib\\site-packages (from Click!=8.0.0,>=7.1->wandb) (0.4.6)\n",
      "Requirement already satisfied: six>=1.4.0 in c:\\users\\disha\\anaconda3\\lib\\site-packages (from docker-pycreds>=0.4.0->wandb) (1.16.0)\n",
      "Requirement already satisfied: gitdb<5,>=4.0.1 in c:\\users\\disha\\anaconda3\\lib\\site-packages (from GitPython!=3.1.29,>=1.0.0->wandb) (4.0.11)\n",
      "Requirement already satisfied: charset-normalizer<4,>=2 in c:\\users\\disha\\anaconda3\\lib\\site-packages (from requests<3,>=2.0.0->wandb) (2.0.4)\n",
      "Requirement already satisfied: idna<4,>=2.5 in c:\\users\\disha\\anaconda3\\lib\\site-packages (from requests<3,>=2.0.0->wandb) (3.4)\n",
      "Requirement already satisfied: urllib3<3,>=1.21.1 in c:\\users\\disha\\anaconda3\\lib\\site-packages (from requests<3,>=2.0.0->wandb) (1.26.16)\n",
      "Requirement already satisfied: certifi>=2017.4.17 in c:\\users\\disha\\anaconda3\\lib\\site-packages (from requests<3,>=2.0.0->wandb) (2023.7.22)\n",
      "Requirement already satisfied: smmap<6,>=3.0.1 in c:\\users\\disha\\anaconda3\\lib\\site-packages (from gitdb<5,>=4.0.1->GitPython!=3.1.29,>=1.0.0->wandb) (5.0.1)\n"
     ]
    }
   ],
   "source": [
    "!pip install wandb"
   ]
  },
  {
   "cell_type": "code",
   "execution_count": 2,
   "metadata": {
    "id": "ZzWTOEJ96kT7"
   },
   "outputs": [
    {
     "name": "stderr",
     "output_type": "stream",
     "text": [
      "wandb: Appending key for api.wandb.ai to your netrc file: C:\\Users\\Disha\\.netrc\n"
     ]
    }
   ],
   "source": [
    "!wandb login e0889b0251f131d15192dcbea2f1400c34a44bff"
   ]
  },
  {
   "cell_type": "code",
   "execution_count": 3,
   "metadata": {
    "id": "EC09utecuSt8"
   },
   "outputs": [],
   "source": [
    "# Management of files\n",
    "import os\n",
    "from os.path import exists, join\n",
    "\n",
    "# Tensorflow and Keras\n",
    "from tensorflow.keras.callbacks import ModelCheckpoint, \\\n",
    "                                       EarlyStopping\n",
    "\n",
    "# Monitor training\n",
    "import wandb\n",
    "from wandb.keras import WandbMetricsLogger\n",
    "\n",
    "# Working with arrays\n",
    "import numpy as np\n",
    "\n",
    "# External files with functions to load the dataset,\n",
    "# create a CNN model, and a data generator.\n",
    "from importlib import reload\n",
    "import datasets\n",
    "import models\n",
    "import data_generator\n",
    "# Useful to reload modified external files without need\n",
    "# of restarting the kernel. Just run again this cell.\n",
    "reload(datasets)\n",
    "reload(models)\n",
    "reload(data_generator)\n",
    "\n",
    "from datasets import *\n",
    "from models import *\n",
    "from data_generator import *"
   ]
  },
  {
   "cell_type": "markdown",
   "metadata": {
    "id": "pgp2I7Y0CIuK"
   },
   "source": [
    "**Variables**"
   ]
  },
  {
   "cell_type": "code",
   "execution_count": 4,
   "metadata": {
    "id": "fg3h0LhMCKX3"
   },
   "outputs": [],
   "source": [
    "PROJECT_DIR = \".\" # os.getcwd()\n",
    "SEED = 42\n",
    "BATCH_SIZE = 32\n",
    "TARGET_SIZE = 64"
   ]
  },
  {
   "cell_type": "markdown",
   "metadata": {
    "id": "TkaArXxnKH8L"
   },
   "source": [
    "### **Download the dataset**"
   ]
  },
  {
   "cell_type": "markdown",
   "metadata": {
    "id": "zrFp7ZE7ikFj"
   },
   "source": [
    "We will use the [EuroSAT dataset](https://zenodo.org/record/7711810#.ZFn-y3bP1D9) with Sentinel-2 images. There are two versions of this dataset: RGB (3 bands) and MS (multispectral - 13 bands).\n",
    "\n",
    "For this assignment, we will work with the RGB version. The following lines download the dataset (~130 MB):"
   ]
  },
  {
   "cell_type": "code",
   "execution_count": 5,
   "metadata": {
    "colab": {
     "base_uri": "https://localhost:8080/"
    },
    "executionInfo": {
     "elapsed": 194065,
     "status": "ok",
     "timestamp": 1683539973712,
     "user": {
      "displayName": "PEDRO MARCO ACHANCCARAY DIAZ",
      "userId": "12035005979643113495"
     },
     "user_tz": -120
    },
    "id": "0QH0mmClSjOA",
    "outputId": "ee6d3b76-7a0e-4b63-b763-8a8a296441f6"
   },
   "outputs": [],
   "source": [
    "url_dataset = \"https://zenodo.org/record/7711810/files/EuroSAT_RGB.zip?download=1\"\n",
    "filename = \"EuroSAT_RGB.zip\"\n",
    "\n",
    "if not exists(\"EuroSAT_RGB\"):\n",
    "  !pip install wget\n",
    "  import wget\n",
    "  f = wget.download(url_dataset, PROJECT_DIR)\n",
    "  import zipfile\n",
    "  with zipfile.ZipFile(filename, \"r\") as zip_ref:\n",
    "    zip_ref.extractall(\".\")\n",
    "  os.remove(join(PROJECT_DIR, filename))"
   ]
  },
  {
   "cell_type": "markdown",
   "metadata": {
    "id": "5PFgRKW8KOcF"
   },
   "source": [
    "### **Reading the dataset**"
   ]
  },
  {
   "cell_type": "markdown",
   "metadata": {
    "id": "6Akfo4HAkKFf"
   },
   "source": [
    "The function **`read_eurosat`** is implemented in the **`datasets.py`** file. The output of this function are a dataframe with information about the image paths and their corresponding classes, and the number of classes."
   ]
  },
  {
   "cell_type": "code",
   "execution_count": 6,
   "metadata": {
    "colab": {
     "base_uri": "https://localhost:8080/",
     "height": 423
    },
    "executionInfo": {
     "elapsed": 1653,
     "status": "ok",
     "timestamp": 1683539986068,
     "user": {
      "displayName": "PEDRO MARCO ACHANCCARAY DIAZ",
      "userId": "12035005979643113495"
     },
     "user_tz": -120
    },
    "id": "NgVAoUjHyDEC",
    "outputId": "52626cd4-5721-40f5-d51a-2ee032896766"
   },
   "outputs": [
    {
     "data": {
      "text/html": [
       "<div>\n",
       "<style scoped>\n",
       "    .dataframe tbody tr th:only-of-type {\n",
       "        vertical-align: middle;\n",
       "    }\n",
       "\n",
       "    .dataframe tbody tr th {\n",
       "        vertical-align: top;\n",
       "    }\n",
       "\n",
       "    .dataframe thead th {\n",
       "        text-align: right;\n",
       "    }\n",
       "</style>\n",
       "<table border=\"1\" class=\"dataframe\">\n",
       "  <thead>\n",
       "    <tr style=\"text-align: right;\">\n",
       "      <th></th>\n",
       "      <th>path_image</th>\n",
       "      <th>class_str</th>\n",
       "      <th>class_int</th>\n",
       "    </tr>\n",
       "  </thead>\n",
       "  <tbody>\n",
       "    <tr>\n",
       "      <th>0</th>\n",
       "      <td>.\\EuroSAT_RGB\\Forest\\Forest_2313.jpg</td>\n",
       "      <td>Forest</td>\n",
       "      <td>1</td>\n",
       "    </tr>\n",
       "    <tr>\n",
       "      <th>1</th>\n",
       "      <td>.\\EuroSAT_RGB\\PermanentCrop\\PermanentCrop_2358...</td>\n",
       "      <td>PermanentCrop</td>\n",
       "      <td>6</td>\n",
       "    </tr>\n",
       "    <tr>\n",
       "      <th>2</th>\n",
       "      <td>.\\EuroSAT_RGB\\HerbaceousVegetation\\HerbaceousV...</td>\n",
       "      <td>HerbaceousVegetation</td>\n",
       "      <td>2</td>\n",
       "    </tr>\n",
       "    <tr>\n",
       "      <th>3</th>\n",
       "      <td>.\\EuroSAT_RGB\\Pasture\\Pasture_1415.jpg</td>\n",
       "      <td>Pasture</td>\n",
       "      <td>5</td>\n",
       "    </tr>\n",
       "    <tr>\n",
       "      <th>4</th>\n",
       "      <td>.\\EuroSAT_RGB\\Highway\\Highway_1611.jpg</td>\n",
       "      <td>Highway</td>\n",
       "      <td>3</td>\n",
       "    </tr>\n",
       "    <tr>\n",
       "      <th>...</th>\n",
       "      <td>...</td>\n",
       "      <td>...</td>\n",
       "      <td>...</td>\n",
       "    </tr>\n",
       "    <tr>\n",
       "      <th>26995</th>\n",
       "      <td>.\\EuroSAT_RGB\\River\\River_76.jpg</td>\n",
       "      <td>River</td>\n",
       "      <td>8</td>\n",
       "    </tr>\n",
       "    <tr>\n",
       "      <th>26996</th>\n",
       "      <td>.\\EuroSAT_RGB\\Forest\\Forest_2391.jpg</td>\n",
       "      <td>Forest</td>\n",
       "      <td>1</td>\n",
       "    </tr>\n",
       "    <tr>\n",
       "      <th>26997</th>\n",
       "      <td>.\\EuroSAT_RGB\\AnnualCrop\\AnnualCrop_861.jpg</td>\n",
       "      <td>AnnualCrop</td>\n",
       "      <td>0</td>\n",
       "    </tr>\n",
       "    <tr>\n",
       "      <th>26998</th>\n",
       "      <td>.\\EuroSAT_RGB\\Pasture\\Pasture_1796.jpg</td>\n",
       "      <td>Pasture</td>\n",
       "      <td>5</td>\n",
       "    </tr>\n",
       "    <tr>\n",
       "      <th>26999</th>\n",
       "      <td>.\\EuroSAT_RGB\\River\\River_2155.jpg</td>\n",
       "      <td>River</td>\n",
       "      <td>8</td>\n",
       "    </tr>\n",
       "  </tbody>\n",
       "</table>\n",
       "<p>27000 rows × 3 columns</p>\n",
       "</div>"
      ],
      "text/plain": [
       "                                              path_image  \\\n",
       "0                   .\\EuroSAT_RGB\\Forest\\Forest_2313.jpg   \n",
       "1      .\\EuroSAT_RGB\\PermanentCrop\\PermanentCrop_2358...   \n",
       "2      .\\EuroSAT_RGB\\HerbaceousVegetation\\HerbaceousV...   \n",
       "3                 .\\EuroSAT_RGB\\Pasture\\Pasture_1415.jpg   \n",
       "4                 .\\EuroSAT_RGB\\Highway\\Highway_1611.jpg   \n",
       "...                                                  ...   \n",
       "26995                   .\\EuroSAT_RGB\\River\\River_76.jpg   \n",
       "26996               .\\EuroSAT_RGB\\Forest\\Forest_2391.jpg   \n",
       "26997        .\\EuroSAT_RGB\\AnnualCrop\\AnnualCrop_861.jpg   \n",
       "26998             .\\EuroSAT_RGB\\Pasture\\Pasture_1796.jpg   \n",
       "26999                 .\\EuroSAT_RGB\\River\\River_2155.jpg   \n",
       "\n",
       "                  class_str  class_int  \n",
       "0                    Forest          1  \n",
       "1             PermanentCrop          6  \n",
       "2      HerbaceousVegetation          2  \n",
       "3                   Pasture          5  \n",
       "4                   Highway          3  \n",
       "...                     ...        ...  \n",
       "26995                 River          8  \n",
       "26996                Forest          1  \n",
       "26997            AnnualCrop          0  \n",
       "26998               Pasture          5  \n",
       "26999                 River          8  \n",
       "\n",
       "[27000 rows x 3 columns]"
      ]
     },
     "execution_count": 6,
     "metadata": {},
     "output_type": "execute_result"
    }
   ],
   "source": [
    "path_data = join(PROJECT_DIR, \"EuroSAT_RGB\")\n",
    "\n",
    "df, n_classes = read_eurosat(path_data=path_data, SEED=SEED)\n",
    "classes = np.unique(df[\"class_str\"].values)\n",
    "\n",
    "df"
   ]
  },
  {
   "cell_type": "markdown",
   "metadata": {
    "id": "yYxjd9DIPVzG"
   },
   "source": [
    "### **Train, Validation and Test sets**"
   ]
  },
  {
   "cell_type": "markdown",
   "metadata": {
    "id": "ER9UAoDjPbmA"
   },
   "source": [
    "Create **three disjoint** sets: `train`, `validation` and `test`.\n",
    "\n",
    "Use the following proportions:\n",
    "- `train`: 60%\n",
    "- `validation`: 20%\n",
    "- `test`: 20%\n",
    "\n",
    "Remember to use **stratified sampling** and the given `SEED` for the splits."
   ]
  },
  {
   "cell_type": "markdown",
   "metadata": {
    "id": "RlddcAmMknuE"
   },
   "source": [
    "For this, **complete the implementation** of the function **`train_val_test_split`** in the file **`datasets.py`**.\n",
    "\n",
    "_Search for the **`TODO:`** comments in the file._\n"
   ]
  },
  {
   "cell_type": "code",
   "execution_count": 7,
   "metadata": {
    "id": "ryjc-_SiyDEC"
   },
   "outputs": [],
   "source": [
    "splits = train_val_test_split(df,\n",
    "                              val_size=0.2,\n",
    "                              test_size=0.2,\n",
    "                              SEED=SEED)\n",
    "\n",
    "x_train = splits[\"x_train\"]\n",
    "y_train = splits[\"y_train\"]\n",
    "x_val = splits[\"x_val\"]\n",
    "y_val = splits[\"y_val\"]\n",
    "x_test = splits[\"x_test\"]\n",
    "y_test = splits[\"y_test\"]"
   ]
  },
  {
   "cell_type": "markdown",
   "metadata": {
    "id": "C8IQe24lR4Lx"
   },
   "source": [
    "#### **Class distribution**\n",
    "\n",
    "For **sanity check**, verify the **class distribution** of each set: `train`, `validation` and `test`."
   ]
  },
  {
   "cell_type": "code",
   "execution_count": 8,
   "metadata": {
    "colab": {
     "base_uri": "https://localhost:8080/"
    },
    "executionInfo": {
     "elapsed": 203,
     "status": "ok",
     "timestamp": 1683539996522,
     "user": {
      "displayName": "PEDRO MARCO ACHANCCARAY DIAZ",
      "userId": "12035005979643113495"
     },
     "user_tz": -120
    },
    "id": "zhXWoVjrRhFs",
    "outputId": "2498fbee-f600-4ce0-ff87-37eb9d315ce5"
   },
   "outputs": [
    {
     "name": "stdout",
     "output_type": "stream",
     "text": [
      "Samples per class - train: [1800 1800 1800 1500 1500 1200 1500 1800 1500 1800]\n",
      "Samples per class - val: [600 600 600 500 500 400 500 600 500 600]\n",
      "Samples per class - test: [600 600 600 500 500 400 500 600 500 600]\n"
     ]
    }
   ],
   "source": [
    "# Number of samples per class\n",
    "_, counts_train = np.unique(y_train, return_counts=True)\n",
    "_, counts_val = np.unique(y_val, return_counts=True)\n",
    "_, counts_test = np.unique(y_test, return_counts=True)\n",
    "\n",
    "print(\"Samples per class - train: {}\".format(counts_train))\n",
    "print(\"Samples per class - val: {}\".format(counts_val))\n",
    "print(\"Samples per class - test: {}\".format(counts_test))"
   ]
  },
  {
   "cell_type": "markdown",
   "metadata": {
    "id": "cxIMxNBkYpCD"
   },
   "source": [
    "## **Data generator**"
   ]
  },
  {
   "cell_type": "markdown",
   "metadata": {
    "id": "5EeRD9-Ml22s"
   },
   "source": [
    "Go to the file **`data_generator.py`** and **complete the implementation** of the data generator.\n",
    "\n",
    "_Search for the **`TODO:`** comments in the file._"
   ]
  },
  {
   "cell_type": "code",
   "execution_count": 9,
   "metadata": {
    "id": "IYEtY1ognL7w",
    "scrolled": true
   },
   "outputs": [
    {
     "name": "stdout",
     "output_type": "stream",
     "text": [
      "0 (32, 64, 64, 3) (32, 10)\n",
      "1 (32, 64, 64, 3) (32, 10)\n",
      "2 (32, 64, 64, 3) (32, 10)\n",
      "3 (32, 64, 64, 3) (32, 10)\n",
      "4 (32, 64, 64, 3) (32, 10)\n",
      "5 (32, 64, 64, 3) (32, 10)\n",
      "6 (32, 64, 64, 3) (32, 10)\n",
      "7 (32, 64, 64, 3) (32, 10)\n",
      "8 (32, 64, 64, 3) (32, 10)\n",
      "9 (32, 64, 64, 3) (32, 10)\n",
      "10 (32, 64, 64, 3) (32, 10)\n",
      "11 (32, 64, 64, 3) (32, 10)\n",
      "12 (32, 64, 64, 3) (32, 10)\n",
      "13 (32, 64, 64, 3) (32, 10)\n",
      "14 (32, 64, 64, 3) (32, 10)\n",
      "15 (32, 64, 64, 3) (32, 10)\n",
      "16 (32, 64, 64, 3) (32, 10)\n",
      "17 (32, 64, 64, 3) (32, 10)\n",
      "18 (32, 64, 64, 3) (32, 10)\n",
      "19 (32, 64, 64, 3) (32, 10)\n",
      "20 (32, 64, 64, 3) (32, 10)\n",
      "21 (32, 64, 64, 3) (32, 10)\n",
      "22 (32, 64, 64, 3) (32, 10)\n",
      "23 (32, 64, 64, 3) (32, 10)\n",
      "24 (32, 64, 64, 3) (32, 10)\n",
      "25 (32, 64, 64, 3) (32, 10)\n",
      "26 (32, 64, 64, 3) (32, 10)\n",
      "27 (32, 64, 64, 3) (32, 10)\n",
      "28 (32, 64, 64, 3) (32, 10)\n",
      "29 (32, 64, 64, 3) (32, 10)\n",
      "30 (32, 64, 64, 3) (32, 10)\n",
      "31 (32, 64, 64, 3) (32, 10)\n",
      "32 (32, 64, 64, 3) (32, 10)\n",
      "33 (32, 64, 64, 3) (32, 10)\n",
      "34 (32, 64, 64, 3) (32, 10)\n",
      "35 (32, 64, 64, 3) (32, 10)\n",
      "36 (32, 64, 64, 3) (32, 10)\n",
      "37 (32, 64, 64, 3) (32, 10)\n",
      "38 (32, 64, 64, 3) (32, 10)\n",
      "39 (32, 64, 64, 3) (32, 10)\n",
      "40 (32, 64, 64, 3) (32, 10)\n",
      "41 (32, 64, 64, 3) (32, 10)\n",
      "42 (32, 64, 64, 3) (32, 10)\n",
      "43 (32, 64, 64, 3) (32, 10)\n",
      "44 (32, 64, 64, 3) (32, 10)\n",
      "45 (32, 64, 64, 3) (32, 10)\n",
      "46 (32, 64, 64, 3) (32, 10)\n",
      "47 (32, 64, 64, 3) (32, 10)\n",
      "48 (32, 64, 64, 3) (32, 10)\n",
      "49 (32, 64, 64, 3) (32, 10)\n",
      "50 (32, 64, 64, 3) (32, 10)\n",
      "51 (32, 64, 64, 3) (32, 10)\n",
      "52 (32, 64, 64, 3) (32, 10)\n",
      "53 (32, 64, 64, 3) (32, 10)\n",
      "54 (32, 64, 64, 3) (32, 10)\n",
      "55 (32, 64, 64, 3) (32, 10)\n",
      "56 (32, 64, 64, 3) (32, 10)\n",
      "57 (32, 64, 64, 3) (32, 10)\n",
      "58 (32, 64, 64, 3) (32, 10)\n",
      "59 (32, 64, 64, 3) (32, 10)\n",
      "60 (32, 64, 64, 3) (32, 10)\n",
      "61 (32, 64, 64, 3) (32, 10)\n",
      "62 (32, 64, 64, 3) (32, 10)\n",
      "63 (32, 64, 64, 3) (32, 10)\n",
      "64 (32, 64, 64, 3) (32, 10)\n",
      "65 (32, 64, 64, 3) (32, 10)\n",
      "66 (32, 64, 64, 3) (32, 10)\n",
      "67 (32, 64, 64, 3) (32, 10)\n",
      "68 (32, 64, 64, 3) (32, 10)\n",
      "69 (32, 64, 64, 3) (32, 10)\n",
      "70 (32, 64, 64, 3) (32, 10)\n",
      "71 (32, 64, 64, 3) (32, 10)\n",
      "72 (32, 64, 64, 3) (32, 10)\n",
      "73 (32, 64, 64, 3) (32, 10)\n",
      "74 (32, 64, 64, 3) (32, 10)\n",
      "75 (32, 64, 64, 3) (32, 10)\n",
      "76 (32, 64, 64, 3) (32, 10)\n",
      "77 (32, 64, 64, 3) (32, 10)\n",
      "78 (32, 64, 64, 3) (32, 10)\n",
      "79 (32, 64, 64, 3) (32, 10)\n",
      "80 (32, 64, 64, 3) (32, 10)\n",
      "81 (32, 64, 64, 3) (32, 10)\n",
      "82 (32, 64, 64, 3) (32, 10)\n",
      "83 (32, 64, 64, 3) (32, 10)\n",
      "84 (32, 64, 64, 3) (32, 10)\n",
      "85 (32, 64, 64, 3) (32, 10)\n",
      "86 (32, 64, 64, 3) (32, 10)\n",
      "87 (32, 64, 64, 3) (32, 10)\n",
      "88 (32, 64, 64, 3) (32, 10)\n",
      "89 (32, 64, 64, 3) (32, 10)\n",
      "90 (32, 64, 64, 3) (32, 10)\n",
      "91 (32, 64, 64, 3) (32, 10)\n",
      "92 (32, 64, 64, 3) (32, 10)\n",
      "93 (32, 64, 64, 3) (32, 10)\n",
      "94 (32, 64, 64, 3) (32, 10)\n",
      "95 (32, 64, 64, 3) (32, 10)\n",
      "96 (32, 64, 64, 3) (32, 10)\n",
      "97 (32, 64, 64, 3) (32, 10)\n",
      "98 (32, 64, 64, 3) (32, 10)\n",
      "99 (32, 64, 64, 3) (32, 10)\n",
      "100 (32, 64, 64, 3) (32, 10)\n",
      "101 (32, 64, 64, 3) (32, 10)\n",
      "102 (32, 64, 64, 3) (32, 10)\n",
      "103 (32, 64, 64, 3) (32, 10)\n",
      "104 (32, 64, 64, 3) (32, 10)\n",
      "105 (32, 64, 64, 3) (32, 10)\n",
      "106 (32, 64, 64, 3) (32, 10)\n",
      "107 (32, 64, 64, 3) (32, 10)\n",
      "108 (32, 64, 64, 3) (32, 10)\n",
      "109 (32, 64, 64, 3) (32, 10)\n",
      "110 (32, 64, 64, 3) (32, 10)\n",
      "111 (32, 64, 64, 3) (32, 10)\n",
      "112 (32, 64, 64, 3) (32, 10)\n",
      "113 (32, 64, 64, 3) (32, 10)\n",
      "114 (32, 64, 64, 3) (32, 10)\n",
      "115 (32, 64, 64, 3) (32, 10)\n",
      "116 (32, 64, 64, 3) (32, 10)\n",
      "117 (32, 64, 64, 3) (32, 10)\n",
      "118 (32, 64, 64, 3) (32, 10)\n",
      "119 (32, 64, 64, 3) (32, 10)\n",
      "120 (32, 64, 64, 3) (32, 10)\n",
      "121 (32, 64, 64, 3) (32, 10)\n",
      "122 (32, 64, 64, 3) (32, 10)\n",
      "123 (32, 64, 64, 3) (32, 10)\n",
      "124 (32, 64, 64, 3) (32, 10)\n",
      "125 (32, 64, 64, 3) (32, 10)\n",
      "126 (32, 64, 64, 3) (32, 10)\n",
      "127 (32, 64, 64, 3) (32, 10)\n",
      "128 (32, 64, 64, 3) (32, 10)\n",
      "129 (32, 64, 64, 3) (32, 10)\n",
      "130 (32, 64, 64, 3) (32, 10)\n",
      "131 (32, 64, 64, 3) (32, 10)\n",
      "132 (32, 64, 64, 3) (32, 10)\n",
      "133 (32, 64, 64, 3) (32, 10)\n",
      "134 (32, 64, 64, 3) (32, 10)\n",
      "135 (32, 64, 64, 3) (32, 10)\n",
      "136 (32, 64, 64, 3) (32, 10)\n",
      "137 (32, 64, 64, 3) (32, 10)\n",
      "138 (32, 64, 64, 3) (32, 10)\n",
      "139 (32, 64, 64, 3) (32, 10)\n",
      "140 (32, 64, 64, 3) (32, 10)\n",
      "141 (32, 64, 64, 3) (32, 10)\n",
      "142 (32, 64, 64, 3) (32, 10)\n",
      "143 (32, 64, 64, 3) (32, 10)\n",
      "144 (32, 64, 64, 3) (32, 10)\n",
      "145 (32, 64, 64, 3) (32, 10)\n",
      "146 (32, 64, 64, 3) (32, 10)\n",
      "147 (32, 64, 64, 3) (32, 10)\n",
      "148 (32, 64, 64, 3) (32, 10)\n",
      "149 (32, 64, 64, 3) (32, 10)\n",
      "150 (32, 64, 64, 3) (32, 10)\n",
      "151 (32, 64, 64, 3) (32, 10)\n",
      "152 (32, 64, 64, 3) (32, 10)\n",
      "153 (32, 64, 64, 3) (32, 10)\n",
      "154 (32, 64, 64, 3) (32, 10)\n",
      "155 (32, 64, 64, 3) (32, 10)\n",
      "156 (32, 64, 64, 3) (32, 10)\n",
      "157 (32, 64, 64, 3) (32, 10)\n",
      "158 (32, 64, 64, 3) (32, 10)\n",
      "159 (32, 64, 64, 3) (32, 10)\n",
      "160 (32, 64, 64, 3) (32, 10)\n",
      "161 (32, 64, 64, 3) (32, 10)\n",
      "162 (32, 64, 64, 3) (32, 10)\n",
      "163 (32, 64, 64, 3) (32, 10)\n",
      "164 (32, 64, 64, 3) (32, 10)\n",
      "165 (32, 64, 64, 3) (32, 10)\n",
      "166 (32, 64, 64, 3) (32, 10)\n",
      "167 (32, 64, 64, 3) (32, 10)\n",
      "168 (32, 64, 64, 3) (32, 10)\n",
      "169 (32, 64, 64, 3) (32, 10)\n",
      "170 (32, 64, 64, 3) (32, 10)\n",
      "171 (32, 64, 64, 3) (32, 10)\n",
      "172 (32, 64, 64, 3) (32, 10)\n",
      "173 (32, 64, 64, 3) (32, 10)\n",
      "174 (32, 64, 64, 3) (32, 10)\n",
      "175 (32, 64, 64, 3) (32, 10)\n",
      "176 (32, 64, 64, 3) (32, 10)\n",
      "177 (32, 64, 64, 3) (32, 10)\n",
      "178 (32, 64, 64, 3) (32, 10)\n",
      "179 (32, 64, 64, 3) (32, 10)\n",
      "180 (32, 64, 64, 3) (32, 10)\n",
      "181 (32, 64, 64, 3) (32, 10)\n",
      "182 (32, 64, 64, 3) (32, 10)\n",
      "183 (32, 64, 64, 3) (32, 10)\n",
      "184 (32, 64, 64, 3) (32, 10)\n",
      "185 (32, 64, 64, 3) (32, 10)\n",
      "186 (32, 64, 64, 3) (32, 10)\n",
      "187 (32, 64, 64, 3) (32, 10)\n",
      "188 (32, 64, 64, 3) (32, 10)\n",
      "189 (32, 64, 64, 3) (32, 10)\n",
      "190 (32, 64, 64, 3) (32, 10)\n",
      "191 (32, 64, 64, 3) (32, 10)\n",
      "192 (32, 64, 64, 3) (32, 10)\n",
      "193 (32, 64, 64, 3) (32, 10)\n",
      "194 (32, 64, 64, 3) (32, 10)\n",
      "195 (32, 64, 64, 3) (32, 10)\n",
      "196 (32, 64, 64, 3) (32, 10)\n",
      "197 (32, 64, 64, 3) (32, 10)\n",
      "198 (32, 64, 64, 3) (32, 10)\n",
      "199 (32, 64, 64, 3) (32, 10)\n",
      "200 (32, 64, 64, 3) (32, 10)\n",
      "201 (32, 64, 64, 3) (32, 10)\n",
      "202 (32, 64, 64, 3) (32, 10)\n",
      "203 (32, 64, 64, 3) (32, 10)\n",
      "204 (32, 64, 64, 3) (32, 10)\n",
      "205 (32, 64, 64, 3) (32, 10)\n",
      "206 (32, 64, 64, 3) (32, 10)\n",
      "207 (32, 64, 64, 3) (32, 10)\n",
      "208 (32, 64, 64, 3) (32, 10)\n",
      "209 (32, 64, 64, 3) (32, 10)\n",
      "210 (32, 64, 64, 3) (32, 10)\n",
      "211 (32, 64, 64, 3) (32, 10)\n",
      "212 (32, 64, 64, 3) (32, 10)\n",
      "213 (32, 64, 64, 3) (32, 10)\n",
      "214 (32, 64, 64, 3) (32, 10)\n",
      "215 (32, 64, 64, 3) (32, 10)\n",
      "216 (32, 64, 64, 3) (32, 10)\n",
      "217 (32, 64, 64, 3) (32, 10)\n",
      "218 (32, 64, 64, 3) (32, 10)\n",
      "219 (32, 64, 64, 3) (32, 10)\n",
      "220 (32, 64, 64, 3) (32, 10)\n",
      "221 (32, 64, 64, 3) (32, 10)\n",
      "222 (32, 64, 64, 3) (32, 10)\n",
      "223 (32, 64, 64, 3) (32, 10)\n",
      "224 (32, 64, 64, 3) (32, 10)\n",
      "225 (32, 64, 64, 3) (32, 10)\n",
      "226 (32, 64, 64, 3) (32, 10)\n",
      "227 (32, 64, 64, 3) (32, 10)\n",
      "228 (32, 64, 64, 3) (32, 10)\n",
      "229 (32, 64, 64, 3) (32, 10)\n",
      "230 (32, 64, 64, 3) (32, 10)\n",
      "231 (32, 64, 64, 3) (32, 10)\n",
      "232 (32, 64, 64, 3) (32, 10)\n",
      "233 (32, 64, 64, 3) (32, 10)\n",
      "234 (32, 64, 64, 3) (32, 10)\n",
      "235 (32, 64, 64, 3) (32, 10)\n",
      "236 (32, 64, 64, 3) (32, 10)\n",
      "237 (32, 64, 64, 3) (32, 10)\n",
      "238 (32, 64, 64, 3) (32, 10)\n",
      "239 (32, 64, 64, 3) (32, 10)\n",
      "240 (32, 64, 64, 3) (32, 10)\n",
      "241 (32, 64, 64, 3) (32, 10)\n",
      "242 (32, 64, 64, 3) (32, 10)\n",
      "243 (32, 64, 64, 3) (32, 10)\n",
      "244 (32, 64, 64, 3) (32, 10)\n",
      "245 (32, 64, 64, 3) (32, 10)\n",
      "246 (32, 64, 64, 3) (32, 10)\n",
      "247 (32, 64, 64, 3) (32, 10)\n",
      "248 (32, 64, 64, 3) (32, 10)\n",
      "249 (32, 64, 64, 3) (32, 10)\n",
      "250 (32, 64, 64, 3) (32, 10)\n",
      "251 (32, 64, 64, 3) (32, 10)\n",
      "252 (32, 64, 64, 3) (32, 10)\n",
      "253 (32, 64, 64, 3) (32, 10)\n",
      "254 (32, 64, 64, 3) (32, 10)\n",
      "255 (32, 64, 64, 3) (32, 10)\n",
      "256 (32, 64, 64, 3) (32, 10)\n",
      "257 (32, 64, 64, 3) (32, 10)\n",
      "258 (32, 64, 64, 3) (32, 10)\n",
      "259 (32, 64, 64, 3) (32, 10)\n",
      "260 (32, 64, 64, 3) (32, 10)\n",
      "261 (32, 64, 64, 3) (32, 10)\n",
      "262 (32, 64, 64, 3) (32, 10)\n",
      "263 (32, 64, 64, 3) (32, 10)\n",
      "264 (32, 64, 64, 3) (32, 10)\n",
      "265 (32, 64, 64, 3) (32, 10)\n",
      "266 (32, 64, 64, 3) (32, 10)\n",
      "267 (32, 64, 64, 3) (32, 10)\n",
      "268 (32, 64, 64, 3) (32, 10)\n",
      "269 (32, 64, 64, 3) (32, 10)\n",
      "270 (32, 64, 64, 3) (32, 10)\n",
      "271 (32, 64, 64, 3) (32, 10)\n",
      "272 (32, 64, 64, 3) (32, 10)\n",
      "273 (32, 64, 64, 3) (32, 10)\n",
      "274 (32, 64, 64, 3) (32, 10)\n",
      "275 (32, 64, 64, 3) (32, 10)\n",
      "276 (32, 64, 64, 3) (32, 10)\n",
      "277 (32, 64, 64, 3) (32, 10)\n",
      "278 (32, 64, 64, 3) (32, 10)\n",
      "279 (32, 64, 64, 3) (32, 10)\n",
      "280 (32, 64, 64, 3) (32, 10)\n",
      "281 (32, 64, 64, 3) (32, 10)\n",
      "282 (32, 64, 64, 3) (32, 10)\n",
      "283 (32, 64, 64, 3) (32, 10)\n",
      "284 (32, 64, 64, 3) (32, 10)\n",
      "285 (32, 64, 64, 3) (32, 10)\n",
      "286 (32, 64, 64, 3) (32, 10)\n",
      "287 (32, 64, 64, 3) (32, 10)\n"
     ]
    },
    {
     "name": "stdout",
     "output_type": "stream",
     "text": [
      "288 (32, 64, 64, 3) (32, 10)\n",
      "289 (32, 64, 64, 3) (32, 10)\n",
      "290 (32, 64, 64, 3) (32, 10)\n",
      "291 (32, 64, 64, 3) (32, 10)\n",
      "292 (32, 64, 64, 3) (32, 10)\n",
      "293 (32, 64, 64, 3) (32, 10)\n",
      "294 (32, 64, 64, 3) (32, 10)\n",
      "295 (32, 64, 64, 3) (32, 10)\n",
      "296 (32, 64, 64, 3) (32, 10)\n",
      "297 (32, 64, 64, 3) (32, 10)\n",
      "298 (32, 64, 64, 3) (32, 10)\n",
      "299 (32, 64, 64, 3) (32, 10)\n",
      "300 (32, 64, 64, 3) (32, 10)\n",
      "301 (32, 64, 64, 3) (32, 10)\n",
      "302 (32, 64, 64, 3) (32, 10)\n",
      "303 (32, 64, 64, 3) (32, 10)\n",
      "304 (32, 64, 64, 3) (32, 10)\n",
      "305 (32, 64, 64, 3) (32, 10)\n",
      "306 (32, 64, 64, 3) (32, 10)\n",
      "307 (32, 64, 64, 3) (32, 10)\n",
      "308 (32, 64, 64, 3) (32, 10)\n",
      "309 (32, 64, 64, 3) (32, 10)\n",
      "310 (32, 64, 64, 3) (32, 10)\n",
      "311 (32, 64, 64, 3) (32, 10)\n",
      "312 (32, 64, 64, 3) (32, 10)\n",
      "313 (32, 64, 64, 3) (32, 10)\n",
      "314 (32, 64, 64, 3) (32, 10)\n",
      "315 (32, 64, 64, 3) (32, 10)\n",
      "316 (32, 64, 64, 3) (32, 10)\n",
      "317 (32, 64, 64, 3) (32, 10)\n",
      "318 (32, 64, 64, 3) (32, 10)\n",
      "319 (32, 64, 64, 3) (32, 10)\n",
      "320 (32, 64, 64, 3) (32, 10)\n",
      "321 (32, 64, 64, 3) (32, 10)\n",
      "322 (32, 64, 64, 3) (32, 10)\n",
      "323 (32, 64, 64, 3) (32, 10)\n",
      "324 (32, 64, 64, 3) (32, 10)\n",
      "325 (32, 64, 64, 3) (32, 10)\n",
      "326 (32, 64, 64, 3) (32, 10)\n",
      "327 (32, 64, 64, 3) (32, 10)\n",
      "328 (32, 64, 64, 3) (32, 10)\n",
      "329 (32, 64, 64, 3) (32, 10)\n",
      "330 (32, 64, 64, 3) (32, 10)\n",
      "331 (32, 64, 64, 3) (32, 10)\n",
      "332 (32, 64, 64, 3) (32, 10)\n",
      "333 (32, 64, 64, 3) (32, 10)\n",
      "334 (32, 64, 64, 3) (32, 10)\n",
      "335 (32, 64, 64, 3) (32, 10)\n",
      "336 (32, 64, 64, 3) (32, 10)\n",
      "337 (32, 64, 64, 3) (32, 10)\n",
      "338 (32, 64, 64, 3) (32, 10)\n",
      "339 (32, 64, 64, 3) (32, 10)\n",
      "340 (32, 64, 64, 3) (32, 10)\n",
      "341 (32, 64, 64, 3) (32, 10)\n",
      "342 (32, 64, 64, 3) (32, 10)\n",
      "343 (32, 64, 64, 3) (32, 10)\n",
      "344 (32, 64, 64, 3) (32, 10)\n",
      "345 (32, 64, 64, 3) (32, 10)\n",
      "346 (32, 64, 64, 3) (32, 10)\n",
      "347 (32, 64, 64, 3) (32, 10)\n",
      "348 (32, 64, 64, 3) (32, 10)\n",
      "349 (32, 64, 64, 3) (32, 10)\n",
      "350 (32, 64, 64, 3) (32, 10)\n",
      "351 (32, 64, 64, 3) (32, 10)\n",
      "352 (32, 64, 64, 3) (32, 10)\n",
      "353 (32, 64, 64, 3) (32, 10)\n",
      "354 (32, 64, 64, 3) (32, 10)\n",
      "355 (32, 64, 64, 3) (32, 10)\n",
      "356 (32, 64, 64, 3) (32, 10)\n",
      "357 (32, 64, 64, 3) (32, 10)\n",
      "358 (32, 64, 64, 3) (32, 10)\n",
      "359 (32, 64, 64, 3) (32, 10)\n",
      "360 (32, 64, 64, 3) (32, 10)\n",
      "361 (32, 64, 64, 3) (32, 10)\n",
      "362 (32, 64, 64, 3) (32, 10)\n",
      "363 (32, 64, 64, 3) (32, 10)\n",
      "364 (32, 64, 64, 3) (32, 10)\n",
      "365 (32, 64, 64, 3) (32, 10)\n",
      "366 (32, 64, 64, 3) (32, 10)\n",
      "367 (32, 64, 64, 3) (32, 10)\n",
      "368 (32, 64, 64, 3) (32, 10)\n",
      "369 (32, 64, 64, 3) (32, 10)\n",
      "370 (32, 64, 64, 3) (32, 10)\n",
      "371 (32, 64, 64, 3) (32, 10)\n",
      "372 (32, 64, 64, 3) (32, 10)\n",
      "373 (32, 64, 64, 3) (32, 10)\n",
      "374 (32, 64, 64, 3) (32, 10)\n",
      "375 (32, 64, 64, 3) (32, 10)\n",
      "376 (32, 64, 64, 3) (32, 10)\n",
      "377 (32, 64, 64, 3) (32, 10)\n",
      "378 (32, 64, 64, 3) (32, 10)\n",
      "379 (32, 64, 64, 3) (32, 10)\n",
      "380 (32, 64, 64, 3) (32, 10)\n",
      "381 (32, 64, 64, 3) (32, 10)\n",
      "382 (32, 64, 64, 3) (32, 10)\n",
      "383 (32, 64, 64, 3) (32, 10)\n",
      "384 (32, 64, 64, 3) (32, 10)\n",
      "385 (32, 64, 64, 3) (32, 10)\n",
      "386 (32, 64, 64, 3) (32, 10)\n",
      "387 (32, 64, 64, 3) (32, 10)\n",
      "388 (32, 64, 64, 3) (32, 10)\n",
      "389 (32, 64, 64, 3) (32, 10)\n",
      "390 (32, 64, 64, 3) (32, 10)\n",
      "391 (32, 64, 64, 3) (32, 10)\n",
      "392 (32, 64, 64, 3) (32, 10)\n",
      "393 (32, 64, 64, 3) (32, 10)\n",
      "394 (32, 64, 64, 3) (32, 10)\n",
      "395 (32, 64, 64, 3) (32, 10)\n",
      "396 (32, 64, 64, 3) (32, 10)\n",
      "397 (32, 64, 64, 3) (32, 10)\n",
      "398 (32, 64, 64, 3) (32, 10)\n",
      "399 (32, 64, 64, 3) (32, 10)\n",
      "400 (32, 64, 64, 3) (32, 10)\n",
      "401 (32, 64, 64, 3) (32, 10)\n",
      "402 (32, 64, 64, 3) (32, 10)\n",
      "403 (32, 64, 64, 3) (32, 10)\n",
      "404 (32, 64, 64, 3) (32, 10)\n",
      "405 (32, 64, 64, 3) (32, 10)\n",
      "406 (32, 64, 64, 3) (32, 10)\n",
      "407 (32, 64, 64, 3) (32, 10)\n",
      "408 (32, 64, 64, 3) (32, 10)\n",
      "409 (32, 64, 64, 3) (32, 10)\n",
      "410 (32, 64, 64, 3) (32, 10)\n",
      "411 (32, 64, 64, 3) (32, 10)\n",
      "412 (32, 64, 64, 3) (32, 10)\n",
      "413 (32, 64, 64, 3) (32, 10)\n",
      "414 (32, 64, 64, 3) (32, 10)\n",
      "415 (32, 64, 64, 3) (32, 10)\n",
      "416 (32, 64, 64, 3) (32, 10)\n",
      "417 (32, 64, 64, 3) (32, 10)\n",
      "418 (32, 64, 64, 3) (32, 10)\n",
      "419 (32, 64, 64, 3) (32, 10)\n",
      "420 (32, 64, 64, 3) (32, 10)\n",
      "421 (32, 64, 64, 3) (32, 10)\n",
      "422 (32, 64, 64, 3) (32, 10)\n",
      "423 (32, 64, 64, 3) (32, 10)\n",
      "424 (32, 64, 64, 3) (32, 10)\n",
      "425 (32, 64, 64, 3) (32, 10)\n",
      "426 (32, 64, 64, 3) (32, 10)\n",
      "427 (32, 64, 64, 3) (32, 10)\n",
      "428 (32, 64, 64, 3) (32, 10)\n",
      "429 (32, 64, 64, 3) (32, 10)\n",
      "430 (32, 64, 64, 3) (32, 10)\n",
      "431 (32, 64, 64, 3) (32, 10)\n",
      "432 (32, 64, 64, 3) (32, 10)\n",
      "433 (32, 64, 64, 3) (32, 10)\n",
      "434 (32, 64, 64, 3) (32, 10)\n",
      "435 (32, 64, 64, 3) (32, 10)\n",
      "436 (32, 64, 64, 3) (32, 10)\n",
      "437 (32, 64, 64, 3) (32, 10)\n",
      "438 (32, 64, 64, 3) (32, 10)\n",
      "439 (32, 64, 64, 3) (32, 10)\n",
      "440 (32, 64, 64, 3) (32, 10)\n",
      "441 (32, 64, 64, 3) (32, 10)\n",
      "442 (32, 64, 64, 3) (32, 10)\n",
      "443 (32, 64, 64, 3) (32, 10)\n",
      "444 (32, 64, 64, 3) (32, 10)\n",
      "445 (32, 64, 64, 3) (32, 10)\n",
      "446 (32, 64, 64, 3) (32, 10)\n",
      "447 (32, 64, 64, 3) (32, 10)\n",
      "448 (32, 64, 64, 3) (32, 10)\n",
      "449 (32, 64, 64, 3) (32, 10)\n",
      "450 (32, 64, 64, 3) (32, 10)\n",
      "451 (32, 64, 64, 3) (32, 10)\n",
      "452 (32, 64, 64, 3) (32, 10)\n",
      "453 (32, 64, 64, 3) (32, 10)\n",
      "454 (32, 64, 64, 3) (32, 10)\n",
      "455 (32, 64, 64, 3) (32, 10)\n",
      "456 (32, 64, 64, 3) (32, 10)\n",
      "457 (32, 64, 64, 3) (32, 10)\n",
      "458 (32, 64, 64, 3) (32, 10)\n",
      "459 (32, 64, 64, 3) (32, 10)\n",
      "460 (32, 64, 64, 3) (32, 10)\n",
      "461 (32, 64, 64, 3) (32, 10)\n",
      "462 (32, 64, 64, 3) (32, 10)\n",
      "463 (32, 64, 64, 3) (32, 10)\n",
      "464 (32, 64, 64, 3) (32, 10)\n",
      "465 (32, 64, 64, 3) (32, 10)\n",
      "466 (32, 64, 64, 3) (32, 10)\n",
      "467 (32, 64, 64, 3) (32, 10)\n",
      "468 (32, 64, 64, 3) (32, 10)\n",
      "469 (32, 64, 64, 3) (32, 10)\n",
      "470 (32, 64, 64, 3) (32, 10)\n",
      "471 (32, 64, 64, 3) (32, 10)\n",
      "472 (32, 64, 64, 3) (32, 10)\n",
      "473 (32, 64, 64, 3) (32, 10)\n",
      "474 (32, 64, 64, 3) (32, 10)\n",
      "475 (32, 64, 64, 3) (32, 10)\n",
      "476 (32, 64, 64, 3) (32, 10)\n",
      "477 (32, 64, 64, 3) (32, 10)\n",
      "478 (32, 64, 64, 3) (32, 10)\n",
      "479 (32, 64, 64, 3) (32, 10)\n",
      "480 (32, 64, 64, 3) (32, 10)\n",
      "481 (32, 64, 64, 3) (32, 10)\n",
      "482 (32, 64, 64, 3) (32, 10)\n",
      "483 (32, 64, 64, 3) (32, 10)\n",
      "484 (32, 64, 64, 3) (32, 10)\n",
      "485 (32, 64, 64, 3) (32, 10)\n",
      "486 (32, 64, 64, 3) (32, 10)\n",
      "487 (32, 64, 64, 3) (32, 10)\n",
      "488 (32, 64, 64, 3) (32, 10)\n",
      "489 (32, 64, 64, 3) (32, 10)\n",
      "490 (32, 64, 64, 3) (32, 10)\n",
      "491 (32, 64, 64, 3) (32, 10)\n",
      "492 (32, 64, 64, 3) (32, 10)\n",
      "493 (32, 64, 64, 3) (32, 10)\n",
      "494 (32, 64, 64, 3) (32, 10)\n",
      "495 (32, 64, 64, 3) (32, 10)\n",
      "496 (32, 64, 64, 3) (32, 10)\n",
      "497 (32, 64, 64, 3) (32, 10)\n",
      "498 (32, 64, 64, 3) (32, 10)\n",
      "499 (32, 64, 64, 3) (32, 10)\n",
      "500 (32, 64, 64, 3) (32, 10)\n",
      "501 (32, 64, 64, 3) (32, 10)\n",
      "502 (32, 64, 64, 3) (32, 10)\n",
      "503 (32, 64, 64, 3) (32, 10)\n",
      "504 (32, 64, 64, 3) (32, 10)\n",
      "505 (32, 64, 64, 3) (32, 10)\n",
      "506 (8, 64, 64, 3) (8, 10)\n"
     ]
    }
   ],
   "source": [
    "data_gen_train = DataGenerator(path_images=x_train,\n",
    "                               labels=y_train,\n",
    "                               batch_size=BATCH_SIZE,\n",
    "                               n_classes=n_classes,\n",
    "                               target_size=TARGET_SIZE,\n",
    "                               shuffle=True)\n",
    "\n",
    "data_gen_val = DataGenerator(path_images=x_val,\n",
    "                             labels=y_val,\n",
    "                             batch_size=BATCH_SIZE,\n",
    "                             n_classes=n_classes,\n",
    "                             target_size=TARGET_SIZE,\n",
    "                             shuffle=False)\n",
    "\n",
    "# For sanity check, let's see the generator's output\n",
    "for i, (x, y) in enumerate(data_gen_train):\n",
    "    print(i, x.shape, y.shape)"
   ]
  },
  {
   "cell_type": "markdown",
   "metadata": {
    "id": "dah4bJlO-rOW"
   },
   "source": [
    "## **Vanilla CNN for image classification**\n"
   ]
  },
  {
   "cell_type": "markdown",
   "metadata": {
    "id": "dAOghIjKwXuo"
   },
   "source": [
    "Go to the file **`models.py`** and **complete the implementation** of the function **`create_cnn`**.\n",
    "\n",
    "Feel free **to create any CNN** with the following layers: `Conv2D`, `MaxPooling2D`, `BatchNormalization`, `Dropout`, `Flatten` and `Dense`.\n",
    "\n",
    "_Search for the **`TODO:`** comments in the file._\n",
    "\n",
    "Then, create a CNN with a given **number of filters** and **filter size**."
   ]
  },
  {
   "cell_type": "code",
   "execution_count": 19,
   "metadata": {},
   "outputs": [
    {
     "name": "stdout",
     "output_type": "stream",
     "text": [
      "Initializer's Name: Zeros\n"
     ]
    },
    {
     "name": "stderr",
     "output_type": "stream",
     "text": [
      "C:\\Users\\Disha\\anaconda3\\Lib\\site-packages\\keras\\src\\layers\\convolutional\\base_conv.py:99: UserWarning: Do not pass an `input_shape`/`input_dim` argument to a layer. When using Sequential models, prefer using an `Input(shape)` object as the first layer in the model instead.\n",
      "  super().__init__(\n"
     ]
    },
    {
     "data": {
      "text/html": [
       "<pre style=\"white-space:pre;overflow-x:auto;line-height:normal;font-family:Menlo,'DejaVu Sans Mono',consolas,'Courier New',monospace\"><span style=\"font-weight: bold\">Model: \"sequential_5\"</span>\n",
       "</pre>\n"
      ],
      "text/plain": [
       "\u001b[1mModel: \"sequential_5\"\u001b[0m\n"
      ]
     },
     "metadata": {},
     "output_type": "display_data"
    },
    {
     "data": {
      "text/html": [
       "<pre style=\"white-space:pre;overflow-x:auto;line-height:normal;font-family:Menlo,'DejaVu Sans Mono',consolas,'Courier New',monospace\">┏━━━━━━━━━━━━━━━━━━━━━━━━━━━━━━━━━━━━━━┳━━━━━━━━━━━━━━━━━━━━━━━━━━━━━┳━━━━━━━━━━━━━━━━━┓\n",
       "┃<span style=\"font-weight: bold\"> Layer (type)                         </span>┃<span style=\"font-weight: bold\"> Output Shape                </span>┃<span style=\"font-weight: bold\">         Param # </span>┃\n",
       "┡━━━━━━━━━━━━━━━━━━━━━━━━━━━━━━━━━━━━━━╇━━━━━━━━━━━━━━━━━━━━━━━━━━━━━╇━━━━━━━━━━━━━━━━━┩\n",
       "│ conv2d_15 (<span style=\"color: #0087ff; text-decoration-color: #0087ff\">Conv2D</span>)                   │ (<span style=\"color: #00d7ff; text-decoration-color: #00d7ff\">None</span>, <span style=\"color: #00af00; text-decoration-color: #00af00\">64</span>, <span style=\"color: #00af00; text-decoration-color: #00af00\">64</span>, <span style=\"color: #00af00; text-decoration-color: #00af00\">32</span>)          │             <span style=\"color: #00af00; text-decoration-color: #00af00\">896</span> │\n",
       "├──────────────────────────────────────┼─────────────────────────────┼─────────────────┤\n",
       "│ max_pooling2d_15 (<span style=\"color: #0087ff; text-decoration-color: #0087ff\">MaxPooling2D</span>)      │ (<span style=\"color: #00d7ff; text-decoration-color: #00d7ff\">None</span>, <span style=\"color: #00af00; text-decoration-color: #00af00\">32</span>, <span style=\"color: #00af00; text-decoration-color: #00af00\">32</span>, <span style=\"color: #00af00; text-decoration-color: #00af00\">32</span>)          │               <span style=\"color: #00af00; text-decoration-color: #00af00\">0</span> │\n",
       "├──────────────────────────────────────┼─────────────────────────────┼─────────────────┤\n",
       "│ batch_normalization_15               │ (<span style=\"color: #00d7ff; text-decoration-color: #00d7ff\">None</span>, <span style=\"color: #00af00; text-decoration-color: #00af00\">32</span>, <span style=\"color: #00af00; text-decoration-color: #00af00\">32</span>, <span style=\"color: #00af00; text-decoration-color: #00af00\">32</span>)          │             <span style=\"color: #00af00; text-decoration-color: #00af00\">128</span> │\n",
       "│ (<span style=\"color: #0087ff; text-decoration-color: #0087ff\">BatchNormalization</span>)                 │                             │                 │\n",
       "├──────────────────────────────────────┼─────────────────────────────┼─────────────────┤\n",
       "│ conv2d_16 (<span style=\"color: #0087ff; text-decoration-color: #0087ff\">Conv2D</span>)                   │ (<span style=\"color: #00d7ff; text-decoration-color: #00d7ff\">None</span>, <span style=\"color: #00af00; text-decoration-color: #00af00\">32</span>, <span style=\"color: #00af00; text-decoration-color: #00af00\">32</span>, <span style=\"color: #00af00; text-decoration-color: #00af00\">64</span>)          │          <span style=\"color: #00af00; text-decoration-color: #00af00\">18,496</span> │\n",
       "├──────────────────────────────────────┼─────────────────────────────┼─────────────────┤\n",
       "│ max_pooling2d_16 (<span style=\"color: #0087ff; text-decoration-color: #0087ff\">MaxPooling2D</span>)      │ (<span style=\"color: #00d7ff; text-decoration-color: #00d7ff\">None</span>, <span style=\"color: #00af00; text-decoration-color: #00af00\">16</span>, <span style=\"color: #00af00; text-decoration-color: #00af00\">16</span>, <span style=\"color: #00af00; text-decoration-color: #00af00\">64</span>)          │               <span style=\"color: #00af00; text-decoration-color: #00af00\">0</span> │\n",
       "├──────────────────────────────────────┼─────────────────────────────┼─────────────────┤\n",
       "│ batch_normalization_16               │ (<span style=\"color: #00d7ff; text-decoration-color: #00d7ff\">None</span>, <span style=\"color: #00af00; text-decoration-color: #00af00\">16</span>, <span style=\"color: #00af00; text-decoration-color: #00af00\">16</span>, <span style=\"color: #00af00; text-decoration-color: #00af00\">64</span>)          │             <span style=\"color: #00af00; text-decoration-color: #00af00\">256</span> │\n",
       "│ (<span style=\"color: #0087ff; text-decoration-color: #0087ff\">BatchNormalization</span>)                 │                             │                 │\n",
       "├──────────────────────────────────────┼─────────────────────────────┼─────────────────┤\n",
       "│ conv2d_17 (<span style=\"color: #0087ff; text-decoration-color: #0087ff\">Conv2D</span>)                   │ (<span style=\"color: #00d7ff; text-decoration-color: #00d7ff\">None</span>, <span style=\"color: #00af00; text-decoration-color: #00af00\">16</span>, <span style=\"color: #00af00; text-decoration-color: #00af00\">16</span>, <span style=\"color: #00af00; text-decoration-color: #00af00\">128</span>)         │          <span style=\"color: #00af00; text-decoration-color: #00af00\">73,856</span> │\n",
       "├──────────────────────────────────────┼─────────────────────────────┼─────────────────┤\n",
       "│ max_pooling2d_17 (<span style=\"color: #0087ff; text-decoration-color: #0087ff\">MaxPooling2D</span>)      │ (<span style=\"color: #00d7ff; text-decoration-color: #00d7ff\">None</span>, <span style=\"color: #00af00; text-decoration-color: #00af00\">8</span>, <span style=\"color: #00af00; text-decoration-color: #00af00\">8</span>, <span style=\"color: #00af00; text-decoration-color: #00af00\">128</span>)           │               <span style=\"color: #00af00; text-decoration-color: #00af00\">0</span> │\n",
       "├──────────────────────────────────────┼─────────────────────────────┼─────────────────┤\n",
       "│ batch_normalization_17               │ (<span style=\"color: #00d7ff; text-decoration-color: #00d7ff\">None</span>, <span style=\"color: #00af00; text-decoration-color: #00af00\">8</span>, <span style=\"color: #00af00; text-decoration-color: #00af00\">8</span>, <span style=\"color: #00af00; text-decoration-color: #00af00\">128</span>)           │             <span style=\"color: #00af00; text-decoration-color: #00af00\">512</span> │\n",
       "│ (<span style=\"color: #0087ff; text-decoration-color: #0087ff\">BatchNormalization</span>)                 │                             │                 │\n",
       "├──────────────────────────────────────┼─────────────────────────────┼─────────────────┤\n",
       "│ flatten_5 (<span style=\"color: #0087ff; text-decoration-color: #0087ff\">Flatten</span>)                  │ (<span style=\"color: #00d7ff; text-decoration-color: #00d7ff\">None</span>, <span style=\"color: #00af00; text-decoration-color: #00af00\">8192</span>)                │               <span style=\"color: #00af00; text-decoration-color: #00af00\">0</span> │\n",
       "├──────────────────────────────────────┼─────────────────────────────┼─────────────────┤\n",
       "│ dense_10 (<span style=\"color: #0087ff; text-decoration-color: #0087ff\">Dense</span>)                     │ (<span style=\"color: #00d7ff; text-decoration-color: #00d7ff\">None</span>, <span style=\"color: #00af00; text-decoration-color: #00af00\">128</span>)                 │       <span style=\"color: #00af00; text-decoration-color: #00af00\">1,048,704</span> │\n",
       "├──────────────────────────────────────┼─────────────────────────────┼─────────────────┤\n",
       "│ dropout_5 (<span style=\"color: #0087ff; text-decoration-color: #0087ff\">Dropout</span>)                  │ (<span style=\"color: #00d7ff; text-decoration-color: #00d7ff\">None</span>, <span style=\"color: #00af00; text-decoration-color: #00af00\">128</span>)                 │               <span style=\"color: #00af00; text-decoration-color: #00af00\">0</span> │\n",
       "├──────────────────────────────────────┼─────────────────────────────┼─────────────────┤\n",
       "│ dense_11 (<span style=\"color: #0087ff; text-decoration-color: #0087ff\">Dense</span>)                     │ (<span style=\"color: #00d7ff; text-decoration-color: #00d7ff\">None</span>, <span style=\"color: #00af00; text-decoration-color: #00af00\">10</span>)                  │           <span style=\"color: #00af00; text-decoration-color: #00af00\">1,290</span> │\n",
       "└──────────────────────────────────────┴─────────────────────────────┴─────────────────┘\n",
       "</pre>\n"
      ],
      "text/plain": [
       "┏━━━━━━━━━━━━━━━━━━━━━━━━━━━━━━━━━━━━━━┳━━━━━━━━━━━━━━━━━━━━━━━━━━━━━┳━━━━━━━━━━━━━━━━━┓\n",
       "┃\u001b[1m \u001b[0m\u001b[1mLayer (type)                        \u001b[0m\u001b[1m \u001b[0m┃\u001b[1m \u001b[0m\u001b[1mOutput Shape               \u001b[0m\u001b[1m \u001b[0m┃\u001b[1m \u001b[0m\u001b[1m        Param #\u001b[0m\u001b[1m \u001b[0m┃\n",
       "┡━━━━━━━━━━━━━━━━━━━━━━━━━━━━━━━━━━━━━━╇━━━━━━━━━━━━━━━━━━━━━━━━━━━━━╇━━━━━━━━━━━━━━━━━┩\n",
       "│ conv2d_15 (\u001b[38;5;33mConv2D\u001b[0m)                   │ (\u001b[38;5;45mNone\u001b[0m, \u001b[38;5;34m64\u001b[0m, \u001b[38;5;34m64\u001b[0m, \u001b[38;5;34m32\u001b[0m)          │             \u001b[38;5;34m896\u001b[0m │\n",
       "├──────────────────────────────────────┼─────────────────────────────┼─────────────────┤\n",
       "│ max_pooling2d_15 (\u001b[38;5;33mMaxPooling2D\u001b[0m)      │ (\u001b[38;5;45mNone\u001b[0m, \u001b[38;5;34m32\u001b[0m, \u001b[38;5;34m32\u001b[0m, \u001b[38;5;34m32\u001b[0m)          │               \u001b[38;5;34m0\u001b[0m │\n",
       "├──────────────────────────────────────┼─────────────────────────────┼─────────────────┤\n",
       "│ batch_normalization_15               │ (\u001b[38;5;45mNone\u001b[0m, \u001b[38;5;34m32\u001b[0m, \u001b[38;5;34m32\u001b[0m, \u001b[38;5;34m32\u001b[0m)          │             \u001b[38;5;34m128\u001b[0m │\n",
       "│ (\u001b[38;5;33mBatchNormalization\u001b[0m)                 │                             │                 │\n",
       "├──────────────────────────────────────┼─────────────────────────────┼─────────────────┤\n",
       "│ conv2d_16 (\u001b[38;5;33mConv2D\u001b[0m)                   │ (\u001b[38;5;45mNone\u001b[0m, \u001b[38;5;34m32\u001b[0m, \u001b[38;5;34m32\u001b[0m, \u001b[38;5;34m64\u001b[0m)          │          \u001b[38;5;34m18,496\u001b[0m │\n",
       "├──────────────────────────────────────┼─────────────────────────────┼─────────────────┤\n",
       "│ max_pooling2d_16 (\u001b[38;5;33mMaxPooling2D\u001b[0m)      │ (\u001b[38;5;45mNone\u001b[0m, \u001b[38;5;34m16\u001b[0m, \u001b[38;5;34m16\u001b[0m, \u001b[38;5;34m64\u001b[0m)          │               \u001b[38;5;34m0\u001b[0m │\n",
       "├──────────────────────────────────────┼─────────────────────────────┼─────────────────┤\n",
       "│ batch_normalization_16               │ (\u001b[38;5;45mNone\u001b[0m, \u001b[38;5;34m16\u001b[0m, \u001b[38;5;34m16\u001b[0m, \u001b[38;5;34m64\u001b[0m)          │             \u001b[38;5;34m256\u001b[0m │\n",
       "│ (\u001b[38;5;33mBatchNormalization\u001b[0m)                 │                             │                 │\n",
       "├──────────────────────────────────────┼─────────────────────────────┼─────────────────┤\n",
       "│ conv2d_17 (\u001b[38;5;33mConv2D\u001b[0m)                   │ (\u001b[38;5;45mNone\u001b[0m, \u001b[38;5;34m16\u001b[0m, \u001b[38;5;34m16\u001b[0m, \u001b[38;5;34m128\u001b[0m)         │          \u001b[38;5;34m73,856\u001b[0m │\n",
       "├──────────────────────────────────────┼─────────────────────────────┼─────────────────┤\n",
       "│ max_pooling2d_17 (\u001b[38;5;33mMaxPooling2D\u001b[0m)      │ (\u001b[38;5;45mNone\u001b[0m, \u001b[38;5;34m8\u001b[0m, \u001b[38;5;34m8\u001b[0m, \u001b[38;5;34m128\u001b[0m)           │               \u001b[38;5;34m0\u001b[0m │\n",
       "├──────────────────────────────────────┼─────────────────────────────┼─────────────────┤\n",
       "│ batch_normalization_17               │ (\u001b[38;5;45mNone\u001b[0m, \u001b[38;5;34m8\u001b[0m, \u001b[38;5;34m8\u001b[0m, \u001b[38;5;34m128\u001b[0m)           │             \u001b[38;5;34m512\u001b[0m │\n",
       "│ (\u001b[38;5;33mBatchNormalization\u001b[0m)                 │                             │                 │\n",
       "├──────────────────────────────────────┼─────────────────────────────┼─────────────────┤\n",
       "│ flatten_5 (\u001b[38;5;33mFlatten\u001b[0m)                  │ (\u001b[38;5;45mNone\u001b[0m, \u001b[38;5;34m8192\u001b[0m)                │               \u001b[38;5;34m0\u001b[0m │\n",
       "├──────────────────────────────────────┼─────────────────────────────┼─────────────────┤\n",
       "│ dense_10 (\u001b[38;5;33mDense\u001b[0m)                     │ (\u001b[38;5;45mNone\u001b[0m, \u001b[38;5;34m128\u001b[0m)                 │       \u001b[38;5;34m1,048,704\u001b[0m │\n",
       "├──────────────────────────────────────┼─────────────────────────────┼─────────────────┤\n",
       "│ dropout_5 (\u001b[38;5;33mDropout\u001b[0m)                  │ (\u001b[38;5;45mNone\u001b[0m, \u001b[38;5;34m128\u001b[0m)                 │               \u001b[38;5;34m0\u001b[0m │\n",
       "├──────────────────────────────────────┼─────────────────────────────┼─────────────────┤\n",
       "│ dense_11 (\u001b[38;5;33mDense\u001b[0m)                     │ (\u001b[38;5;45mNone\u001b[0m, \u001b[38;5;34m10\u001b[0m)                  │           \u001b[38;5;34m1,290\u001b[0m │\n",
       "└──────────────────────────────────────┴─────────────────────────────┴─────────────────┘\n"
      ]
     },
     "metadata": {},
     "output_type": "display_data"
    },
    {
     "data": {
      "text/html": [
       "<pre style=\"white-space:pre;overflow-x:auto;line-height:normal;font-family:Menlo,'DejaVu Sans Mono',consolas,'Courier New',monospace\"><span style=\"font-weight: bold\"> Total params: </span><span style=\"color: #00af00; text-decoration-color: #00af00\">1,144,138</span> (4.36 MB)\n",
       "</pre>\n"
      ],
      "text/plain": [
       "\u001b[1m Total params: \u001b[0m\u001b[38;5;34m1,144,138\u001b[0m (4.36 MB)\n"
      ]
     },
     "metadata": {},
     "output_type": "display_data"
    },
    {
     "data": {
      "text/html": [
       "<pre style=\"white-space:pre;overflow-x:auto;line-height:normal;font-family:Menlo,'DejaVu Sans Mono',consolas,'Courier New',monospace\"><span style=\"font-weight: bold\"> Trainable params: </span><span style=\"color: #00af00; text-decoration-color: #00af00\">1,143,690</span> (4.36 MB)\n",
       "</pre>\n"
      ],
      "text/plain": [
       "\u001b[1m Trainable params: \u001b[0m\u001b[38;5;34m1,143,690\u001b[0m (4.36 MB)\n"
      ]
     },
     "metadata": {},
     "output_type": "display_data"
    },
    {
     "data": {
      "text/html": [
       "<pre style=\"white-space:pre;overflow-x:auto;line-height:normal;font-family:Menlo,'DejaVu Sans Mono',consolas,'Courier New',monospace\"><span style=\"font-weight: bold\"> Non-trainable params: </span><span style=\"color: #00af00; text-decoration-color: #00af00\">448</span> (1.75 KB)\n",
       "</pre>\n"
      ],
      "text/plain": [
       "\u001b[1m Non-trainable params: \u001b[0m\u001b[38;5;34m448\u001b[0m (1.75 KB)\n"
      ]
     },
     "metadata": {},
     "output_type": "display_data"
    },
    {
     "name": "stdout",
     "output_type": "stream",
     "text": [
      "Initializer's Name: Ones\n"
     ]
    },
    {
     "data": {
      "text/html": [
       "<pre style=\"white-space:pre;overflow-x:auto;line-height:normal;font-family:Menlo,'DejaVu Sans Mono',consolas,'Courier New',monospace\"><span style=\"font-weight: bold\">Model: \"sequential_6\"</span>\n",
       "</pre>\n"
      ],
      "text/plain": [
       "\u001b[1mModel: \"sequential_6\"\u001b[0m\n"
      ]
     },
     "metadata": {},
     "output_type": "display_data"
    },
    {
     "data": {
      "text/html": [
       "<pre style=\"white-space:pre;overflow-x:auto;line-height:normal;font-family:Menlo,'DejaVu Sans Mono',consolas,'Courier New',monospace\">┏━━━━━━━━━━━━━━━━━━━━━━━━━━━━━━━━━━━━━━┳━━━━━━━━━━━━━━━━━━━━━━━━━━━━━┳━━━━━━━━━━━━━━━━━┓\n",
       "┃<span style=\"font-weight: bold\"> Layer (type)                         </span>┃<span style=\"font-weight: bold\"> Output Shape                </span>┃<span style=\"font-weight: bold\">         Param # </span>┃\n",
       "┡━━━━━━━━━━━━━━━━━━━━━━━━━━━━━━━━━━━━━━╇━━━━━━━━━━━━━━━━━━━━━━━━━━━━━╇━━━━━━━━━━━━━━━━━┩\n",
       "│ conv2d_18 (<span style=\"color: #0087ff; text-decoration-color: #0087ff\">Conv2D</span>)                   │ (<span style=\"color: #00d7ff; text-decoration-color: #00d7ff\">None</span>, <span style=\"color: #00af00; text-decoration-color: #00af00\">64</span>, <span style=\"color: #00af00; text-decoration-color: #00af00\">64</span>, <span style=\"color: #00af00; text-decoration-color: #00af00\">32</span>)          │             <span style=\"color: #00af00; text-decoration-color: #00af00\">896</span> │\n",
       "├──────────────────────────────────────┼─────────────────────────────┼─────────────────┤\n",
       "│ max_pooling2d_18 (<span style=\"color: #0087ff; text-decoration-color: #0087ff\">MaxPooling2D</span>)      │ (<span style=\"color: #00d7ff; text-decoration-color: #00d7ff\">None</span>, <span style=\"color: #00af00; text-decoration-color: #00af00\">32</span>, <span style=\"color: #00af00; text-decoration-color: #00af00\">32</span>, <span style=\"color: #00af00; text-decoration-color: #00af00\">32</span>)          │               <span style=\"color: #00af00; text-decoration-color: #00af00\">0</span> │\n",
       "├──────────────────────────────────────┼─────────────────────────────┼─────────────────┤\n",
       "│ batch_normalization_18               │ (<span style=\"color: #00d7ff; text-decoration-color: #00d7ff\">None</span>, <span style=\"color: #00af00; text-decoration-color: #00af00\">32</span>, <span style=\"color: #00af00; text-decoration-color: #00af00\">32</span>, <span style=\"color: #00af00; text-decoration-color: #00af00\">32</span>)          │             <span style=\"color: #00af00; text-decoration-color: #00af00\">128</span> │\n",
       "│ (<span style=\"color: #0087ff; text-decoration-color: #0087ff\">BatchNormalization</span>)                 │                             │                 │\n",
       "├──────────────────────────────────────┼─────────────────────────────┼─────────────────┤\n",
       "│ conv2d_19 (<span style=\"color: #0087ff; text-decoration-color: #0087ff\">Conv2D</span>)                   │ (<span style=\"color: #00d7ff; text-decoration-color: #00d7ff\">None</span>, <span style=\"color: #00af00; text-decoration-color: #00af00\">32</span>, <span style=\"color: #00af00; text-decoration-color: #00af00\">32</span>, <span style=\"color: #00af00; text-decoration-color: #00af00\">64</span>)          │          <span style=\"color: #00af00; text-decoration-color: #00af00\">18,496</span> │\n",
       "├──────────────────────────────────────┼─────────────────────────────┼─────────────────┤\n",
       "│ max_pooling2d_19 (<span style=\"color: #0087ff; text-decoration-color: #0087ff\">MaxPooling2D</span>)      │ (<span style=\"color: #00d7ff; text-decoration-color: #00d7ff\">None</span>, <span style=\"color: #00af00; text-decoration-color: #00af00\">16</span>, <span style=\"color: #00af00; text-decoration-color: #00af00\">16</span>, <span style=\"color: #00af00; text-decoration-color: #00af00\">64</span>)          │               <span style=\"color: #00af00; text-decoration-color: #00af00\">0</span> │\n",
       "├──────────────────────────────────────┼─────────────────────────────┼─────────────────┤\n",
       "│ batch_normalization_19               │ (<span style=\"color: #00d7ff; text-decoration-color: #00d7ff\">None</span>, <span style=\"color: #00af00; text-decoration-color: #00af00\">16</span>, <span style=\"color: #00af00; text-decoration-color: #00af00\">16</span>, <span style=\"color: #00af00; text-decoration-color: #00af00\">64</span>)          │             <span style=\"color: #00af00; text-decoration-color: #00af00\">256</span> │\n",
       "│ (<span style=\"color: #0087ff; text-decoration-color: #0087ff\">BatchNormalization</span>)                 │                             │                 │\n",
       "├──────────────────────────────────────┼─────────────────────────────┼─────────────────┤\n",
       "│ conv2d_20 (<span style=\"color: #0087ff; text-decoration-color: #0087ff\">Conv2D</span>)                   │ (<span style=\"color: #00d7ff; text-decoration-color: #00d7ff\">None</span>, <span style=\"color: #00af00; text-decoration-color: #00af00\">16</span>, <span style=\"color: #00af00; text-decoration-color: #00af00\">16</span>, <span style=\"color: #00af00; text-decoration-color: #00af00\">128</span>)         │          <span style=\"color: #00af00; text-decoration-color: #00af00\">73,856</span> │\n",
       "├──────────────────────────────────────┼─────────────────────────────┼─────────────────┤\n",
       "│ max_pooling2d_20 (<span style=\"color: #0087ff; text-decoration-color: #0087ff\">MaxPooling2D</span>)      │ (<span style=\"color: #00d7ff; text-decoration-color: #00d7ff\">None</span>, <span style=\"color: #00af00; text-decoration-color: #00af00\">8</span>, <span style=\"color: #00af00; text-decoration-color: #00af00\">8</span>, <span style=\"color: #00af00; text-decoration-color: #00af00\">128</span>)           │               <span style=\"color: #00af00; text-decoration-color: #00af00\">0</span> │\n",
       "├──────────────────────────────────────┼─────────────────────────────┼─────────────────┤\n",
       "│ batch_normalization_20               │ (<span style=\"color: #00d7ff; text-decoration-color: #00d7ff\">None</span>, <span style=\"color: #00af00; text-decoration-color: #00af00\">8</span>, <span style=\"color: #00af00; text-decoration-color: #00af00\">8</span>, <span style=\"color: #00af00; text-decoration-color: #00af00\">128</span>)           │             <span style=\"color: #00af00; text-decoration-color: #00af00\">512</span> │\n",
       "│ (<span style=\"color: #0087ff; text-decoration-color: #0087ff\">BatchNormalization</span>)                 │                             │                 │\n",
       "├──────────────────────────────────────┼─────────────────────────────┼─────────────────┤\n",
       "│ flatten_6 (<span style=\"color: #0087ff; text-decoration-color: #0087ff\">Flatten</span>)                  │ (<span style=\"color: #00d7ff; text-decoration-color: #00d7ff\">None</span>, <span style=\"color: #00af00; text-decoration-color: #00af00\">8192</span>)                │               <span style=\"color: #00af00; text-decoration-color: #00af00\">0</span> │\n",
       "├──────────────────────────────────────┼─────────────────────────────┼─────────────────┤\n",
       "│ dense_12 (<span style=\"color: #0087ff; text-decoration-color: #0087ff\">Dense</span>)                     │ (<span style=\"color: #00d7ff; text-decoration-color: #00d7ff\">None</span>, <span style=\"color: #00af00; text-decoration-color: #00af00\">128</span>)                 │       <span style=\"color: #00af00; text-decoration-color: #00af00\">1,048,704</span> │\n",
       "├──────────────────────────────────────┼─────────────────────────────┼─────────────────┤\n",
       "│ dropout_6 (<span style=\"color: #0087ff; text-decoration-color: #0087ff\">Dropout</span>)                  │ (<span style=\"color: #00d7ff; text-decoration-color: #00d7ff\">None</span>, <span style=\"color: #00af00; text-decoration-color: #00af00\">128</span>)                 │               <span style=\"color: #00af00; text-decoration-color: #00af00\">0</span> │\n",
       "├──────────────────────────────────────┼─────────────────────────────┼─────────────────┤\n",
       "│ dense_13 (<span style=\"color: #0087ff; text-decoration-color: #0087ff\">Dense</span>)                     │ (<span style=\"color: #00d7ff; text-decoration-color: #00d7ff\">None</span>, <span style=\"color: #00af00; text-decoration-color: #00af00\">10</span>)                  │           <span style=\"color: #00af00; text-decoration-color: #00af00\">1,290</span> │\n",
       "└──────────────────────────────────────┴─────────────────────────────┴─────────────────┘\n",
       "</pre>\n"
      ],
      "text/plain": [
       "┏━━━━━━━━━━━━━━━━━━━━━━━━━━━━━━━━━━━━━━┳━━━━━━━━━━━━━━━━━━━━━━━━━━━━━┳━━━━━━━━━━━━━━━━━┓\n",
       "┃\u001b[1m \u001b[0m\u001b[1mLayer (type)                        \u001b[0m\u001b[1m \u001b[0m┃\u001b[1m \u001b[0m\u001b[1mOutput Shape               \u001b[0m\u001b[1m \u001b[0m┃\u001b[1m \u001b[0m\u001b[1m        Param #\u001b[0m\u001b[1m \u001b[0m┃\n",
       "┡━━━━━━━━━━━━━━━━━━━━━━━━━━━━━━━━━━━━━━╇━━━━━━━━━━━━━━━━━━━━━━━━━━━━━╇━━━━━━━━━━━━━━━━━┩\n",
       "│ conv2d_18 (\u001b[38;5;33mConv2D\u001b[0m)                   │ (\u001b[38;5;45mNone\u001b[0m, \u001b[38;5;34m64\u001b[0m, \u001b[38;5;34m64\u001b[0m, \u001b[38;5;34m32\u001b[0m)          │             \u001b[38;5;34m896\u001b[0m │\n",
       "├──────────────────────────────────────┼─────────────────────────────┼─────────────────┤\n",
       "│ max_pooling2d_18 (\u001b[38;5;33mMaxPooling2D\u001b[0m)      │ (\u001b[38;5;45mNone\u001b[0m, \u001b[38;5;34m32\u001b[0m, \u001b[38;5;34m32\u001b[0m, \u001b[38;5;34m32\u001b[0m)          │               \u001b[38;5;34m0\u001b[0m │\n",
       "├──────────────────────────────────────┼─────────────────────────────┼─────────────────┤\n",
       "│ batch_normalization_18               │ (\u001b[38;5;45mNone\u001b[0m, \u001b[38;5;34m32\u001b[0m, \u001b[38;5;34m32\u001b[0m, \u001b[38;5;34m32\u001b[0m)          │             \u001b[38;5;34m128\u001b[0m │\n",
       "│ (\u001b[38;5;33mBatchNormalization\u001b[0m)                 │                             │                 │\n",
       "├──────────────────────────────────────┼─────────────────────────────┼─────────────────┤\n",
       "│ conv2d_19 (\u001b[38;5;33mConv2D\u001b[0m)                   │ (\u001b[38;5;45mNone\u001b[0m, \u001b[38;5;34m32\u001b[0m, \u001b[38;5;34m32\u001b[0m, \u001b[38;5;34m64\u001b[0m)          │          \u001b[38;5;34m18,496\u001b[0m │\n",
       "├──────────────────────────────────────┼─────────────────────────────┼─────────────────┤\n",
       "│ max_pooling2d_19 (\u001b[38;5;33mMaxPooling2D\u001b[0m)      │ (\u001b[38;5;45mNone\u001b[0m, \u001b[38;5;34m16\u001b[0m, \u001b[38;5;34m16\u001b[0m, \u001b[38;5;34m64\u001b[0m)          │               \u001b[38;5;34m0\u001b[0m │\n",
       "├──────────────────────────────────────┼─────────────────────────────┼─────────────────┤\n",
       "│ batch_normalization_19               │ (\u001b[38;5;45mNone\u001b[0m, \u001b[38;5;34m16\u001b[0m, \u001b[38;5;34m16\u001b[0m, \u001b[38;5;34m64\u001b[0m)          │             \u001b[38;5;34m256\u001b[0m │\n",
       "│ (\u001b[38;5;33mBatchNormalization\u001b[0m)                 │                             │                 │\n",
       "├──────────────────────────────────────┼─────────────────────────────┼─────────────────┤\n",
       "│ conv2d_20 (\u001b[38;5;33mConv2D\u001b[0m)                   │ (\u001b[38;5;45mNone\u001b[0m, \u001b[38;5;34m16\u001b[0m, \u001b[38;5;34m16\u001b[0m, \u001b[38;5;34m128\u001b[0m)         │          \u001b[38;5;34m73,856\u001b[0m │\n",
       "├──────────────────────────────────────┼─────────────────────────────┼─────────────────┤\n",
       "│ max_pooling2d_20 (\u001b[38;5;33mMaxPooling2D\u001b[0m)      │ (\u001b[38;5;45mNone\u001b[0m, \u001b[38;5;34m8\u001b[0m, \u001b[38;5;34m8\u001b[0m, \u001b[38;5;34m128\u001b[0m)           │               \u001b[38;5;34m0\u001b[0m │\n",
       "├──────────────────────────────────────┼─────────────────────────────┼─────────────────┤\n",
       "│ batch_normalization_20               │ (\u001b[38;5;45mNone\u001b[0m, \u001b[38;5;34m8\u001b[0m, \u001b[38;5;34m8\u001b[0m, \u001b[38;5;34m128\u001b[0m)           │             \u001b[38;5;34m512\u001b[0m │\n",
       "│ (\u001b[38;5;33mBatchNormalization\u001b[0m)                 │                             │                 │\n",
       "├──────────────────────────────────────┼─────────────────────────────┼─────────────────┤\n",
       "│ flatten_6 (\u001b[38;5;33mFlatten\u001b[0m)                  │ (\u001b[38;5;45mNone\u001b[0m, \u001b[38;5;34m8192\u001b[0m)                │               \u001b[38;5;34m0\u001b[0m │\n",
       "├──────────────────────────────────────┼─────────────────────────────┼─────────────────┤\n",
       "│ dense_12 (\u001b[38;5;33mDense\u001b[0m)                     │ (\u001b[38;5;45mNone\u001b[0m, \u001b[38;5;34m128\u001b[0m)                 │       \u001b[38;5;34m1,048,704\u001b[0m │\n",
       "├──────────────────────────────────────┼─────────────────────────────┼─────────────────┤\n",
       "│ dropout_6 (\u001b[38;5;33mDropout\u001b[0m)                  │ (\u001b[38;5;45mNone\u001b[0m, \u001b[38;5;34m128\u001b[0m)                 │               \u001b[38;5;34m0\u001b[0m │\n",
       "├──────────────────────────────────────┼─────────────────────────────┼─────────────────┤\n",
       "│ dense_13 (\u001b[38;5;33mDense\u001b[0m)                     │ (\u001b[38;5;45mNone\u001b[0m, \u001b[38;5;34m10\u001b[0m)                  │           \u001b[38;5;34m1,290\u001b[0m │\n",
       "└──────────────────────────────────────┴─────────────────────────────┴─────────────────┘\n"
      ]
     },
     "metadata": {},
     "output_type": "display_data"
    },
    {
     "data": {
      "text/html": [
       "<pre style=\"white-space:pre;overflow-x:auto;line-height:normal;font-family:Menlo,'DejaVu Sans Mono',consolas,'Courier New',monospace\"><span style=\"font-weight: bold\"> Total params: </span><span style=\"color: #00af00; text-decoration-color: #00af00\">1,144,138</span> (4.36 MB)\n",
       "</pre>\n"
      ],
      "text/plain": [
       "\u001b[1m Total params: \u001b[0m\u001b[38;5;34m1,144,138\u001b[0m (4.36 MB)\n"
      ]
     },
     "metadata": {},
     "output_type": "display_data"
    },
    {
     "data": {
      "text/html": [
       "<pre style=\"white-space:pre;overflow-x:auto;line-height:normal;font-family:Menlo,'DejaVu Sans Mono',consolas,'Courier New',monospace\"><span style=\"font-weight: bold\"> Trainable params: </span><span style=\"color: #00af00; text-decoration-color: #00af00\">1,143,690</span> (4.36 MB)\n",
       "</pre>\n"
      ],
      "text/plain": [
       "\u001b[1m Trainable params: \u001b[0m\u001b[38;5;34m1,143,690\u001b[0m (4.36 MB)\n"
      ]
     },
     "metadata": {},
     "output_type": "display_data"
    },
    {
     "data": {
      "text/html": [
       "<pre style=\"white-space:pre;overflow-x:auto;line-height:normal;font-family:Menlo,'DejaVu Sans Mono',consolas,'Courier New',monospace\"><span style=\"font-weight: bold\"> Non-trainable params: </span><span style=\"color: #00af00; text-decoration-color: #00af00\">448</span> (1.75 KB)\n",
       "</pre>\n"
      ],
      "text/plain": [
       "\u001b[1m Non-trainable params: \u001b[0m\u001b[38;5;34m448\u001b[0m (1.75 KB)\n"
      ]
     },
     "metadata": {},
     "output_type": "display_data"
    },
    {
     "name": "stdout",
     "output_type": "stream",
     "text": [
      "Initializer's Name: Random\n"
     ]
    },
    {
     "data": {
      "text/html": [
       "<pre style=\"white-space:pre;overflow-x:auto;line-height:normal;font-family:Menlo,'DejaVu Sans Mono',consolas,'Courier New',monospace\"><span style=\"font-weight: bold\">Model: \"sequential_7\"</span>\n",
       "</pre>\n"
      ],
      "text/plain": [
       "\u001b[1mModel: \"sequential_7\"\u001b[0m\n"
      ]
     },
     "metadata": {},
     "output_type": "display_data"
    },
    {
     "data": {
      "text/html": [
       "<pre style=\"white-space:pre;overflow-x:auto;line-height:normal;font-family:Menlo,'DejaVu Sans Mono',consolas,'Courier New',monospace\">┏━━━━━━━━━━━━━━━━━━━━━━━━━━━━━━━━━━━━━━┳━━━━━━━━━━━━━━━━━━━━━━━━━━━━━┳━━━━━━━━━━━━━━━━━┓\n",
       "┃<span style=\"font-weight: bold\"> Layer (type)                         </span>┃<span style=\"font-weight: bold\"> Output Shape                </span>┃<span style=\"font-weight: bold\">         Param # </span>┃\n",
       "┡━━━━━━━━━━━━━━━━━━━━━━━━━━━━━━━━━━━━━━╇━━━━━━━━━━━━━━━━━━━━━━━━━━━━━╇━━━━━━━━━━━━━━━━━┩\n",
       "│ conv2d_21 (<span style=\"color: #0087ff; text-decoration-color: #0087ff\">Conv2D</span>)                   │ (<span style=\"color: #00d7ff; text-decoration-color: #00d7ff\">None</span>, <span style=\"color: #00af00; text-decoration-color: #00af00\">64</span>, <span style=\"color: #00af00; text-decoration-color: #00af00\">64</span>, <span style=\"color: #00af00; text-decoration-color: #00af00\">32</span>)          │             <span style=\"color: #00af00; text-decoration-color: #00af00\">896</span> │\n",
       "├──────────────────────────────────────┼─────────────────────────────┼─────────────────┤\n",
       "│ max_pooling2d_21 (<span style=\"color: #0087ff; text-decoration-color: #0087ff\">MaxPooling2D</span>)      │ (<span style=\"color: #00d7ff; text-decoration-color: #00d7ff\">None</span>, <span style=\"color: #00af00; text-decoration-color: #00af00\">32</span>, <span style=\"color: #00af00; text-decoration-color: #00af00\">32</span>, <span style=\"color: #00af00; text-decoration-color: #00af00\">32</span>)          │               <span style=\"color: #00af00; text-decoration-color: #00af00\">0</span> │\n",
       "├──────────────────────────────────────┼─────────────────────────────┼─────────────────┤\n",
       "│ batch_normalization_21               │ (<span style=\"color: #00d7ff; text-decoration-color: #00d7ff\">None</span>, <span style=\"color: #00af00; text-decoration-color: #00af00\">32</span>, <span style=\"color: #00af00; text-decoration-color: #00af00\">32</span>, <span style=\"color: #00af00; text-decoration-color: #00af00\">32</span>)          │             <span style=\"color: #00af00; text-decoration-color: #00af00\">128</span> │\n",
       "│ (<span style=\"color: #0087ff; text-decoration-color: #0087ff\">BatchNormalization</span>)                 │                             │                 │\n",
       "├──────────────────────────────────────┼─────────────────────────────┼─────────────────┤\n",
       "│ conv2d_22 (<span style=\"color: #0087ff; text-decoration-color: #0087ff\">Conv2D</span>)                   │ (<span style=\"color: #00d7ff; text-decoration-color: #00d7ff\">None</span>, <span style=\"color: #00af00; text-decoration-color: #00af00\">32</span>, <span style=\"color: #00af00; text-decoration-color: #00af00\">32</span>, <span style=\"color: #00af00; text-decoration-color: #00af00\">64</span>)          │          <span style=\"color: #00af00; text-decoration-color: #00af00\">18,496</span> │\n",
       "├──────────────────────────────────────┼─────────────────────────────┼─────────────────┤\n",
       "│ max_pooling2d_22 (<span style=\"color: #0087ff; text-decoration-color: #0087ff\">MaxPooling2D</span>)      │ (<span style=\"color: #00d7ff; text-decoration-color: #00d7ff\">None</span>, <span style=\"color: #00af00; text-decoration-color: #00af00\">16</span>, <span style=\"color: #00af00; text-decoration-color: #00af00\">16</span>, <span style=\"color: #00af00; text-decoration-color: #00af00\">64</span>)          │               <span style=\"color: #00af00; text-decoration-color: #00af00\">0</span> │\n",
       "├──────────────────────────────────────┼─────────────────────────────┼─────────────────┤\n",
       "│ batch_normalization_22               │ (<span style=\"color: #00d7ff; text-decoration-color: #00d7ff\">None</span>, <span style=\"color: #00af00; text-decoration-color: #00af00\">16</span>, <span style=\"color: #00af00; text-decoration-color: #00af00\">16</span>, <span style=\"color: #00af00; text-decoration-color: #00af00\">64</span>)          │             <span style=\"color: #00af00; text-decoration-color: #00af00\">256</span> │\n",
       "│ (<span style=\"color: #0087ff; text-decoration-color: #0087ff\">BatchNormalization</span>)                 │                             │                 │\n",
       "├──────────────────────────────────────┼─────────────────────────────┼─────────────────┤\n",
       "│ conv2d_23 (<span style=\"color: #0087ff; text-decoration-color: #0087ff\">Conv2D</span>)                   │ (<span style=\"color: #00d7ff; text-decoration-color: #00d7ff\">None</span>, <span style=\"color: #00af00; text-decoration-color: #00af00\">16</span>, <span style=\"color: #00af00; text-decoration-color: #00af00\">16</span>, <span style=\"color: #00af00; text-decoration-color: #00af00\">128</span>)         │          <span style=\"color: #00af00; text-decoration-color: #00af00\">73,856</span> │\n",
       "├──────────────────────────────────────┼─────────────────────────────┼─────────────────┤\n",
       "│ max_pooling2d_23 (<span style=\"color: #0087ff; text-decoration-color: #0087ff\">MaxPooling2D</span>)      │ (<span style=\"color: #00d7ff; text-decoration-color: #00d7ff\">None</span>, <span style=\"color: #00af00; text-decoration-color: #00af00\">8</span>, <span style=\"color: #00af00; text-decoration-color: #00af00\">8</span>, <span style=\"color: #00af00; text-decoration-color: #00af00\">128</span>)           │               <span style=\"color: #00af00; text-decoration-color: #00af00\">0</span> │\n",
       "├──────────────────────────────────────┼─────────────────────────────┼─────────────────┤\n",
       "│ batch_normalization_23               │ (<span style=\"color: #00d7ff; text-decoration-color: #00d7ff\">None</span>, <span style=\"color: #00af00; text-decoration-color: #00af00\">8</span>, <span style=\"color: #00af00; text-decoration-color: #00af00\">8</span>, <span style=\"color: #00af00; text-decoration-color: #00af00\">128</span>)           │             <span style=\"color: #00af00; text-decoration-color: #00af00\">512</span> │\n",
       "│ (<span style=\"color: #0087ff; text-decoration-color: #0087ff\">BatchNormalization</span>)                 │                             │                 │\n",
       "├──────────────────────────────────────┼─────────────────────────────┼─────────────────┤\n",
       "│ flatten_7 (<span style=\"color: #0087ff; text-decoration-color: #0087ff\">Flatten</span>)                  │ (<span style=\"color: #00d7ff; text-decoration-color: #00d7ff\">None</span>, <span style=\"color: #00af00; text-decoration-color: #00af00\">8192</span>)                │               <span style=\"color: #00af00; text-decoration-color: #00af00\">0</span> │\n",
       "├──────────────────────────────────────┼─────────────────────────────┼─────────────────┤\n",
       "│ dense_14 (<span style=\"color: #0087ff; text-decoration-color: #0087ff\">Dense</span>)                     │ (<span style=\"color: #00d7ff; text-decoration-color: #00d7ff\">None</span>, <span style=\"color: #00af00; text-decoration-color: #00af00\">128</span>)                 │       <span style=\"color: #00af00; text-decoration-color: #00af00\">1,048,704</span> │\n",
       "├──────────────────────────────────────┼─────────────────────────────┼─────────────────┤\n",
       "│ dropout_7 (<span style=\"color: #0087ff; text-decoration-color: #0087ff\">Dropout</span>)                  │ (<span style=\"color: #00d7ff; text-decoration-color: #00d7ff\">None</span>, <span style=\"color: #00af00; text-decoration-color: #00af00\">128</span>)                 │               <span style=\"color: #00af00; text-decoration-color: #00af00\">0</span> │\n",
       "├──────────────────────────────────────┼─────────────────────────────┼─────────────────┤\n",
       "│ dense_15 (<span style=\"color: #0087ff; text-decoration-color: #0087ff\">Dense</span>)                     │ (<span style=\"color: #00d7ff; text-decoration-color: #00d7ff\">None</span>, <span style=\"color: #00af00; text-decoration-color: #00af00\">10</span>)                  │           <span style=\"color: #00af00; text-decoration-color: #00af00\">1,290</span> │\n",
       "└──────────────────────────────────────┴─────────────────────────────┴─────────────────┘\n",
       "</pre>\n"
      ],
      "text/plain": [
       "┏━━━━━━━━━━━━━━━━━━━━━━━━━━━━━━━━━━━━━━┳━━━━━━━━━━━━━━━━━━━━━━━━━━━━━┳━━━━━━━━━━━━━━━━━┓\n",
       "┃\u001b[1m \u001b[0m\u001b[1mLayer (type)                        \u001b[0m\u001b[1m \u001b[0m┃\u001b[1m \u001b[0m\u001b[1mOutput Shape               \u001b[0m\u001b[1m \u001b[0m┃\u001b[1m \u001b[0m\u001b[1m        Param #\u001b[0m\u001b[1m \u001b[0m┃\n",
       "┡━━━━━━━━━━━━━━━━━━━━━━━━━━━━━━━━━━━━━━╇━━━━━━━━━━━━━━━━━━━━━━━━━━━━━╇━━━━━━━━━━━━━━━━━┩\n",
       "│ conv2d_21 (\u001b[38;5;33mConv2D\u001b[0m)                   │ (\u001b[38;5;45mNone\u001b[0m, \u001b[38;5;34m64\u001b[0m, \u001b[38;5;34m64\u001b[0m, \u001b[38;5;34m32\u001b[0m)          │             \u001b[38;5;34m896\u001b[0m │\n",
       "├──────────────────────────────────────┼─────────────────────────────┼─────────────────┤\n",
       "│ max_pooling2d_21 (\u001b[38;5;33mMaxPooling2D\u001b[0m)      │ (\u001b[38;5;45mNone\u001b[0m, \u001b[38;5;34m32\u001b[0m, \u001b[38;5;34m32\u001b[0m, \u001b[38;5;34m32\u001b[0m)          │               \u001b[38;5;34m0\u001b[0m │\n",
       "├──────────────────────────────────────┼─────────────────────────────┼─────────────────┤\n",
       "│ batch_normalization_21               │ (\u001b[38;5;45mNone\u001b[0m, \u001b[38;5;34m32\u001b[0m, \u001b[38;5;34m32\u001b[0m, \u001b[38;5;34m32\u001b[0m)          │             \u001b[38;5;34m128\u001b[0m │\n",
       "│ (\u001b[38;5;33mBatchNormalization\u001b[0m)                 │                             │                 │\n",
       "├──────────────────────────────────────┼─────────────────────────────┼─────────────────┤\n",
       "│ conv2d_22 (\u001b[38;5;33mConv2D\u001b[0m)                   │ (\u001b[38;5;45mNone\u001b[0m, \u001b[38;5;34m32\u001b[0m, \u001b[38;5;34m32\u001b[0m, \u001b[38;5;34m64\u001b[0m)          │          \u001b[38;5;34m18,496\u001b[0m │\n",
       "├──────────────────────────────────────┼─────────────────────────────┼─────────────────┤\n",
       "│ max_pooling2d_22 (\u001b[38;5;33mMaxPooling2D\u001b[0m)      │ (\u001b[38;5;45mNone\u001b[0m, \u001b[38;5;34m16\u001b[0m, \u001b[38;5;34m16\u001b[0m, \u001b[38;5;34m64\u001b[0m)          │               \u001b[38;5;34m0\u001b[0m │\n",
       "├──────────────────────────────────────┼─────────────────────────────┼─────────────────┤\n",
       "│ batch_normalization_22               │ (\u001b[38;5;45mNone\u001b[0m, \u001b[38;5;34m16\u001b[0m, \u001b[38;5;34m16\u001b[0m, \u001b[38;5;34m64\u001b[0m)          │             \u001b[38;5;34m256\u001b[0m │\n",
       "│ (\u001b[38;5;33mBatchNormalization\u001b[0m)                 │                             │                 │\n",
       "├──────────────────────────────────────┼─────────────────────────────┼─────────────────┤\n",
       "│ conv2d_23 (\u001b[38;5;33mConv2D\u001b[0m)                   │ (\u001b[38;5;45mNone\u001b[0m, \u001b[38;5;34m16\u001b[0m, \u001b[38;5;34m16\u001b[0m, \u001b[38;5;34m128\u001b[0m)         │          \u001b[38;5;34m73,856\u001b[0m │\n",
       "├──────────────────────────────────────┼─────────────────────────────┼─────────────────┤\n",
       "│ max_pooling2d_23 (\u001b[38;5;33mMaxPooling2D\u001b[0m)      │ (\u001b[38;5;45mNone\u001b[0m, \u001b[38;5;34m8\u001b[0m, \u001b[38;5;34m8\u001b[0m, \u001b[38;5;34m128\u001b[0m)           │               \u001b[38;5;34m0\u001b[0m │\n",
       "├──────────────────────────────────────┼─────────────────────────────┼─────────────────┤\n",
       "│ batch_normalization_23               │ (\u001b[38;5;45mNone\u001b[0m, \u001b[38;5;34m8\u001b[0m, \u001b[38;5;34m8\u001b[0m, \u001b[38;5;34m128\u001b[0m)           │             \u001b[38;5;34m512\u001b[0m │\n",
       "│ (\u001b[38;5;33mBatchNormalization\u001b[0m)                 │                             │                 │\n",
       "├──────────────────────────────────────┼─────────────────────────────┼─────────────────┤\n",
       "│ flatten_7 (\u001b[38;5;33mFlatten\u001b[0m)                  │ (\u001b[38;5;45mNone\u001b[0m, \u001b[38;5;34m8192\u001b[0m)                │               \u001b[38;5;34m0\u001b[0m │\n",
       "├──────────────────────────────────────┼─────────────────────────────┼─────────────────┤\n",
       "│ dense_14 (\u001b[38;5;33mDense\u001b[0m)                     │ (\u001b[38;5;45mNone\u001b[0m, \u001b[38;5;34m128\u001b[0m)                 │       \u001b[38;5;34m1,048,704\u001b[0m │\n",
       "├──────────────────────────────────────┼─────────────────────────────┼─────────────────┤\n",
       "│ dropout_7 (\u001b[38;5;33mDropout\u001b[0m)                  │ (\u001b[38;5;45mNone\u001b[0m, \u001b[38;5;34m128\u001b[0m)                 │               \u001b[38;5;34m0\u001b[0m │\n",
       "├──────────────────────────────────────┼─────────────────────────────┼─────────────────┤\n",
       "│ dense_15 (\u001b[38;5;33mDense\u001b[0m)                     │ (\u001b[38;5;45mNone\u001b[0m, \u001b[38;5;34m10\u001b[0m)                  │           \u001b[38;5;34m1,290\u001b[0m │\n",
       "└──────────────────────────────────────┴─────────────────────────────┴─────────────────┘\n"
      ]
     },
     "metadata": {},
     "output_type": "display_data"
    },
    {
     "data": {
      "text/html": [
       "<pre style=\"white-space:pre;overflow-x:auto;line-height:normal;font-family:Menlo,'DejaVu Sans Mono',consolas,'Courier New',monospace\"><span style=\"font-weight: bold\"> Total params: </span><span style=\"color: #00af00; text-decoration-color: #00af00\">1,144,138</span> (4.36 MB)\n",
       "</pre>\n"
      ],
      "text/plain": [
       "\u001b[1m Total params: \u001b[0m\u001b[38;5;34m1,144,138\u001b[0m (4.36 MB)\n"
      ]
     },
     "metadata": {},
     "output_type": "display_data"
    },
    {
     "data": {
      "text/html": [
       "<pre style=\"white-space:pre;overflow-x:auto;line-height:normal;font-family:Menlo,'DejaVu Sans Mono',consolas,'Courier New',monospace\"><span style=\"font-weight: bold\"> Trainable params: </span><span style=\"color: #00af00; text-decoration-color: #00af00\">1,143,690</span> (4.36 MB)\n",
       "</pre>\n"
      ],
      "text/plain": [
       "\u001b[1m Trainable params: \u001b[0m\u001b[38;5;34m1,143,690\u001b[0m (4.36 MB)\n"
      ]
     },
     "metadata": {},
     "output_type": "display_data"
    },
    {
     "data": {
      "text/html": [
       "<pre style=\"white-space:pre;overflow-x:auto;line-height:normal;font-family:Menlo,'DejaVu Sans Mono',consolas,'Courier New',monospace\"><span style=\"font-weight: bold\"> Non-trainable params: </span><span style=\"color: #00af00; text-decoration-color: #00af00\">448</span> (1.75 KB)\n",
       "</pre>\n"
      ],
      "text/plain": [
       "\u001b[1m Non-trainable params: \u001b[0m\u001b[38;5;34m448\u001b[0m (1.75 KB)\n"
      ]
     },
     "metadata": {},
     "output_type": "display_data"
    },
    {
     "name": "stdout",
     "output_type": "stream",
     "text": [
      "Initializer's Name: GlorotUniform\n"
     ]
    },
    {
     "data": {
      "text/html": [
       "<pre style=\"white-space:pre;overflow-x:auto;line-height:normal;font-family:Menlo,'DejaVu Sans Mono',consolas,'Courier New',monospace\"><span style=\"font-weight: bold\">Model: \"sequential_8\"</span>\n",
       "</pre>\n"
      ],
      "text/plain": [
       "\u001b[1mModel: \"sequential_8\"\u001b[0m\n"
      ]
     },
     "metadata": {},
     "output_type": "display_data"
    },
    {
     "data": {
      "text/html": [
       "<pre style=\"white-space:pre;overflow-x:auto;line-height:normal;font-family:Menlo,'DejaVu Sans Mono',consolas,'Courier New',monospace\">┏━━━━━━━━━━━━━━━━━━━━━━━━━━━━━━━━━━━━━━┳━━━━━━━━━━━━━━━━━━━━━━━━━━━━━┳━━━━━━━━━━━━━━━━━┓\n",
       "┃<span style=\"font-weight: bold\"> Layer (type)                         </span>┃<span style=\"font-weight: bold\"> Output Shape                </span>┃<span style=\"font-weight: bold\">         Param # </span>┃\n",
       "┡━━━━━━━━━━━━━━━━━━━━━━━━━━━━━━━━━━━━━━╇━━━━━━━━━━━━━━━━━━━━━━━━━━━━━╇━━━━━━━━━━━━━━━━━┩\n",
       "│ conv2d_24 (<span style=\"color: #0087ff; text-decoration-color: #0087ff\">Conv2D</span>)                   │ (<span style=\"color: #00d7ff; text-decoration-color: #00d7ff\">None</span>, <span style=\"color: #00af00; text-decoration-color: #00af00\">64</span>, <span style=\"color: #00af00; text-decoration-color: #00af00\">64</span>, <span style=\"color: #00af00; text-decoration-color: #00af00\">32</span>)          │             <span style=\"color: #00af00; text-decoration-color: #00af00\">896</span> │\n",
       "├──────────────────────────────────────┼─────────────────────────────┼─────────────────┤\n",
       "│ max_pooling2d_24 (<span style=\"color: #0087ff; text-decoration-color: #0087ff\">MaxPooling2D</span>)      │ (<span style=\"color: #00d7ff; text-decoration-color: #00d7ff\">None</span>, <span style=\"color: #00af00; text-decoration-color: #00af00\">32</span>, <span style=\"color: #00af00; text-decoration-color: #00af00\">32</span>, <span style=\"color: #00af00; text-decoration-color: #00af00\">32</span>)          │               <span style=\"color: #00af00; text-decoration-color: #00af00\">0</span> │\n",
       "├──────────────────────────────────────┼─────────────────────────────┼─────────────────┤\n",
       "│ batch_normalization_24               │ (<span style=\"color: #00d7ff; text-decoration-color: #00d7ff\">None</span>, <span style=\"color: #00af00; text-decoration-color: #00af00\">32</span>, <span style=\"color: #00af00; text-decoration-color: #00af00\">32</span>, <span style=\"color: #00af00; text-decoration-color: #00af00\">32</span>)          │             <span style=\"color: #00af00; text-decoration-color: #00af00\">128</span> │\n",
       "│ (<span style=\"color: #0087ff; text-decoration-color: #0087ff\">BatchNormalization</span>)                 │                             │                 │\n",
       "├──────────────────────────────────────┼─────────────────────────────┼─────────────────┤\n",
       "│ conv2d_25 (<span style=\"color: #0087ff; text-decoration-color: #0087ff\">Conv2D</span>)                   │ (<span style=\"color: #00d7ff; text-decoration-color: #00d7ff\">None</span>, <span style=\"color: #00af00; text-decoration-color: #00af00\">32</span>, <span style=\"color: #00af00; text-decoration-color: #00af00\">32</span>, <span style=\"color: #00af00; text-decoration-color: #00af00\">64</span>)          │          <span style=\"color: #00af00; text-decoration-color: #00af00\">18,496</span> │\n",
       "├──────────────────────────────────────┼─────────────────────────────┼─────────────────┤\n",
       "│ max_pooling2d_25 (<span style=\"color: #0087ff; text-decoration-color: #0087ff\">MaxPooling2D</span>)      │ (<span style=\"color: #00d7ff; text-decoration-color: #00d7ff\">None</span>, <span style=\"color: #00af00; text-decoration-color: #00af00\">16</span>, <span style=\"color: #00af00; text-decoration-color: #00af00\">16</span>, <span style=\"color: #00af00; text-decoration-color: #00af00\">64</span>)          │               <span style=\"color: #00af00; text-decoration-color: #00af00\">0</span> │\n",
       "├──────────────────────────────────────┼─────────────────────────────┼─────────────────┤\n",
       "│ batch_normalization_25               │ (<span style=\"color: #00d7ff; text-decoration-color: #00d7ff\">None</span>, <span style=\"color: #00af00; text-decoration-color: #00af00\">16</span>, <span style=\"color: #00af00; text-decoration-color: #00af00\">16</span>, <span style=\"color: #00af00; text-decoration-color: #00af00\">64</span>)          │             <span style=\"color: #00af00; text-decoration-color: #00af00\">256</span> │\n",
       "│ (<span style=\"color: #0087ff; text-decoration-color: #0087ff\">BatchNormalization</span>)                 │                             │                 │\n",
       "├──────────────────────────────────────┼─────────────────────────────┼─────────────────┤\n",
       "│ conv2d_26 (<span style=\"color: #0087ff; text-decoration-color: #0087ff\">Conv2D</span>)                   │ (<span style=\"color: #00d7ff; text-decoration-color: #00d7ff\">None</span>, <span style=\"color: #00af00; text-decoration-color: #00af00\">16</span>, <span style=\"color: #00af00; text-decoration-color: #00af00\">16</span>, <span style=\"color: #00af00; text-decoration-color: #00af00\">128</span>)         │          <span style=\"color: #00af00; text-decoration-color: #00af00\">73,856</span> │\n",
       "├──────────────────────────────────────┼─────────────────────────────┼─────────────────┤\n",
       "│ max_pooling2d_26 (<span style=\"color: #0087ff; text-decoration-color: #0087ff\">MaxPooling2D</span>)      │ (<span style=\"color: #00d7ff; text-decoration-color: #00d7ff\">None</span>, <span style=\"color: #00af00; text-decoration-color: #00af00\">8</span>, <span style=\"color: #00af00; text-decoration-color: #00af00\">8</span>, <span style=\"color: #00af00; text-decoration-color: #00af00\">128</span>)           │               <span style=\"color: #00af00; text-decoration-color: #00af00\">0</span> │\n",
       "├──────────────────────────────────────┼─────────────────────────────┼─────────────────┤\n",
       "│ batch_normalization_26               │ (<span style=\"color: #00d7ff; text-decoration-color: #00d7ff\">None</span>, <span style=\"color: #00af00; text-decoration-color: #00af00\">8</span>, <span style=\"color: #00af00; text-decoration-color: #00af00\">8</span>, <span style=\"color: #00af00; text-decoration-color: #00af00\">128</span>)           │             <span style=\"color: #00af00; text-decoration-color: #00af00\">512</span> │\n",
       "│ (<span style=\"color: #0087ff; text-decoration-color: #0087ff\">BatchNormalization</span>)                 │                             │                 │\n",
       "├──────────────────────────────────────┼─────────────────────────────┼─────────────────┤\n",
       "│ flatten_8 (<span style=\"color: #0087ff; text-decoration-color: #0087ff\">Flatten</span>)                  │ (<span style=\"color: #00d7ff; text-decoration-color: #00d7ff\">None</span>, <span style=\"color: #00af00; text-decoration-color: #00af00\">8192</span>)                │               <span style=\"color: #00af00; text-decoration-color: #00af00\">0</span> │\n",
       "├──────────────────────────────────────┼─────────────────────────────┼─────────────────┤\n",
       "│ dense_16 (<span style=\"color: #0087ff; text-decoration-color: #0087ff\">Dense</span>)                     │ (<span style=\"color: #00d7ff; text-decoration-color: #00d7ff\">None</span>, <span style=\"color: #00af00; text-decoration-color: #00af00\">128</span>)                 │       <span style=\"color: #00af00; text-decoration-color: #00af00\">1,048,704</span> │\n",
       "├──────────────────────────────────────┼─────────────────────────────┼─────────────────┤\n",
       "│ dropout_8 (<span style=\"color: #0087ff; text-decoration-color: #0087ff\">Dropout</span>)                  │ (<span style=\"color: #00d7ff; text-decoration-color: #00d7ff\">None</span>, <span style=\"color: #00af00; text-decoration-color: #00af00\">128</span>)                 │               <span style=\"color: #00af00; text-decoration-color: #00af00\">0</span> │\n",
       "├──────────────────────────────────────┼─────────────────────────────┼─────────────────┤\n",
       "│ dense_17 (<span style=\"color: #0087ff; text-decoration-color: #0087ff\">Dense</span>)                     │ (<span style=\"color: #00d7ff; text-decoration-color: #00d7ff\">None</span>, <span style=\"color: #00af00; text-decoration-color: #00af00\">10</span>)                  │           <span style=\"color: #00af00; text-decoration-color: #00af00\">1,290</span> │\n",
       "└──────────────────────────────────────┴─────────────────────────────┴─────────────────┘\n",
       "</pre>\n"
      ],
      "text/plain": [
       "┏━━━━━━━━━━━━━━━━━━━━━━━━━━━━━━━━━━━━━━┳━━━━━━━━━━━━━━━━━━━━━━━━━━━━━┳━━━━━━━━━━━━━━━━━┓\n",
       "┃\u001b[1m \u001b[0m\u001b[1mLayer (type)                        \u001b[0m\u001b[1m \u001b[0m┃\u001b[1m \u001b[0m\u001b[1mOutput Shape               \u001b[0m\u001b[1m \u001b[0m┃\u001b[1m \u001b[0m\u001b[1m        Param #\u001b[0m\u001b[1m \u001b[0m┃\n",
       "┡━━━━━━━━━━━━━━━━━━━━━━━━━━━━━━━━━━━━━━╇━━━━━━━━━━━━━━━━━━━━━━━━━━━━━╇━━━━━━━━━━━━━━━━━┩\n",
       "│ conv2d_24 (\u001b[38;5;33mConv2D\u001b[0m)                   │ (\u001b[38;5;45mNone\u001b[0m, \u001b[38;5;34m64\u001b[0m, \u001b[38;5;34m64\u001b[0m, \u001b[38;5;34m32\u001b[0m)          │             \u001b[38;5;34m896\u001b[0m │\n",
       "├──────────────────────────────────────┼─────────────────────────────┼─────────────────┤\n",
       "│ max_pooling2d_24 (\u001b[38;5;33mMaxPooling2D\u001b[0m)      │ (\u001b[38;5;45mNone\u001b[0m, \u001b[38;5;34m32\u001b[0m, \u001b[38;5;34m32\u001b[0m, \u001b[38;5;34m32\u001b[0m)          │               \u001b[38;5;34m0\u001b[0m │\n",
       "├──────────────────────────────────────┼─────────────────────────────┼─────────────────┤\n",
       "│ batch_normalization_24               │ (\u001b[38;5;45mNone\u001b[0m, \u001b[38;5;34m32\u001b[0m, \u001b[38;5;34m32\u001b[0m, \u001b[38;5;34m32\u001b[0m)          │             \u001b[38;5;34m128\u001b[0m │\n",
       "│ (\u001b[38;5;33mBatchNormalization\u001b[0m)                 │                             │                 │\n",
       "├──────────────────────────────────────┼─────────────────────────────┼─────────────────┤\n",
       "│ conv2d_25 (\u001b[38;5;33mConv2D\u001b[0m)                   │ (\u001b[38;5;45mNone\u001b[0m, \u001b[38;5;34m32\u001b[0m, \u001b[38;5;34m32\u001b[0m, \u001b[38;5;34m64\u001b[0m)          │          \u001b[38;5;34m18,496\u001b[0m │\n",
       "├──────────────────────────────────────┼─────────────────────────────┼─────────────────┤\n",
       "│ max_pooling2d_25 (\u001b[38;5;33mMaxPooling2D\u001b[0m)      │ (\u001b[38;5;45mNone\u001b[0m, \u001b[38;5;34m16\u001b[0m, \u001b[38;5;34m16\u001b[0m, \u001b[38;5;34m64\u001b[0m)          │               \u001b[38;5;34m0\u001b[0m │\n",
       "├──────────────────────────────────────┼─────────────────────────────┼─────────────────┤\n",
       "│ batch_normalization_25               │ (\u001b[38;5;45mNone\u001b[0m, \u001b[38;5;34m16\u001b[0m, \u001b[38;5;34m16\u001b[0m, \u001b[38;5;34m64\u001b[0m)          │             \u001b[38;5;34m256\u001b[0m │\n",
       "│ (\u001b[38;5;33mBatchNormalization\u001b[0m)                 │                             │                 │\n",
       "├──────────────────────────────────────┼─────────────────────────────┼─────────────────┤\n",
       "│ conv2d_26 (\u001b[38;5;33mConv2D\u001b[0m)                   │ (\u001b[38;5;45mNone\u001b[0m, \u001b[38;5;34m16\u001b[0m, \u001b[38;5;34m16\u001b[0m, \u001b[38;5;34m128\u001b[0m)         │          \u001b[38;5;34m73,856\u001b[0m │\n",
       "├──────────────────────────────────────┼─────────────────────────────┼─────────────────┤\n",
       "│ max_pooling2d_26 (\u001b[38;5;33mMaxPooling2D\u001b[0m)      │ (\u001b[38;5;45mNone\u001b[0m, \u001b[38;5;34m8\u001b[0m, \u001b[38;5;34m8\u001b[0m, \u001b[38;5;34m128\u001b[0m)           │               \u001b[38;5;34m0\u001b[0m │\n",
       "├──────────────────────────────────────┼─────────────────────────────┼─────────────────┤\n",
       "│ batch_normalization_26               │ (\u001b[38;5;45mNone\u001b[0m, \u001b[38;5;34m8\u001b[0m, \u001b[38;5;34m8\u001b[0m, \u001b[38;5;34m128\u001b[0m)           │             \u001b[38;5;34m512\u001b[0m │\n",
       "│ (\u001b[38;5;33mBatchNormalization\u001b[0m)                 │                             │                 │\n",
       "├──────────────────────────────────────┼─────────────────────────────┼─────────────────┤\n",
       "│ flatten_8 (\u001b[38;5;33mFlatten\u001b[0m)                  │ (\u001b[38;5;45mNone\u001b[0m, \u001b[38;5;34m8192\u001b[0m)                │               \u001b[38;5;34m0\u001b[0m │\n",
       "├──────────────────────────────────────┼─────────────────────────────┼─────────────────┤\n",
       "│ dense_16 (\u001b[38;5;33mDense\u001b[0m)                     │ (\u001b[38;5;45mNone\u001b[0m, \u001b[38;5;34m128\u001b[0m)                 │       \u001b[38;5;34m1,048,704\u001b[0m │\n",
       "├──────────────────────────────────────┼─────────────────────────────┼─────────────────┤\n",
       "│ dropout_8 (\u001b[38;5;33mDropout\u001b[0m)                  │ (\u001b[38;5;45mNone\u001b[0m, \u001b[38;5;34m128\u001b[0m)                 │               \u001b[38;5;34m0\u001b[0m │\n",
       "├──────────────────────────────────────┼─────────────────────────────┼─────────────────┤\n",
       "│ dense_17 (\u001b[38;5;33mDense\u001b[0m)                     │ (\u001b[38;5;45mNone\u001b[0m, \u001b[38;5;34m10\u001b[0m)                  │           \u001b[38;5;34m1,290\u001b[0m │\n",
       "└──────────────────────────────────────┴─────────────────────────────┴─────────────────┘\n"
      ]
     },
     "metadata": {},
     "output_type": "display_data"
    },
    {
     "data": {
      "text/html": [
       "<pre style=\"white-space:pre;overflow-x:auto;line-height:normal;font-family:Menlo,'DejaVu Sans Mono',consolas,'Courier New',monospace\"><span style=\"font-weight: bold\"> Total params: </span><span style=\"color: #00af00; text-decoration-color: #00af00\">1,144,138</span> (4.36 MB)\n",
       "</pre>\n"
      ],
      "text/plain": [
       "\u001b[1m Total params: \u001b[0m\u001b[38;5;34m1,144,138\u001b[0m (4.36 MB)\n"
      ]
     },
     "metadata": {},
     "output_type": "display_data"
    },
    {
     "data": {
      "text/html": [
       "<pre style=\"white-space:pre;overflow-x:auto;line-height:normal;font-family:Menlo,'DejaVu Sans Mono',consolas,'Courier New',monospace\"><span style=\"font-weight: bold\"> Trainable params: </span><span style=\"color: #00af00; text-decoration-color: #00af00\">1,143,690</span> (4.36 MB)\n",
       "</pre>\n"
      ],
      "text/plain": [
       "\u001b[1m Trainable params: \u001b[0m\u001b[38;5;34m1,143,690\u001b[0m (4.36 MB)\n"
      ]
     },
     "metadata": {},
     "output_type": "display_data"
    },
    {
     "data": {
      "text/html": [
       "<pre style=\"white-space:pre;overflow-x:auto;line-height:normal;font-family:Menlo,'DejaVu Sans Mono',consolas,'Courier New',monospace\"><span style=\"font-weight: bold\"> Non-trainable params: </span><span style=\"color: #00af00; text-decoration-color: #00af00\">448</span> (1.75 KB)\n",
       "</pre>\n"
      ],
      "text/plain": [
       "\u001b[1m Non-trainable params: \u001b[0m\u001b[38;5;34m448\u001b[0m (1.75 KB)\n"
      ]
     },
     "metadata": {},
     "output_type": "display_data"
    },
    {
     "name": "stdout",
     "output_type": "stream",
     "text": [
      "Initializer's Name: HeNormal\n"
     ]
    },
    {
     "data": {
      "text/html": [
       "<pre style=\"white-space:pre;overflow-x:auto;line-height:normal;font-family:Menlo,'DejaVu Sans Mono',consolas,'Courier New',monospace\"><span style=\"font-weight: bold\">Model: \"sequential_9\"</span>\n",
       "</pre>\n"
      ],
      "text/plain": [
       "\u001b[1mModel: \"sequential_9\"\u001b[0m\n"
      ]
     },
     "metadata": {},
     "output_type": "display_data"
    },
    {
     "data": {
      "text/html": [
       "<pre style=\"white-space:pre;overflow-x:auto;line-height:normal;font-family:Menlo,'DejaVu Sans Mono',consolas,'Courier New',monospace\">┏━━━━━━━━━━━━━━━━━━━━━━━━━━━━━━━━━━━━━━┳━━━━━━━━━━━━━━━━━━━━━━━━━━━━━┳━━━━━━━━━━━━━━━━━┓\n",
       "┃<span style=\"font-weight: bold\"> Layer (type)                         </span>┃<span style=\"font-weight: bold\"> Output Shape                </span>┃<span style=\"font-weight: bold\">         Param # </span>┃\n",
       "┡━━━━━━━━━━━━━━━━━━━━━━━━━━━━━━━━━━━━━━╇━━━━━━━━━━━━━━━━━━━━━━━━━━━━━╇━━━━━━━━━━━━━━━━━┩\n",
       "│ conv2d_27 (<span style=\"color: #0087ff; text-decoration-color: #0087ff\">Conv2D</span>)                   │ (<span style=\"color: #00d7ff; text-decoration-color: #00d7ff\">None</span>, <span style=\"color: #00af00; text-decoration-color: #00af00\">64</span>, <span style=\"color: #00af00; text-decoration-color: #00af00\">64</span>, <span style=\"color: #00af00; text-decoration-color: #00af00\">32</span>)          │             <span style=\"color: #00af00; text-decoration-color: #00af00\">896</span> │\n",
       "├──────────────────────────────────────┼─────────────────────────────┼─────────────────┤\n",
       "│ max_pooling2d_27 (<span style=\"color: #0087ff; text-decoration-color: #0087ff\">MaxPooling2D</span>)      │ (<span style=\"color: #00d7ff; text-decoration-color: #00d7ff\">None</span>, <span style=\"color: #00af00; text-decoration-color: #00af00\">32</span>, <span style=\"color: #00af00; text-decoration-color: #00af00\">32</span>, <span style=\"color: #00af00; text-decoration-color: #00af00\">32</span>)          │               <span style=\"color: #00af00; text-decoration-color: #00af00\">0</span> │\n",
       "├──────────────────────────────────────┼─────────────────────────────┼─────────────────┤\n",
       "│ batch_normalization_27               │ (<span style=\"color: #00d7ff; text-decoration-color: #00d7ff\">None</span>, <span style=\"color: #00af00; text-decoration-color: #00af00\">32</span>, <span style=\"color: #00af00; text-decoration-color: #00af00\">32</span>, <span style=\"color: #00af00; text-decoration-color: #00af00\">32</span>)          │             <span style=\"color: #00af00; text-decoration-color: #00af00\">128</span> │\n",
       "│ (<span style=\"color: #0087ff; text-decoration-color: #0087ff\">BatchNormalization</span>)                 │                             │                 │\n",
       "├──────────────────────────────────────┼─────────────────────────────┼─────────────────┤\n",
       "│ conv2d_28 (<span style=\"color: #0087ff; text-decoration-color: #0087ff\">Conv2D</span>)                   │ (<span style=\"color: #00d7ff; text-decoration-color: #00d7ff\">None</span>, <span style=\"color: #00af00; text-decoration-color: #00af00\">32</span>, <span style=\"color: #00af00; text-decoration-color: #00af00\">32</span>, <span style=\"color: #00af00; text-decoration-color: #00af00\">64</span>)          │          <span style=\"color: #00af00; text-decoration-color: #00af00\">18,496</span> │\n",
       "├──────────────────────────────────────┼─────────────────────────────┼─────────────────┤\n",
       "│ max_pooling2d_28 (<span style=\"color: #0087ff; text-decoration-color: #0087ff\">MaxPooling2D</span>)      │ (<span style=\"color: #00d7ff; text-decoration-color: #00d7ff\">None</span>, <span style=\"color: #00af00; text-decoration-color: #00af00\">16</span>, <span style=\"color: #00af00; text-decoration-color: #00af00\">16</span>, <span style=\"color: #00af00; text-decoration-color: #00af00\">64</span>)          │               <span style=\"color: #00af00; text-decoration-color: #00af00\">0</span> │\n",
       "├──────────────────────────────────────┼─────────────────────────────┼─────────────────┤\n",
       "│ batch_normalization_28               │ (<span style=\"color: #00d7ff; text-decoration-color: #00d7ff\">None</span>, <span style=\"color: #00af00; text-decoration-color: #00af00\">16</span>, <span style=\"color: #00af00; text-decoration-color: #00af00\">16</span>, <span style=\"color: #00af00; text-decoration-color: #00af00\">64</span>)          │             <span style=\"color: #00af00; text-decoration-color: #00af00\">256</span> │\n",
       "│ (<span style=\"color: #0087ff; text-decoration-color: #0087ff\">BatchNormalization</span>)                 │                             │                 │\n",
       "├──────────────────────────────────────┼─────────────────────────────┼─────────────────┤\n",
       "│ conv2d_29 (<span style=\"color: #0087ff; text-decoration-color: #0087ff\">Conv2D</span>)                   │ (<span style=\"color: #00d7ff; text-decoration-color: #00d7ff\">None</span>, <span style=\"color: #00af00; text-decoration-color: #00af00\">16</span>, <span style=\"color: #00af00; text-decoration-color: #00af00\">16</span>, <span style=\"color: #00af00; text-decoration-color: #00af00\">128</span>)         │          <span style=\"color: #00af00; text-decoration-color: #00af00\">73,856</span> │\n",
       "├──────────────────────────────────────┼─────────────────────────────┼─────────────────┤\n",
       "│ max_pooling2d_29 (<span style=\"color: #0087ff; text-decoration-color: #0087ff\">MaxPooling2D</span>)      │ (<span style=\"color: #00d7ff; text-decoration-color: #00d7ff\">None</span>, <span style=\"color: #00af00; text-decoration-color: #00af00\">8</span>, <span style=\"color: #00af00; text-decoration-color: #00af00\">8</span>, <span style=\"color: #00af00; text-decoration-color: #00af00\">128</span>)           │               <span style=\"color: #00af00; text-decoration-color: #00af00\">0</span> │\n",
       "├──────────────────────────────────────┼─────────────────────────────┼─────────────────┤\n",
       "│ batch_normalization_29               │ (<span style=\"color: #00d7ff; text-decoration-color: #00d7ff\">None</span>, <span style=\"color: #00af00; text-decoration-color: #00af00\">8</span>, <span style=\"color: #00af00; text-decoration-color: #00af00\">8</span>, <span style=\"color: #00af00; text-decoration-color: #00af00\">128</span>)           │             <span style=\"color: #00af00; text-decoration-color: #00af00\">512</span> │\n",
       "│ (<span style=\"color: #0087ff; text-decoration-color: #0087ff\">BatchNormalization</span>)                 │                             │                 │\n",
       "├──────────────────────────────────────┼─────────────────────────────┼─────────────────┤\n",
       "│ flatten_9 (<span style=\"color: #0087ff; text-decoration-color: #0087ff\">Flatten</span>)                  │ (<span style=\"color: #00d7ff; text-decoration-color: #00d7ff\">None</span>, <span style=\"color: #00af00; text-decoration-color: #00af00\">8192</span>)                │               <span style=\"color: #00af00; text-decoration-color: #00af00\">0</span> │\n",
       "├──────────────────────────────────────┼─────────────────────────────┼─────────────────┤\n",
       "│ dense_18 (<span style=\"color: #0087ff; text-decoration-color: #0087ff\">Dense</span>)                     │ (<span style=\"color: #00d7ff; text-decoration-color: #00d7ff\">None</span>, <span style=\"color: #00af00; text-decoration-color: #00af00\">128</span>)                 │       <span style=\"color: #00af00; text-decoration-color: #00af00\">1,048,704</span> │\n",
       "├──────────────────────────────────────┼─────────────────────────────┼─────────────────┤\n",
       "│ dropout_9 (<span style=\"color: #0087ff; text-decoration-color: #0087ff\">Dropout</span>)                  │ (<span style=\"color: #00d7ff; text-decoration-color: #00d7ff\">None</span>, <span style=\"color: #00af00; text-decoration-color: #00af00\">128</span>)                 │               <span style=\"color: #00af00; text-decoration-color: #00af00\">0</span> │\n",
       "├──────────────────────────────────────┼─────────────────────────────┼─────────────────┤\n",
       "│ dense_19 (<span style=\"color: #0087ff; text-decoration-color: #0087ff\">Dense</span>)                     │ (<span style=\"color: #00d7ff; text-decoration-color: #00d7ff\">None</span>, <span style=\"color: #00af00; text-decoration-color: #00af00\">10</span>)                  │           <span style=\"color: #00af00; text-decoration-color: #00af00\">1,290</span> │\n",
       "└──────────────────────────────────────┴─────────────────────────────┴─────────────────┘\n",
       "</pre>\n"
      ],
      "text/plain": [
       "┏━━━━━━━━━━━━━━━━━━━━━━━━━━━━━━━━━━━━━━┳━━━━━━━━━━━━━━━━━━━━━━━━━━━━━┳━━━━━━━━━━━━━━━━━┓\n",
       "┃\u001b[1m \u001b[0m\u001b[1mLayer (type)                        \u001b[0m\u001b[1m \u001b[0m┃\u001b[1m \u001b[0m\u001b[1mOutput Shape               \u001b[0m\u001b[1m \u001b[0m┃\u001b[1m \u001b[0m\u001b[1m        Param #\u001b[0m\u001b[1m \u001b[0m┃\n",
       "┡━━━━━━━━━━━━━━━━━━━━━━━━━━━━━━━━━━━━━━╇━━━━━━━━━━━━━━━━━━━━━━━━━━━━━╇━━━━━━━━━━━━━━━━━┩\n",
       "│ conv2d_27 (\u001b[38;5;33mConv2D\u001b[0m)                   │ (\u001b[38;5;45mNone\u001b[0m, \u001b[38;5;34m64\u001b[0m, \u001b[38;5;34m64\u001b[0m, \u001b[38;5;34m32\u001b[0m)          │             \u001b[38;5;34m896\u001b[0m │\n",
       "├──────────────────────────────────────┼─────────────────────────────┼─────────────────┤\n",
       "│ max_pooling2d_27 (\u001b[38;5;33mMaxPooling2D\u001b[0m)      │ (\u001b[38;5;45mNone\u001b[0m, \u001b[38;5;34m32\u001b[0m, \u001b[38;5;34m32\u001b[0m, \u001b[38;5;34m32\u001b[0m)          │               \u001b[38;5;34m0\u001b[0m │\n",
       "├──────────────────────────────────────┼─────────────────────────────┼─────────────────┤\n",
       "│ batch_normalization_27               │ (\u001b[38;5;45mNone\u001b[0m, \u001b[38;5;34m32\u001b[0m, \u001b[38;5;34m32\u001b[0m, \u001b[38;5;34m32\u001b[0m)          │             \u001b[38;5;34m128\u001b[0m │\n",
       "│ (\u001b[38;5;33mBatchNormalization\u001b[0m)                 │                             │                 │\n",
       "├──────────────────────────────────────┼─────────────────────────────┼─────────────────┤\n",
       "│ conv2d_28 (\u001b[38;5;33mConv2D\u001b[0m)                   │ (\u001b[38;5;45mNone\u001b[0m, \u001b[38;5;34m32\u001b[0m, \u001b[38;5;34m32\u001b[0m, \u001b[38;5;34m64\u001b[0m)          │          \u001b[38;5;34m18,496\u001b[0m │\n",
       "├──────────────────────────────────────┼─────────────────────────────┼─────────────────┤\n",
       "│ max_pooling2d_28 (\u001b[38;5;33mMaxPooling2D\u001b[0m)      │ (\u001b[38;5;45mNone\u001b[0m, \u001b[38;5;34m16\u001b[0m, \u001b[38;5;34m16\u001b[0m, \u001b[38;5;34m64\u001b[0m)          │               \u001b[38;5;34m0\u001b[0m │\n",
       "├──────────────────────────────────────┼─────────────────────────────┼─────────────────┤\n",
       "│ batch_normalization_28               │ (\u001b[38;5;45mNone\u001b[0m, \u001b[38;5;34m16\u001b[0m, \u001b[38;5;34m16\u001b[0m, \u001b[38;5;34m64\u001b[0m)          │             \u001b[38;5;34m256\u001b[0m │\n",
       "│ (\u001b[38;5;33mBatchNormalization\u001b[0m)                 │                             │                 │\n",
       "├──────────────────────────────────────┼─────────────────────────────┼─────────────────┤\n",
       "│ conv2d_29 (\u001b[38;5;33mConv2D\u001b[0m)                   │ (\u001b[38;5;45mNone\u001b[0m, \u001b[38;5;34m16\u001b[0m, \u001b[38;5;34m16\u001b[0m, \u001b[38;5;34m128\u001b[0m)         │          \u001b[38;5;34m73,856\u001b[0m │\n",
       "├──────────────────────────────────────┼─────────────────────────────┼─────────────────┤\n",
       "│ max_pooling2d_29 (\u001b[38;5;33mMaxPooling2D\u001b[0m)      │ (\u001b[38;5;45mNone\u001b[0m, \u001b[38;5;34m8\u001b[0m, \u001b[38;5;34m8\u001b[0m, \u001b[38;5;34m128\u001b[0m)           │               \u001b[38;5;34m0\u001b[0m │\n",
       "├──────────────────────────────────────┼─────────────────────────────┼─────────────────┤\n",
       "│ batch_normalization_29               │ (\u001b[38;5;45mNone\u001b[0m, \u001b[38;5;34m8\u001b[0m, \u001b[38;5;34m8\u001b[0m, \u001b[38;5;34m128\u001b[0m)           │             \u001b[38;5;34m512\u001b[0m │\n",
       "│ (\u001b[38;5;33mBatchNormalization\u001b[0m)                 │                             │                 │\n",
       "├──────────────────────────────────────┼─────────────────────────────┼─────────────────┤\n",
       "│ flatten_9 (\u001b[38;5;33mFlatten\u001b[0m)                  │ (\u001b[38;5;45mNone\u001b[0m, \u001b[38;5;34m8192\u001b[0m)                │               \u001b[38;5;34m0\u001b[0m │\n",
       "├──────────────────────────────────────┼─────────────────────────────┼─────────────────┤\n",
       "│ dense_18 (\u001b[38;5;33mDense\u001b[0m)                     │ (\u001b[38;5;45mNone\u001b[0m, \u001b[38;5;34m128\u001b[0m)                 │       \u001b[38;5;34m1,048,704\u001b[0m │\n",
       "├──────────────────────────────────────┼─────────────────────────────┼─────────────────┤\n",
       "│ dropout_9 (\u001b[38;5;33mDropout\u001b[0m)                  │ (\u001b[38;5;45mNone\u001b[0m, \u001b[38;5;34m128\u001b[0m)                 │               \u001b[38;5;34m0\u001b[0m │\n",
       "├──────────────────────────────────────┼─────────────────────────────┼─────────────────┤\n",
       "│ dense_19 (\u001b[38;5;33mDense\u001b[0m)                     │ (\u001b[38;5;45mNone\u001b[0m, \u001b[38;5;34m10\u001b[0m)                  │           \u001b[38;5;34m1,290\u001b[0m │\n",
       "└──────────────────────────────────────┴─────────────────────────────┴─────────────────┘\n"
      ]
     },
     "metadata": {},
     "output_type": "display_data"
    },
    {
     "data": {
      "text/html": [
       "<pre style=\"white-space:pre;overflow-x:auto;line-height:normal;font-family:Menlo,'DejaVu Sans Mono',consolas,'Courier New',monospace\"><span style=\"font-weight: bold\"> Total params: </span><span style=\"color: #00af00; text-decoration-color: #00af00\">1,144,138</span> (4.36 MB)\n",
       "</pre>\n"
      ],
      "text/plain": [
       "\u001b[1m Total params: \u001b[0m\u001b[38;5;34m1,144,138\u001b[0m (4.36 MB)\n"
      ]
     },
     "metadata": {},
     "output_type": "display_data"
    },
    {
     "data": {
      "text/html": [
       "<pre style=\"white-space:pre;overflow-x:auto;line-height:normal;font-family:Menlo,'DejaVu Sans Mono',consolas,'Courier New',monospace\"><span style=\"font-weight: bold\"> Trainable params: </span><span style=\"color: #00af00; text-decoration-color: #00af00\">1,143,690</span> (4.36 MB)\n",
       "</pre>\n"
      ],
      "text/plain": [
       "\u001b[1m Trainable params: \u001b[0m\u001b[38;5;34m1,143,690\u001b[0m (4.36 MB)\n"
      ]
     },
     "metadata": {},
     "output_type": "display_data"
    },
    {
     "data": {
      "text/html": [
       "<pre style=\"white-space:pre;overflow-x:auto;line-height:normal;font-family:Menlo,'DejaVu Sans Mono',consolas,'Courier New',monospace\"><span style=\"font-weight: bold\"> Non-trainable params: </span><span style=\"color: #00af00; text-decoration-color: #00af00\">448</span> (1.75 KB)\n",
       "</pre>\n"
      ],
      "text/plain": [
       "\u001b[1m Non-trainable params: \u001b[0m\u001b[38;5;34m448\u001b[0m (1.75 KB)\n"
      ]
     },
     "metadata": {},
     "output_type": "display_data"
    },
    {
     "data": {
      "image/png": "[encoded data removed]",
      "text/plain": [
       "<Figure size 2000x400 with 11 Axes>"
      ]
     },
     "metadata": {},
     "output_type": "display_data"
    },
    {
     "data": {
      "image/png": "[encoded data removed]",
      "text/plain": [
       "<Figure size 2000x400 with 11 Axes>"
      ]
     },
     "metadata": {},
     "output_type": "display_data"
    },
    {
     "data": {
      "image/png": "[encoded data removed]",
      "text/plain": [
       "<Figure size 2000x400 with 11 Axes>"
      ]
     },
     "metadata": {},
     "output_type": "display_data"
    },
    {
     "data": {
      "image/png": "[encoded data removed]",
      "text/plain": [
       "<Figure size 2000x400 with 11 Axes>"
      ]
     },
     "metadata": {},
     "output_type": "display_data"
    },
    {
     "data": {
      "image/png": "[encoded data removed]",
      "text/plain": [
       "<Figure size 2000x400 with 11 Axes>"
      ]
     },
     "metadata": {},
     "output_type": "display_data"
    }
   ],
   "source": [
    "# TODO: Declare the following variables:\n",
    "#       filters: array with the number of filters used in\n",
    "#                each convolutional layer\n",
    "#       k: kernel size\n",
    "filters = [32,64,128]\n",
    "k = 3\n",
    "\n",
    "# Initializers\n",
    "initializers = {\n",
    "    'Zeros': Zeros(),\n",
    "    'Ones': Ones(),\n",
    "    'Random': RandomNormal(),\n",
    "    'GlorotUniform': GlorotUniform(),\n",
    "    'HeNormal': HeNormal()\n",
    "}\n",
    "\n",
    "# Dictionary to store the models and their initialized weights\n",
    "models = {}\n",
    "initial_weights = {}\n",
    "\n",
    "for name, initializer in initializers.items():\n",
    "    print(f\"Initializer's Name: {name}\")\n",
    "    model = create_cnn(filters=filters,\n",
    "                       k=k,\n",
    "                       input_shape=(TARGET_SIZE,TARGET_SIZE,3),\n",
    "                       n_classes=n_classes,\n",
    "                       initializer=initializer)\n",
    "    models[name] = model\n",
    "    initial_weights[name] = model.get_weights()\n",
    "    model.summary()\n",
    "\n",
    "# Visualize initial weights for each layer in each model\n",
    "for name, weights in initial_weights.items():\n",
    "    num_layers = len(weights) // 2  # Since weights contain both kernels and biases\n",
    "    fig, axs = plt.subplots(1, num_layers, figsize=(20, 4))\n",
    "    fig.suptitle(f'{name} Initialization')\n",
    "    \n",
    "    for i in range(num_layers):\n",
    "        kernel_weights = weights[2 * i].flatten()\n",
    "        axs[i].hist(kernel_weights, bins=50)\n",
    "        axs[i].set_title(f'Layer {i+1}')\n",
    "    \n",
    "    plt.show()"
   ]
  },
  {
   "cell_type": "markdown",
   "metadata": {
    "id": "oXjo2eGu1QHk"
   },
   "source": [
    "### **Model callbacks**\n"
   ]
  },
  {
   "cell_type": "markdown",
   "metadata": {
    "id": "raK5yvXHx4T8"
   },
   "source": [
    "Define the callbacks for training:"
   ]
  },
  {
   "cell_type": "code",
   "execution_count": 11,
   "metadata": {},
   "outputs": [
    {
     "name": "stderr",
     "output_type": "stream",
     "text": [
      "\u001b[34m\u001b[1mwandb\u001b[0m: Currently logged in as: \u001b[33mdishaghosh-applications\u001b[0m (\u001b[33mdishaxgh\u001b[0m). Use \u001b[1m`wandb login --relogin`\u001b[0m to force relogin\n"
     ]
    },
    {
     "data": {
      "text/html": [
       "wandb version 0.17.0 is available!  To upgrade, please run:\n",
       " $ pip install wandb --upgrade"
      ],
      "text/plain": [
       "<IPython.core.display.HTML object>"
      ]
     },
     "metadata": {},
     "output_type": "display_data"
    },
    {
     "data": {
      "text/html": [
       "Tracking run with wandb version 0.16.6"
      ],
      "text/plain": [
       "<IPython.core.display.HTML object>"
      ]
     },
     "metadata": {},
     "output_type": "display_data"
    },
    {
     "data": {
      "text/html": [
       "Run data is saved locally in <code>C:\\Users\\Disha\\TU Braunschweig\\Deep Learning\\Assignment 04\\wandb\\run-20240529_205227-tnym9tzw</code>"
      ],
      "text/plain": [
       "<IPython.core.display.HTML object>"
      ]
     },
     "metadata": {},
     "output_type": "display_data"
    },
    {
     "data": {
      "text/html": [
       "Syncing run <strong><a href='https://wandb.ai/dishaxgh/CNN%20for%20image%20classification/runs/tnym9tzw' target=\"_blank\">cnn-classification-euroSAT_RGB</a></strong> to <a href='https://wandb.ai/dishaxgh/CNN%20for%20image%20classification' target=\"_blank\">Weights & Biases</a> (<a href='https://wandb.me/run' target=\"_blank\">docs</a>)<br/>"
      ],
      "text/plain": [
       "<IPython.core.display.HTML object>"
      ]
     },
     "metadata": {},
     "output_type": "display_data"
    },
    {
     "data": {
      "text/html": [
       " View project at <a href='https://wandb.ai/dishaxgh/CNN%20for%20image%20classification' target=\"_blank\">https://wandb.ai/dishaxgh/CNN%20for%20image%20classification</a>"
      ],
      "text/plain": [
       "<IPython.core.display.HTML object>"
      ]
     },
     "metadata": {},
     "output_type": "display_data"
    },
    {
     "data": {
      "text/html": [
       " View run at <a href='https://wandb.ai/dishaxgh/CNN%20for%20image%20classification/runs/tnym9tzw' target=\"_blank\">https://wandb.ai/dishaxgh/CNN%20for%20image%20classification/runs/tnym9tzw</a>"
      ],
      "text/plain": [
       "<IPython.core.display.HTML object>"
      ]
     },
     "metadata": {},
     "output_type": "display_data"
    }
   ],
   "source": [
    "cb_autosave = ModelCheckpoint(\"classification_model.keras\",\n",
    "                              mode=\"max\",\n",
    "                              save_best_only=True,\n",
    "                              monitor=\"val_accuracy\",\n",
    "                              verbose=1)\n",
    "\n",
    "cb_early_stop = EarlyStopping(patience=20,\n",
    "                              verbose=1,\n",
    "                              mode=\"auto\",\n",
    "                              restore_best_weights=\"True\",\n",
    "                              monitor=\"val_accuracy\")\n",
    "\n",
    "# start a new wandb run to track this script\n",
    "wandb.init(\n",
    "    # set the wandb project where this run will be logged\n",
    "    project=\"CNN for image classification\",\n",
    "    name=\"cnn-classification-euroSAT_RGB\",\n",
    "\n",
    "    # track hyperparameters and run metadata\n",
    "    config={\n",
    "    \"architecture\": \"CNN\",\n",
    "    \"dataset\": \"EuroSAT_RGB\",\n",
    "    \"bs\": BATCH_SIZE\n",
    "    }\n",
    ")\n",
    "\n",
    "cb_wandb = WandbMetricsLogger()\n",
    "\n",
    "callbacks = [cb_autosave, cb_early_stop, cb_wandb]"
   ]
  },
  {
   "cell_type": "markdown",
   "metadata": {
    "id": "GpN8IibKyV8x"
   },
   "source": [
    "## **Training the model**"
   ]
  },
  {
   "cell_type": "code",
   "execution_count": 20,
   "metadata": {
    "colab": {
     "base_uri": "https://localhost:8080/"
    },
    "executionInfo": {
     "elapsed": 1120541,
     "status": "ok",
     "timestamp": 1683541170109,
     "user": {
      "displayName": "PEDRO MARCO ACHANCCARAY DIAZ",
      "userId": "12035005979643113495"
     },
     "user_tz": -120
    },
    "id": "NIaFw0zRtFNl",
    "outputId": "96d5429d-0e81-4bc2-fb48-e072bb737b22",
    "scrolled": false
   },
   "outputs": [
    {
     "name": "stdout",
     "output_type": "stream",
     "text": [
      "Training model with Zeros initialization\n",
      "Epoch 1/100\n",
      "\u001b[1m507/507\u001b[0m \u001b[32m━━━━━━━━━━━━━━━━━━━━\u001b[0m\u001b[37m\u001b[0m \u001b[1m0s\u001b[0m 190ms/step - accuracy: 0.1126 - loss: 2.3002\n",
      "Epoch 1: val_accuracy did not improve from 0.11111\n",
      "\u001b[1m507/507\u001b[0m \u001b[32m━━━━━━━━━━━━━━━━━━━━\u001b[0m\u001b[37m\u001b[0m \u001b[1m113s\u001b[0m 210ms/step - accuracy: 0.1126 - loss: 2.3002 - val_accuracy: 0.1111 - val_loss: 2.2959\n",
      "Epoch 2/100\n",
      "\u001b[1m507/507\u001b[0m \u001b[32m━━━━━━━━━━━━━━━━━━━━\u001b[0m\u001b[37m\u001b[0m \u001b[1m0s\u001b[0m 178ms/step - accuracy: 0.1110 - loss: 2.2950\n",
      "Epoch 2: val_accuracy did not improve from 0.11111\n",
      "\u001b[1m507/507\u001b[0m \u001b[32m━━━━━━━━━━━━━━━━━━━━\u001b[0m\u001b[37m\u001b[0m \u001b[1m100s\u001b[0m 196ms/step - accuracy: 0.1110 - loss: 2.2950 - val_accuracy: 0.1111 - val_loss: 2.2950\n",
      "Epoch 3/100\n",
      "\u001b[1m507/507\u001b[0m \u001b[32m━━━━━━━━━━━━━━━━━━━━\u001b[0m\u001b[37m\u001b[0m \u001b[1m0s\u001b[0m 177ms/step - accuracy: 0.1053 - loss: 2.2950\n",
      "Epoch 3: val_accuracy did not improve from 0.11111\n",
      "\u001b[1m507/507\u001b[0m \u001b[32m━━━━━━━━━━━━━━━━━━━━\u001b[0m\u001b[37m\u001b[0m \u001b[1m99s\u001b[0m 195ms/step - accuracy: 0.1053 - loss: 2.2950 - val_accuracy: 0.1111 - val_loss: 2.2948\n",
      "Epoch 4/100\n",
      "\u001b[1m507/507\u001b[0m \u001b[32m━━━━━━━━━━━━━━━━━━━━\u001b[0m\u001b[37m\u001b[0m \u001b[1m0s\u001b[0m 177ms/step - accuracy: 0.1073 - loss: 2.2959\n",
      "Epoch 4: val_accuracy did not improve from 0.11111\n",
      "\u001b[1m507/507\u001b[0m \u001b[32m━━━━━━━━━━━━━━━━━━━━\u001b[0m\u001b[37m\u001b[0m \u001b[1m99s\u001b[0m 195ms/step - accuracy: 0.1073 - loss: 2.2959 - val_accuracy: 0.1111 - val_loss: 2.2948\n",
      "Epoch 5/100\n",
      "\u001b[1m507/507\u001b[0m \u001b[32m━━━━━━━━━━━━━━━━━━━━\u001b[0m\u001b[37m\u001b[0m \u001b[1m0s\u001b[0m 177ms/step - accuracy: 0.1086 - loss: 2.2942\n",
      "Epoch 5: val_accuracy did not improve from 0.11111\n",
      "\u001b[1m507/507\u001b[0m \u001b[32m━━━━━━━━━━━━━━━━━━━━\u001b[0m\u001b[37m\u001b[0m \u001b[1m99s\u001b[0m 195ms/step - accuracy: 0.1086 - loss: 2.2942 - val_accuracy: 0.1111 - val_loss: 2.2948\n",
      "Epoch 6/100\n",
      "\u001b[1m507/507\u001b[0m \u001b[32m━━━━━━━━━━━━━━━━━━━━\u001b[0m\u001b[37m\u001b[0m \u001b[1m0s\u001b[0m 177ms/step - accuracy: 0.1056 - loss: 2.2941\n",
      "Epoch 6: val_accuracy did not improve from 0.11111\n",
      "\u001b[1m507/507\u001b[0m \u001b[32m━━━━━━━━━━━━━━━━━━━━\u001b[0m\u001b[37m\u001b[0m \u001b[1m99s\u001b[0m 195ms/step - accuracy: 0.1056 - loss: 2.2941 - val_accuracy: 0.1111 - val_loss: 2.2948\n",
      "Epoch 7/100\n",
      "\u001b[1m507/507\u001b[0m \u001b[32m━━━━━━━━━━━━━━━━━━━━\u001b[0m\u001b[37m\u001b[0m \u001b[1m0s\u001b[0m 183ms/step - accuracy: 0.1125 - loss: 2.2969\n",
      "Epoch 7: val_accuracy did not improve from 0.11111\n",
      "\u001b[1m507/507\u001b[0m \u001b[32m━━━━━━━━━━━━━━━━━━━━\u001b[0m\u001b[37m\u001b[0m \u001b[1m103s\u001b[0m 202ms/step - accuracy: 0.1125 - loss: 2.2969 - val_accuracy: 0.1111 - val_loss: 2.2948\n",
      "Epoch 8/100\n",
      "\u001b[1m507/507\u001b[0m \u001b[32m━━━━━━━━━━━━━━━━━━━━\u001b[0m\u001b[37m\u001b[0m \u001b[1m0s\u001b[0m 175ms/step - accuracy: 0.1103 - loss: 2.2969\n",
      "Epoch 8: val_accuracy did not improve from 0.11111\n",
      "\u001b[1m507/507\u001b[0m \u001b[32m━━━━━━━━━━━━━━━━━━━━\u001b[0m\u001b[37m\u001b[0m \u001b[1m98s\u001b[0m 193ms/step - accuracy: 0.1103 - loss: 2.2969 - val_accuracy: 0.1111 - val_loss: 2.2948\n",
      "Epoch 9/100\n",
      "\u001b[1m507/507\u001b[0m \u001b[32m━━━━━━━━━━━━━━━━━━━━\u001b[0m\u001b[37m\u001b[0m \u001b[1m0s\u001b[0m 179ms/step - accuracy: 0.1092 - loss: 2.2956\n",
      "Epoch 9: val_accuracy did not improve from 0.11111\n",
      "\u001b[1m507/507\u001b[0m \u001b[32m━━━━━━━━━━━━━━━━━━━━\u001b[0m\u001b[37m\u001b[0m \u001b[1m100s\u001b[0m 197ms/step - accuracy: 0.1092 - loss: 2.2956 - val_accuracy: 0.1111 - val_loss: 2.2948\n",
      "Epoch 10/100\n",
      "\u001b[1m507/507\u001b[0m \u001b[32m━━━━━━━━━━━━━━━━━━━━\u001b[0m\u001b[37m\u001b[0m \u001b[1m0s\u001b[0m 181ms/step - accuracy: 0.1140 - loss: 2.2954\n",
      "Epoch 10: val_accuracy did not improve from 0.11111\n",
      "\u001b[1m507/507\u001b[0m \u001b[32m━━━━━━━━━━━━━━━━━━━━\u001b[0m\u001b[37m\u001b[0m \u001b[1m101s\u001b[0m 199ms/step - accuracy: 0.1140 - loss: 2.2954 - val_accuracy: 0.1111 - val_loss: 2.2948\n",
      "Epoch 11/100\n",
      "\u001b[1m507/507\u001b[0m \u001b[32m━━━━━━━━━━━━━━━━━━━━\u001b[0m\u001b[37m\u001b[0m \u001b[1m0s\u001b[0m 178ms/step - accuracy: 0.1114 - loss: 2.2955\n",
      "Epoch 11: val_accuracy did not improve from 0.11111\n",
      "\u001b[1m507/507\u001b[0m \u001b[32m━━━━━━━━━━━━━━━━━━━━\u001b[0m\u001b[37m\u001b[0m \u001b[1m99s\u001b[0m 196ms/step - accuracy: 0.1114 - loss: 2.2955 - val_accuracy: 0.1111 - val_loss: 2.2948\n",
      "Epoch 12/100\n",
      "\u001b[1m507/507\u001b[0m \u001b[32m━━━━━━━━━━━━━━━━━━━━\u001b[0m\u001b[37m\u001b[0m \u001b[1m0s\u001b[0m 178ms/step - accuracy: 0.1114 - loss: 2.2946\n",
      "Epoch 12: val_accuracy did not improve from 0.11111\n",
      "\u001b[1m507/507\u001b[0m \u001b[32m━━━━━━━━━━━━━━━━━━━━\u001b[0m\u001b[37m\u001b[0m \u001b[1m100s\u001b[0m 197ms/step - accuracy: 0.1114 - loss: 2.2946 - val_accuracy: 0.1111 - val_loss: 2.2948\n",
      "Epoch 13/100\n",
      "\u001b[1m507/507\u001b[0m \u001b[32m━━━━━━━━━━━━━━━━━━━━\u001b[0m\u001b[37m\u001b[0m \u001b[1m0s\u001b[0m 175ms/step - accuracy: 0.1114 - loss: 2.2941\n",
      "Epoch 13: val_accuracy did not improve from 0.11111\n",
      "\u001b[1m507/507\u001b[0m \u001b[32m━━━━━━━━━━━━━━━━━━━━\u001b[0m\u001b[37m\u001b[0m \u001b[1m98s\u001b[0m 194ms/step - accuracy: 0.1114 - loss: 2.2941 - val_accuracy: 0.1111 - val_loss: 2.2948\n",
      "Epoch 14/100\n",
      "\u001b[1m507/507\u001b[0m \u001b[32m━━━━━━━━━━━━━━━━━━━━\u001b[0m\u001b[37m\u001b[0m \u001b[1m0s\u001b[0m 178ms/step - accuracy: 0.1122 - loss: 2.2951\n",
      "Epoch 14: val_accuracy did not improve from 0.11111\n",
      "\u001b[1m507/507\u001b[0m \u001b[32m━━━━━━━━━━━━━━━━━━━━\u001b[0m\u001b[37m\u001b[0m \u001b[1m99s\u001b[0m 196ms/step - accuracy: 0.1122 - loss: 2.2951 - val_accuracy: 0.1111 - val_loss: 2.2948\n",
      "Epoch 15/100\n",
      "\u001b[1m507/507\u001b[0m \u001b[32m━━━━━━━━━━━━━━━━━━━━\u001b[0m\u001b[37m\u001b[0m \u001b[1m0s\u001b[0m 181ms/step - accuracy: 0.1153 - loss: 2.2929\n",
      "Epoch 15: val_accuracy did not improve from 0.11111\n",
      "\u001b[1m507/507\u001b[0m \u001b[32m━━━━━━━━━━━━━━━━━━━━\u001b[0m\u001b[37m\u001b[0m \u001b[1m101s\u001b[0m 199ms/step - accuracy: 0.1152 - loss: 2.2929 - val_accuracy: 0.1111 - val_loss: 2.2948\n",
      "Epoch 16/100\n",
      "\u001b[1m507/507\u001b[0m \u001b[32m━━━━━━━━━━━━━━━━━━━━\u001b[0m\u001b[37m\u001b[0m \u001b[1m0s\u001b[0m 179ms/step - accuracy: 0.1019 - loss: 2.2955\n",
      "Epoch 16: val_accuracy did not improve from 0.11111\n",
      "\u001b[1m507/507\u001b[0m \u001b[32m━━━━━━━━━━━━━━━━━━━━\u001b[0m\u001b[37m\u001b[0m \u001b[1m100s\u001b[0m 197ms/step - accuracy: 0.1019 - loss: 2.2955 - val_accuracy: 0.1111 - val_loss: 2.2948\n",
      "Epoch 17/100\n",
      "\u001b[1m507/507\u001b[0m \u001b[32m━━━━━━━━━━━━━━━━━━━━\u001b[0m\u001b[37m\u001b[0m \u001b[1m0s\u001b[0m 179ms/step - accuracy: 0.1047 - loss: 2.2965\n",
      "Epoch 17: val_accuracy did not improve from 0.11111\n",
      "\u001b[1m507/507\u001b[0m \u001b[32m━━━━━━━━━━━━━━━━━━━━\u001b[0m\u001b[37m\u001b[0m \u001b[1m100s\u001b[0m 198ms/step - accuracy: 0.1047 - loss: 2.2965 - val_accuracy: 0.1111 - val_loss: 2.2948\n",
      "Epoch 18/100\n",
      "\u001b[1m507/507\u001b[0m \u001b[32m━━━━━━━━━━━━━━━━━━━━\u001b[0m\u001b[37m\u001b[0m \u001b[1m0s\u001b[0m 184ms/step - accuracy: 0.1075 - loss: 2.2955\n",
      "Epoch 18: val_accuracy did not improve from 0.11111\n",
      "\u001b[1m507/507\u001b[0m \u001b[32m━━━━━━━━━━━━━━━━━━━━\u001b[0m\u001b[37m\u001b[0m \u001b[1m103s\u001b[0m 202ms/step - accuracy: 0.1075 - loss: 2.2955 - val_accuracy: 0.1111 - val_loss: 2.2948\n",
      "Epoch 19/100\n",
      "\u001b[1m507/507\u001b[0m \u001b[32m━━━━━━━━━━━━━━━━━━━━\u001b[0m\u001b[37m\u001b[0m \u001b[1m0s\u001b[0m 180ms/step - accuracy: 0.1092 - loss: 2.2952\n",
      "Epoch 19: val_accuracy did not improve from 0.11111\n",
      "\u001b[1m507/507\u001b[0m \u001b[32m━━━━━━━━━━━━━━━━━━━━\u001b[0m\u001b[37m\u001b[0m \u001b[1m101s\u001b[0m 198ms/step - accuracy: 0.1092 - loss: 2.2952 - val_accuracy: 0.1111 - val_loss: 2.2948\n",
      "Epoch 20/100\n",
      "\u001b[1m507/507\u001b[0m \u001b[32m━━━━━━━━━━━━━━━━━━━━\u001b[0m\u001b[37m\u001b[0m \u001b[1m0s\u001b[0m 179ms/step - accuracy: 0.1114 - loss: 2.2942\n",
      "Epoch 20: val_accuracy did not improve from 0.11111\n",
      "\u001b[1m507/507\u001b[0m \u001b[32m━━━━━━━━━━━━━━━━━━━━\u001b[0m\u001b[37m\u001b[0m \u001b[1m100s\u001b[0m 197ms/step - accuracy: 0.1114 - loss: 2.2942 - val_accuracy: 0.1111 - val_loss: 2.2948\n",
      "Epoch 20: early stopping\n",
      "Restoring model weights from the end of the best epoch: 1.\n"
     ]
    },
    {
     "name": "stderr",
     "output_type": "stream",
     "text": [
      "WARNING:absl:You are saving your model as an HDF5 file via `model.save()` or `keras.saving.save_model(model)`. This file format is considered legacy. We recommend using instead the native Keras format, e.g. `model.save('my_model.keras')` or `keras.saving.save_model(model, 'my_model.keras')`. \n"
     ]
    },
    {
     "name": "stdout",
     "output_type": "stream",
     "text": [
      "Training model with Ones initialization\n",
      "Epoch 1/100\n",
      "\u001b[1m507/507\u001b[0m \u001b[32m━━━━━━━━━━━━━━━━━━━━\u001b[0m\u001b[37m\u001b[0m \u001b[1m0s\u001b[0m 181ms/step - accuracy: 0.1636 - loss: 177.1016\n",
      "Epoch 1: val_accuracy improved from 0.11111 to 0.11130, saving model to classification_model.keras\n",
      "\u001b[1m507/507\u001b[0m \u001b[32m━━━━━━━━━━━━━━━━━━━━\u001b[0m\u001b[37m\u001b[0m \u001b[1m108s\u001b[0m 201ms/step - accuracy: 0.1636 - loss: 177.0196 - val_accuracy: 0.1113 - val_loss: 2.3012\n",
      "Epoch 2/100\n",
      "\u001b[1m507/507\u001b[0m \u001b[32m━━━━━━━━━━━━━━━━━━━━\u001b[0m\u001b[37m\u001b[0m \u001b[1m0s\u001b[0m 180ms/step - accuracy: 0.1265 - loss: 19.1461\n",
      "Epoch 2: val_accuracy did not improve from 0.11130\n",
      "\u001b[1m507/507\u001b[0m \u001b[32m━━━━━━━━━━━━━━━━━━━━\u001b[0m\u001b[37m\u001b[0m \u001b[1m101s\u001b[0m 198ms/step - accuracy: 0.1265 - loss: 19.1246 - val_accuracy: 0.1111 - val_loss: 2.2969\n",
      "Epoch 3/100\n",
      "\u001b[1m507/507\u001b[0m \u001b[32m━━━━━━━━━━━━━━━━━━━━\u001b[0m\u001b[37m\u001b[0m \u001b[1m0s\u001b[0m 180ms/step - accuracy: 0.1136 - loss: 2.3764\n",
      "Epoch 3: val_accuracy did not improve from 0.11130\n",
      "\u001b[1m507/507\u001b[0m \u001b[32m━━━━━━━━━━━━━━━━━━━━\u001b[0m\u001b[37m\u001b[0m \u001b[1m101s\u001b[0m 198ms/step - accuracy: 0.1136 - loss: 2.3763 - val_accuracy: 0.1111 - val_loss: 2.2952\n",
      "Epoch 4/100\n",
      "\u001b[1m507/507\u001b[0m \u001b[32m━━━━━━━━━━━━━━━━━━━━\u001b[0m\u001b[37m\u001b[0m \u001b[1m0s\u001b[0m 179ms/step - accuracy: 0.1064 - loss: 2.2992\n",
      "Epoch 4: val_accuracy did not improve from 0.11130\n",
      "\u001b[1m507/507\u001b[0m \u001b[32m━━━━━━━━━━━━━━━━━━━━\u001b[0m\u001b[37m\u001b[0m \u001b[1m100s\u001b[0m 197ms/step - accuracy: 0.1064 - loss: 2.2993 - val_accuracy: 0.1111 - val_loss: 2.2949\n",
      "Epoch 5/100\n",
      "\u001b[1m507/507\u001b[0m \u001b[32m━━━━━━━━━━━━━━━━━━━━\u001b[0m\u001b[37m\u001b[0m \u001b[1m0s\u001b[0m 184ms/step - accuracy: 0.1140 - loss: 2.2980\n",
      "Epoch 5: val_accuracy did not improve from 0.11130\n",
      "\u001b[1m507/507\u001b[0m \u001b[32m━━━━━━━━━━━━━━━━━━━━\u001b[0m\u001b[37m\u001b[0m \u001b[1m103s\u001b[0m 202ms/step - accuracy: 0.1140 - loss: 2.2980 - val_accuracy: 0.1111 - val_loss: 2.2948\n",
      "Epoch 6/100\n",
      "\u001b[1m507/507\u001b[0m \u001b[32m━━━━━━━━━━━━━━━━━━━━\u001b[0m\u001b[37m\u001b[0m \u001b[1m0s\u001b[0m 180ms/step - accuracy: 0.1120 - loss: 2.2945\n",
      "Epoch 6: val_accuracy did not improve from 0.11130\n",
      "\u001b[1m507/507\u001b[0m \u001b[32m━━━━━━━━━━━━━━━━━━━━\u001b[0m\u001b[37m\u001b[0m \u001b[1m101s\u001b[0m 198ms/step - accuracy: 0.1120 - loss: 2.2945 - val_accuracy: 0.1111 - val_loss: 2.2948\n",
      "Epoch 7/100\n",
      "\u001b[1m507/507\u001b[0m \u001b[32m━━━━━━━━━━━━━━━━━━━━\u001b[0m\u001b[37m\u001b[0m \u001b[1m0s\u001b[0m 175ms/step - accuracy: 0.1048 - loss: 2.2949\n",
      "Epoch 7: val_accuracy did not improve from 0.11130\n",
      "\u001b[1m507/507\u001b[0m \u001b[32m━━━━━━━━━━━━━━━━━━━━\u001b[0m\u001b[37m\u001b[0m \u001b[1m98s\u001b[0m 194ms/step - accuracy: 0.1048 - loss: 2.2949 - val_accuracy: 0.1111 - val_loss: 2.2948\n",
      "Epoch 8/100\n",
      "\u001b[1m507/507\u001b[0m \u001b[32m━━━━━━━━━━━━━━━━━━━━\u001b[0m\u001b[37m\u001b[0m \u001b[1m0s\u001b[0m 173ms/step - accuracy: 0.1072 - loss: 2.4300\n",
      "Epoch 8: val_accuracy did not improve from 0.11130\n",
      "\u001b[1m507/507\u001b[0m \u001b[32m━━━━━━━━━━━━━━━━━━━━\u001b[0m\u001b[37m\u001b[0m \u001b[1m96s\u001b[0m 190ms/step - accuracy: 0.1072 - loss: 2.4298 - val_accuracy: 0.1111 - val_loss: 2.2948\n",
      "Epoch 9/100\n",
      "\u001b[1m507/507\u001b[0m \u001b[32m━━━━━━━━━━━━━━━━━━━━\u001b[0m\u001b[37m\u001b[0m \u001b[1m0s\u001b[0m 177ms/step - accuracy: 0.1127 - loss: 2.3012\n",
      "Epoch 9: val_accuracy did not improve from 0.11130\n",
      "\u001b[1m507/507\u001b[0m \u001b[32m━━━━━━━━━━━━━━━━━━━━\u001b[0m\u001b[37m\u001b[0m \u001b[1m99s\u001b[0m 195ms/step - accuracy: 0.1127 - loss: 2.3013 - val_accuracy: 0.1111 - val_loss: 2.2948\n",
      "Epoch 10/100\n",
      "\u001b[1m507/507\u001b[0m \u001b[32m━━━━━━━━━━━━━━━━━━━━\u001b[0m\u001b[37m\u001b[0m \u001b[1m0s\u001b[0m 177ms/step - accuracy: 0.1079 - loss: 2.2975\n",
      "Epoch 10: val_accuracy did not improve from 0.11130\n",
      "\u001b[1m507/507\u001b[0m \u001b[32m━━━━━━━━━━━━━━━━━━━━\u001b[0m\u001b[37m\u001b[0m \u001b[1m99s\u001b[0m 195ms/step - accuracy: 0.1079 - loss: 2.2975 - val_accuracy: 0.1111 - val_loss: 2.2948\n",
      "Epoch 11/100\n",
      "\u001b[1m507/507\u001b[0m \u001b[32m━━━━━━━━━━━━━━━━━━━━\u001b[0m\u001b[37m\u001b[0m \u001b[1m0s\u001b[0m 177ms/step - accuracy: 0.1136 - loss: 2.2931\n",
      "Epoch 11: val_accuracy did not improve from 0.11130\n",
      "\u001b[1m507/507\u001b[0m \u001b[32m━━━━━━━━━━━━━━━━━━━━\u001b[0m\u001b[37m\u001b[0m \u001b[1m99s\u001b[0m 195ms/step - accuracy: 0.1136 - loss: 2.2931 - val_accuracy: 0.1111 - val_loss: 2.2948\n",
      "Epoch 12/100\n",
      "\u001b[1m507/507\u001b[0m \u001b[32m━━━━━━━━━━━━━━━━━━━━\u001b[0m\u001b[37m\u001b[0m \u001b[1m0s\u001b[0m 178ms/step - accuracy: 0.1108 - loss: 2.2960\n",
      "Epoch 12: val_accuracy did not improve from 0.11130\n",
      "\u001b[1m507/507\u001b[0m \u001b[32m━━━━━━━━━━━━━━━━━━━━\u001b[0m\u001b[37m\u001b[0m \u001b[1m100s\u001b[0m 197ms/step - accuracy: 0.1108 - loss: 2.2960 - val_accuracy: 0.1111 - val_loss: 2.2948\n",
      "Epoch 13/100\n",
      "\u001b[1m507/507\u001b[0m \u001b[32m━━━━━━━━━━━━━━━━━━━━\u001b[0m\u001b[37m\u001b[0m \u001b[1m0s\u001b[0m 181ms/step - accuracy: 0.1110 - loss: 2.2947\n",
      "Epoch 13: val_accuracy did not improve from 0.11130\n",
      "\u001b[1m507/507\u001b[0m \u001b[32m━━━━━━━━━━━━━━━━━━━━\u001b[0m\u001b[37m\u001b[0m \u001b[1m101s\u001b[0m 199ms/step - accuracy: 0.1110 - loss: 2.2947 - val_accuracy: 0.1111 - val_loss: 2.2948\n",
      "Epoch 14/100\n",
      "\u001b[1m507/507\u001b[0m \u001b[32m━━━━━━━━━━━━━━━━━━━━\u001b[0m\u001b[37m\u001b[0m \u001b[1m0s\u001b[0m 179ms/step - accuracy: 0.1081 - loss: 2.2961\n",
      "Epoch 14: val_accuracy did not improve from 0.11130\n",
      "\u001b[1m507/507\u001b[0m \u001b[32m━━━━━━━━━━━━━━━━━━━━\u001b[0m\u001b[37m\u001b[0m \u001b[1m100s\u001b[0m 197ms/step - accuracy: 0.1081 - loss: 2.2961 - val_accuracy: 0.1111 - val_loss: 2.2948\n",
      "Epoch 15/100\n",
      "\u001b[1m507/507\u001b[0m \u001b[32m━━━━━━━━━━━━━━━━━━━━\u001b[0m\u001b[37m\u001b[0m \u001b[1m0s\u001b[0m 177ms/step - accuracy: 0.1064 - loss: 2.2952\n",
      "Epoch 15: val_accuracy did not improve from 0.11130\n",
      "\u001b[1m507/507\u001b[0m \u001b[32m━━━━━━━━━━━━━━━━━━━━\u001b[0m\u001b[37m\u001b[0m \u001b[1m99s\u001b[0m 195ms/step - accuracy: 0.1064 - loss: 2.2952 - val_accuracy: 0.1111 - val_loss: 2.2948\n",
      "Epoch 16/100\n",
      "\u001b[1m507/507\u001b[0m \u001b[32m━━━━━━━━━━━━━━━━━━━━\u001b[0m\u001b[37m\u001b[0m \u001b[1m0s\u001b[0m 173ms/step - accuracy: 0.1132 - loss: 2.2957\n",
      "Epoch 16: val_accuracy did not improve from 0.11130\n",
      "\u001b[1m507/507\u001b[0m \u001b[32m━━━━━━━━━━━━━━━━━━━━\u001b[0m\u001b[37m\u001b[0m \u001b[1m97s\u001b[0m 191ms/step - accuracy: 0.1132 - loss: 2.2956 - val_accuracy: 0.1111 - val_loss: 2.2948\n",
      "Epoch 17/100\n",
      "\u001b[1m507/507\u001b[0m \u001b[32m━━━━━━━━━━━━━━━━━━━━\u001b[0m\u001b[37m\u001b[0m \u001b[1m0s\u001b[0m 177ms/step - accuracy: 0.1125 - loss: 2.2935\n",
      "Epoch 17: val_accuracy did not improve from 0.11130\n",
      "\u001b[1m507/507\u001b[0m \u001b[32m━━━━━━━━━━━━━━━━━━━━\u001b[0m\u001b[37m\u001b[0m \u001b[1m100s\u001b[0m 196ms/step - accuracy: 0.1125 - loss: 2.2935 - val_accuracy: 0.1111 - val_loss: 2.2948\n",
      "Epoch 18/100\n",
      "\u001b[1m507/507\u001b[0m \u001b[32m━━━━━━━━━━━━━━━━━━━━\u001b[0m\u001b[37m\u001b[0m \u001b[1m0s\u001b[0m 179ms/step - accuracy: 0.1091 - loss: 2.2963\n",
      "Epoch 18: val_accuracy did not improve from 0.11130\n",
      "\u001b[1m507/507\u001b[0m \u001b[32m━━━━━━━━━━━━━━━━━━━━\u001b[0m\u001b[37m\u001b[0m \u001b[1m100s\u001b[0m 197ms/step - accuracy: 0.1091 - loss: 2.2963 - val_accuracy: 0.1111 - val_loss: 2.2948\n",
      "Epoch 19/100\n",
      "\u001b[1m507/507\u001b[0m \u001b[32m━━━━━━━━━━━━━━━━━━━━\u001b[0m\u001b[37m\u001b[0m \u001b[1m0s\u001b[0m 174ms/step - accuracy: 0.1072 - loss: 2.2952\n",
      "Epoch 19: val_accuracy did not improve from 0.11130\n",
      "\u001b[1m507/507\u001b[0m \u001b[32m━━━━━━━━━━━━━━━━━━━━\u001b[0m\u001b[37m\u001b[0m \u001b[1m95s\u001b[0m 188ms/step - accuracy: 0.1072 - loss: 2.2952 - val_accuracy: 0.1111 - val_loss: 2.2948\n",
      "Epoch 20/100\n",
      "\u001b[1m507/507\u001b[0m \u001b[32m━━━━━━━━━━━━━━━━━━━━\u001b[0m\u001b[37m\u001b[0m \u001b[1m0s\u001b[0m 146ms/step - accuracy: 0.1133 - loss: 2.2938\n",
      "Epoch 20: val_accuracy did not improve from 0.11130\n",
      "\u001b[1m507/507\u001b[0m \u001b[32m━━━━━━━━━━━━━━━━━━━━\u001b[0m\u001b[37m\u001b[0m \u001b[1m81s\u001b[0m 160ms/step - accuracy: 0.1133 - loss: 2.2938 - val_accuracy: 0.1111 - val_loss: 2.2948\n",
      "Epoch 21/100\n",
      "\u001b[1m507/507\u001b[0m \u001b[32m━━━━━━━━━━━━━━━━━━━━\u001b[0m\u001b[37m\u001b[0m \u001b[1m0s\u001b[0m 145ms/step - accuracy: 0.1060 - loss: 2.2940\n",
      "Epoch 21: val_accuracy did not improve from 0.11130\n",
      "\u001b[1m507/507\u001b[0m \u001b[32m━━━━━━━━━━━━━━━━━━━━\u001b[0m\u001b[37m\u001b[0m \u001b[1m81s\u001b[0m 159ms/step - accuracy: 0.1060 - loss: 2.2940 - val_accuracy: 0.1111 - val_loss: 2.2948\n",
      "Epoch 21: early stopping\n",
      "Restoring model weights from the end of the best epoch: 1.\n"
     ]
    },
    {
     "name": "stderr",
     "output_type": "stream",
     "text": [
      "WARNING:absl:You are saving your model as an HDF5 file via `model.save()` or `keras.saving.save_model(model)`. This file format is considered legacy. We recommend using instead the native Keras format, e.g. `model.save('my_model.keras')` or `keras.saving.save_model(model, 'my_model.keras')`. \n"
     ]
    },
    {
     "name": "stdout",
     "output_type": "stream",
     "text": [
      "Training model with Random initialization\n",
      "Epoch 1/100\n",
      "\u001b[1m507/507\u001b[0m \u001b[32m━━━━━━━━━━━━━━━━━━━━\u001b[0m\u001b[37m\u001b[0m \u001b[1m0s\u001b[0m 144ms/step - accuracy: 0.4512 - loss: 1.7698\n",
      "Epoch 1: val_accuracy improved from 0.11130 to 0.19130, saving model to classification_model.keras\n",
      "\u001b[1m507/507\u001b[0m \u001b[32m━━━━━━━━━━━━━━━━━━━━\u001b[0m\u001b[37m\u001b[0m \u001b[1m85s\u001b[0m 159ms/step - accuracy: 0.4513 - loss: 1.7690 - val_accuracy: 0.1913 - val_loss: 7.0771\n",
      "Epoch 2/100\n",
      "\u001b[1m507/507\u001b[0m \u001b[32m━━━━━━━━━━━━━━━━━━━━\u001b[0m\u001b[37m\u001b[0m \u001b[1m0s\u001b[0m 143ms/step - accuracy: 0.6298 - loss: 1.0418\n",
      "Epoch 2: val_accuracy improved from 0.19130 to 0.69815, saving model to classification_model.keras\n",
      "\u001b[1m507/507\u001b[0m \u001b[32m━━━━━━━━━━━━━━━━━━━━\u001b[0m\u001b[37m\u001b[0m \u001b[1m80s\u001b[0m 157ms/step - accuracy: 0.6298 - loss: 1.0418 - val_accuracy: 0.6981 - val_loss: 0.9225\n",
      "Epoch 3/100\n",
      "\u001b[1m507/507\u001b[0m \u001b[32m━━━━━━━━━━━━━━━━━━━━\u001b[0m\u001b[37m\u001b[0m \u001b[1m0s\u001b[0m 142ms/step - accuracy: 0.6879 - loss: 0.9036\n",
      "Epoch 3: val_accuracy did not improve from 0.69815\n",
      "\u001b[1m507/507\u001b[0m \u001b[32m━━━━━━━━━━━━━━━━━━━━\u001b[0m\u001b[37m\u001b[0m \u001b[1m80s\u001b[0m 157ms/step - accuracy: 0.6879 - loss: 0.9036 - val_accuracy: 0.5696 - val_loss: 1.1861\n",
      "Epoch 4/100\n",
      "\u001b[1m507/507\u001b[0m \u001b[32m━━━━━━━━━━━━━━━━━━━━\u001b[0m\u001b[37m\u001b[0m \u001b[1m0s\u001b[0m 144ms/step - accuracy: 0.7161 - loss: 0.8244\n",
      "Epoch 4: val_accuracy did not improve from 0.69815\n",
      "\u001b[1m507/507\u001b[0m \u001b[32m━━━━━━━━━━━━━━━━━━━━\u001b[0m\u001b[37m\u001b[0m \u001b[1m80s\u001b[0m 158ms/step - accuracy: 0.7161 - loss: 0.8244 - val_accuracy: 0.6417 - val_loss: 1.2032\n",
      "Epoch 5/100\n",
      "\u001b[1m507/507\u001b[0m \u001b[32m━━━━━━━━━━━━━━━━━━━━\u001b[0m\u001b[37m\u001b[0m \u001b[1m0s\u001b[0m 144ms/step - accuracy: 0.7449 - loss: 0.7252\n",
      "Epoch 5: val_accuracy did not improve from 0.69815\n",
      "\u001b[1m507/507\u001b[0m \u001b[32m━━━━━━━━━━━━━━━━━━━━\u001b[0m\u001b[37m\u001b[0m \u001b[1m80s\u001b[0m 158ms/step - accuracy: 0.7449 - loss: 0.7252 - val_accuracy: 0.6204 - val_loss: 1.0610\n",
      "Epoch 6/100\n",
      "\u001b[1m507/507\u001b[0m \u001b[32m━━━━━━━━━━━━━━━━━━━━\u001b[0m\u001b[37m\u001b[0m \u001b[1m0s\u001b[0m 143ms/step - accuracy: 0.7762 - loss: 0.6603\n",
      "Epoch 6: val_accuracy did not improve from 0.69815\n",
      "\u001b[1m507/507\u001b[0m \u001b[32m━━━━━━━━━━━━━━━━━━━━\u001b[0m\u001b[37m\u001b[0m \u001b[1m80s\u001b[0m 158ms/step - accuracy: 0.7762 - loss: 0.6603 - val_accuracy: 0.6828 - val_loss: 0.9228\n",
      "Epoch 7/100\n",
      "\u001b[1m507/507\u001b[0m \u001b[32m━━━━━━━━━━━━━━━━━━━━\u001b[0m\u001b[37m\u001b[0m \u001b[1m0s\u001b[0m 149ms/step - accuracy: 0.8029 - loss: 0.5792\n",
      "Epoch 7: val_accuracy improved from 0.69815 to 0.74556, saving model to classification_model.keras\n",
      "\u001b[1m507/507\u001b[0m \u001b[32m━━━━━━━━━━━━━━━━━━━━\u001b[0m\u001b[37m\u001b[0m \u001b[1m83s\u001b[0m 163ms/step - accuracy: 0.8029 - loss: 0.5793 - val_accuracy: 0.7456 - val_loss: 0.7366\n",
      "Epoch 8/100\n",
      "\u001b[1m507/507\u001b[0m \u001b[32m━━━━━━━━━━━━━━━━━━━━\u001b[0m\u001b[37m\u001b[0m \u001b[1m0s\u001b[0m 145ms/step - accuracy: 0.8201 - loss: 0.5427\n",
      "Epoch 8: val_accuracy did not improve from 0.74556\n",
      "\u001b[1m507/507\u001b[0m \u001b[32m━━━━━━━━━━━━━━━━━━━━\u001b[0m\u001b[37m\u001b[0m \u001b[1m82s\u001b[0m 161ms/step - accuracy: 0.8201 - loss: 0.5427 - val_accuracy: 0.5381 - val_loss: 2.1830\n",
      "Epoch 9/100\n",
      "\u001b[1m507/507\u001b[0m \u001b[32m━━━━━━━━━━━━━━━━━━━━\u001b[0m\u001b[37m\u001b[0m \u001b[1m0s\u001b[0m 141ms/step - accuracy: 0.8418 - loss: 0.4720\n",
      "Epoch 9: val_accuracy did not improve from 0.74556\n",
      "\u001b[1m507/507\u001b[0m \u001b[32m━━━━━━━━━━━━━━━━━━━━\u001b[0m\u001b[37m\u001b[0m \u001b[1m78s\u001b[0m 154ms/step - accuracy: 0.8418 - loss: 0.4720 - val_accuracy: 0.6094 - val_loss: 2.0203\n",
      "Epoch 10/100\n",
      "\u001b[1m507/507\u001b[0m \u001b[32m━━━━━━━━━━━━━━━━━━━━\u001b[0m\u001b[37m\u001b[0m \u001b[1m0s\u001b[0m 135ms/step - accuracy: 0.8575 - loss: 0.4428\n",
      "Epoch 10: val_accuracy did not improve from 0.74556\n",
      "\u001b[1m507/507\u001b[0m \u001b[32m━━━━━━━━━━━━━━━━━━━━\u001b[0m\u001b[37m\u001b[0m \u001b[1m75s\u001b[0m 148ms/step - accuracy: 0.8575 - loss: 0.4428 - val_accuracy: 0.6689 - val_loss: 1.0689\n",
      "Epoch 11/100\n",
      "\u001b[1m507/507\u001b[0m \u001b[32m━━━━━━━━━━━━━━━━━━━━\u001b[0m\u001b[37m\u001b[0m \u001b[1m0s\u001b[0m 134ms/step - accuracy: 0.8758 - loss: 0.3731\n",
      "Epoch 11: val_accuracy did not improve from 0.74556\n",
      "\u001b[1m507/507\u001b[0m \u001b[32m━━━━━━━━━━━━━━━━━━━━\u001b[0m\u001b[37m\u001b[0m \u001b[1m75s\u001b[0m 147ms/step - accuracy: 0.8758 - loss: 0.3731 - val_accuracy: 0.6363 - val_loss: 1.9582\n",
      "Epoch 12/100\n",
      "\u001b[1m507/507\u001b[0m \u001b[32m━━━━━━━━━━━━━━━━━━━━\u001b[0m\u001b[37m\u001b[0m \u001b[1m0s\u001b[0m 134ms/step - accuracy: 0.8966 - loss: 0.3115\n",
      "Epoch 12: val_accuracy did not improve from 0.74556\n",
      "\u001b[1m507/507\u001b[0m \u001b[32m━━━━━━━━━━━━━━━━━━━━\u001b[0m\u001b[37m\u001b[0m \u001b[1m75s\u001b[0m 147ms/step - accuracy: 0.8966 - loss: 0.3116 - val_accuracy: 0.5459 - val_loss: 4.0393\n",
      "Epoch 13/100\n",
      "\u001b[1m507/507\u001b[0m \u001b[32m━━━━━━━━━━━━━━━━━━━━\u001b[0m\u001b[37m\u001b[0m \u001b[1m0s\u001b[0m 135ms/step - accuracy: 0.8961 - loss: 0.3081\n",
      "Epoch 13: val_accuracy did not improve from 0.74556\n",
      "\u001b[1m507/507\u001b[0m \u001b[32m━━━━━━━━━━━━━━━━━━━━\u001b[0m\u001b[37m\u001b[0m \u001b[1m75s\u001b[0m 148ms/step - accuracy: 0.8961 - loss: 0.3082 - val_accuracy: 0.6670 - val_loss: 1.3403\n",
      "Epoch 14/100\n",
      "\u001b[1m507/507\u001b[0m \u001b[32m━━━━━━━━━━━━━━━━━━━━\u001b[0m\u001b[37m\u001b[0m \u001b[1m0s\u001b[0m 134ms/step - accuracy: 0.9122 - loss: 0.2709\n",
      "Epoch 14: val_accuracy improved from 0.74556 to 0.87556, saving model to classification_model.keras\n",
      "\u001b[1m507/507\u001b[0m \u001b[32m━━━━━━━━━━━━━━━━━━━━\u001b[0m\u001b[37m\u001b[0m \u001b[1m75s\u001b[0m 147ms/step - accuracy: 0.9122 - loss: 0.2709 - val_accuracy: 0.8756 - val_loss: 0.4536\n",
      "Epoch 15/100\n",
      "\u001b[1m507/507\u001b[0m \u001b[32m━━━━━━━━━━━━━━━━━━━━\u001b[0m\u001b[37m\u001b[0m \u001b[1m0s\u001b[0m 136ms/step - accuracy: 0.9248 - loss: 0.2337\n",
      "Epoch 15: val_accuracy did not improve from 0.87556\n",
      "\u001b[1m507/507\u001b[0m \u001b[32m━━━━━━━━━━━━━━━━━━━━\u001b[0m\u001b[37m\u001b[0m \u001b[1m76s\u001b[0m 149ms/step - accuracy: 0.9248 - loss: 0.2337 - val_accuracy: 0.7859 - val_loss: 0.8767\n",
      "Epoch 16/100\n",
      "\u001b[1m507/507\u001b[0m \u001b[32m━━━━━━━━━━━━━━━━━━━━\u001b[0m\u001b[37m\u001b[0m \u001b[1m0s\u001b[0m 132ms/step - accuracy: 0.9260 - loss: 0.2256\n",
      "Epoch 16: val_accuracy did not improve from 0.87556\n",
      "\u001b[1m507/507\u001b[0m \u001b[32m━━━━━━━━━━━━━━━━━━━━\u001b[0m\u001b[37m\u001b[0m \u001b[1m74s\u001b[0m 145ms/step - accuracy: 0.9260 - loss: 0.2256 - val_accuracy: 0.7252 - val_loss: 1.0944\n",
      "Epoch 17/100\n",
      "\u001b[1m507/507\u001b[0m \u001b[32m━━━━━━━━━━━━━━━━━━━━\u001b[0m\u001b[37m\u001b[0m \u001b[1m0s\u001b[0m 132ms/step - accuracy: 0.9230 - loss: 0.2375\n",
      "Epoch 17: val_accuracy did not improve from 0.87556\n",
      "\u001b[1m507/507\u001b[0m \u001b[32m━━━━━━━━━━━━━━━━━━━━\u001b[0m\u001b[37m\u001b[0m \u001b[1m74s\u001b[0m 145ms/step - accuracy: 0.9230 - loss: 0.2375 - val_accuracy: 0.5831 - val_loss: 3.1450\n",
      "Epoch 18/100\n",
      "\u001b[1m507/507\u001b[0m \u001b[32m━━━━━━━━━━━━━━━━━━━━\u001b[0m\u001b[37m\u001b[0m \u001b[1m0s\u001b[0m 133ms/step - accuracy: 0.9378 - loss: 0.1892\n",
      "Epoch 18: val_accuracy did not improve from 0.87556\n",
      "\u001b[1m507/507\u001b[0m \u001b[32m━━━━━━━━━━━━━━━━━━━━\u001b[0m\u001b[37m\u001b[0m \u001b[1m74s\u001b[0m 146ms/step - accuracy: 0.9378 - loss: 0.1892 - val_accuracy: 0.6513 - val_loss: 2.1555\n",
      "Epoch 19/100\n",
      "\u001b[1m507/507\u001b[0m \u001b[32m━━━━━━━━━━━━━━━━━━━━\u001b[0m\u001b[37m\u001b[0m \u001b[1m0s\u001b[0m 135ms/step - accuracy: 0.9390 - loss: 0.1846\n",
      "Epoch 19: val_accuracy did not improve from 0.87556\n",
      "\u001b[1m507/507\u001b[0m \u001b[32m━━━━━━━━━━━━━━━━━━━━\u001b[0m\u001b[37m\u001b[0m \u001b[1m75s\u001b[0m 148ms/step - accuracy: 0.9390 - loss: 0.1846 - val_accuracy: 0.5844 - val_loss: 2.4697\n",
      "Epoch 20/100\n",
      "\u001b[1m507/507\u001b[0m \u001b[32m━━━━━━━━━━━━━━━━━━━━\u001b[0m\u001b[37m\u001b[0m \u001b[1m0s\u001b[0m 135ms/step - accuracy: 0.9438 - loss: 0.1792\n",
      "Epoch 20: val_accuracy did not improve from 0.87556\n",
      "\u001b[1m507/507\u001b[0m \u001b[32m━━━━━━━━━━━━━━━━━━━━\u001b[0m\u001b[37m\u001b[0m \u001b[1m76s\u001b[0m 149ms/step - accuracy: 0.9438 - loss: 0.1792 - val_accuracy: 0.8333 - val_loss: 0.7396\n",
      "Epoch 21/100\n",
      "\u001b[1m507/507\u001b[0m \u001b[32m━━━━━━━━━━━━━━━━━━━━\u001b[0m\u001b[37m\u001b[0m \u001b[1m0s\u001b[0m 133ms/step - accuracy: 0.9484 - loss: 0.1496\n",
      "Epoch 21: val_accuracy did not improve from 0.87556\n",
      "\u001b[1m507/507\u001b[0m \u001b[32m━━━━━━━━━━━━━━━━━━━━\u001b[0m\u001b[37m\u001b[0m \u001b[1m74s\u001b[0m 146ms/step - accuracy: 0.9484 - loss: 0.1497 - val_accuracy: 0.8556 - val_loss: 0.5713\n",
      "Epoch 22/100\n",
      "\u001b[1m507/507\u001b[0m \u001b[32m━━━━━━━━━━━━━━━━━━━━\u001b[0m\u001b[37m\u001b[0m \u001b[1m0s\u001b[0m 146ms/step - accuracy: 0.9443 - loss: 0.1680\n",
      "Epoch 22: val_accuracy did not improve from 0.87556\n",
      "\u001b[1m507/507\u001b[0m \u001b[32m━━━━━━━━━━━━━━━━━━━━\u001b[0m\u001b[37m\u001b[0m \u001b[1m82s\u001b[0m 161ms/step - accuracy: 0.9443 - loss: 0.1680 - val_accuracy: 0.8072 - val_loss: 0.8264\n",
      "Epoch 23/100\n",
      "\u001b[1m507/507\u001b[0m \u001b[32m━━━━━━━━━━━━━━━━━━━━\u001b[0m\u001b[37m\u001b[0m \u001b[1m0s\u001b[0m 157ms/step - accuracy: 0.9565 - loss: 0.1266\n",
      "Epoch 23: val_accuracy did not improve from 0.87556\n",
      "\u001b[1m507/507\u001b[0m \u001b[32m━━━━━━━━━━━━━━━━━━━━\u001b[0m\u001b[37m\u001b[0m \u001b[1m87s\u001b[0m 171ms/step - accuracy: 0.9565 - loss: 0.1266 - val_accuracy: 0.7743 - val_loss: 1.2033\n",
      "Epoch 24/100\n",
      "\u001b[1m507/507\u001b[0m \u001b[32m━━━━━━━━━━━━━━━━━━━━\u001b[0m\u001b[37m\u001b[0m \u001b[1m0s\u001b[0m 135ms/step - accuracy: 0.9524 - loss: 0.1422\n",
      "Epoch 24: val_accuracy did not improve from 0.87556\n",
      "\u001b[1m507/507\u001b[0m \u001b[32m━━━━━━━━━━━━━━━━━━━━\u001b[0m\u001b[37m\u001b[0m \u001b[1m76s\u001b[0m 150ms/step - accuracy: 0.9524 - loss: 0.1422 - val_accuracy: 0.8709 - val_loss: 0.5159\n",
      "Epoch 25/100\n",
      "\u001b[1m507/507\u001b[0m \u001b[32m━━━━━━━━━━━━━━━━━━━━\u001b[0m\u001b[37m\u001b[0m \u001b[1m0s\u001b[0m 133ms/step - accuracy: 0.9525 - loss: 0.1433\n",
      "Epoch 25: val_accuracy did not improve from 0.87556\n",
      "\u001b[1m507/507\u001b[0m \u001b[32m━━━━━━━━━━━━━━━━━━━━\u001b[0m\u001b[37m\u001b[0m \u001b[1m75s\u001b[0m 147ms/step - accuracy: 0.9525 - loss: 0.1433 - val_accuracy: 0.8415 - val_loss: 0.6330\n",
      "Epoch 26/100\n",
      "\u001b[1m507/507\u001b[0m \u001b[32m━━━━━━━━━━━━━━━━━━━━\u001b[0m\u001b[37m\u001b[0m \u001b[1m0s\u001b[0m 133ms/step - accuracy: 0.9580 - loss: 0.1298\n",
      "Epoch 26: val_accuracy did not improve from 0.87556\n",
      "\u001b[1m507/507\u001b[0m \u001b[32m━━━━━━━━━━━━━━━━━━━━\u001b[0m\u001b[37m\u001b[0m \u001b[1m75s\u001b[0m 147ms/step - accuracy: 0.9580 - loss: 0.1298 - val_accuracy: 0.7463 - val_loss: 1.6059\n",
      "Epoch 27/100\n",
      "\u001b[1m507/507\u001b[0m \u001b[32m━━━━━━━━━━━━━━━━━━━━\u001b[0m\u001b[37m\u001b[0m \u001b[1m0s\u001b[0m 144ms/step - accuracy: 0.9555 - loss: 0.1465\n",
      "Epoch 27: val_accuracy did not improve from 0.87556\n",
      "\u001b[1m507/507\u001b[0m \u001b[32m━━━━━━━━━━━━━━━━━━━━\u001b[0m\u001b[37m\u001b[0m \u001b[1m80s\u001b[0m 158ms/step - accuracy: 0.9555 - loss: 0.1465 - val_accuracy: 0.6933 - val_loss: 1.8281\n",
      "Epoch 28/100\n",
      "\u001b[1m507/507\u001b[0m \u001b[32m━━━━━━━━━━━━━━━━━━━━\u001b[0m\u001b[37m\u001b[0m \u001b[1m0s\u001b[0m 134ms/step - accuracy: 0.9585 - loss: 0.1378\n",
      "Epoch 28: val_accuracy did not improve from 0.87556\n",
      "\u001b[1m507/507\u001b[0m \u001b[32m━━━━━━━━━━━━━━━━━━━━\u001b[0m\u001b[37m\u001b[0m \u001b[1m75s\u001b[0m 147ms/step - accuracy: 0.9585 - loss: 0.1378 - val_accuracy: 0.7989 - val_loss: 1.0062\n",
      "Epoch 29/100\n",
      "\u001b[1m507/507\u001b[0m \u001b[32m━━━━━━━━━━━━━━━━━━━━\u001b[0m\u001b[37m\u001b[0m \u001b[1m0s\u001b[0m 135ms/step - accuracy: 0.9646 - loss: 0.1086\n",
      "Epoch 29: val_accuracy did not improve from 0.87556\n",
      "\u001b[1m507/507\u001b[0m \u001b[32m━━━━━━━━━━━━━━━━━━━━\u001b[0m\u001b[37m\u001b[0m \u001b[1m75s\u001b[0m 148ms/step - accuracy: 0.9646 - loss: 0.1086 - val_accuracy: 0.7948 - val_loss: 1.0073\n",
      "Epoch 30/100\n",
      "\u001b[1m507/507\u001b[0m \u001b[32m━━━━━━━━━━━━━━━━━━━━\u001b[0m\u001b[37m\u001b[0m \u001b[1m0s\u001b[0m 142ms/step - accuracy: 0.9597 - loss: 0.1323\n",
      "Epoch 30: val_accuracy did not improve from 0.87556\n",
      "\u001b[1m507/507\u001b[0m \u001b[32m━━━━━━━━━━━━━━━━━━━━\u001b[0m\u001b[37m\u001b[0m \u001b[1m79s\u001b[0m 155ms/step - accuracy: 0.9597 - loss: 0.1323 - val_accuracy: 0.7994 - val_loss: 0.9909\n",
      "Epoch 31/100\n",
      "\u001b[1m507/507\u001b[0m \u001b[32m━━━━━━━━━━━━━━━━━━━━\u001b[0m\u001b[37m\u001b[0m \u001b[1m0s\u001b[0m 149ms/step - accuracy: 0.9659 - loss: 0.1121\n",
      "Epoch 31: val_accuracy did not improve from 0.87556\n",
      "\u001b[1m507/507\u001b[0m \u001b[32m━━━━━━━━━━━━━━━━━━━━\u001b[0m\u001b[37m\u001b[0m \u001b[1m85s\u001b[0m 168ms/step - accuracy: 0.9659 - loss: 0.1121 - val_accuracy: 0.8419 - val_loss: 0.8075\n",
      "Epoch 32/100\n",
      "\u001b[1m507/507\u001b[0m \u001b[32m━━━━━━━━━━━━━━━━━━━━\u001b[0m\u001b[37m\u001b[0m \u001b[1m0s\u001b[0m 177ms/step - accuracy: 0.9681 - loss: 0.1056\n",
      "Epoch 32: val_accuracy did not improve from 0.87556\n",
      "\u001b[1m507/507\u001b[0m \u001b[32m━━━━━━━━━━━━━━━━━━━━\u001b[0m\u001b[37m\u001b[0m \u001b[1m99s\u001b[0m 196ms/step - accuracy: 0.9681 - loss: 0.1056 - val_accuracy: 0.8641 - val_loss: 0.7402\n",
      "Epoch 33/100\n",
      "\u001b[1m507/507\u001b[0m \u001b[32m━━━━━━━━━━━━━━━━━━━━\u001b[0m\u001b[37m\u001b[0m \u001b[1m0s\u001b[0m 176ms/step - accuracy: 0.9623 - loss: 0.1175\n",
      "Epoch 33: val_accuracy did not improve from 0.87556\n",
      "\u001b[1m507/507\u001b[0m \u001b[32m━━━━━━━━━━━━━━━━━━━━\u001b[0m\u001b[37m\u001b[0m \u001b[1m99s\u001b[0m 195ms/step - accuracy: 0.9623 - loss: 0.1175 - val_accuracy: 0.8063 - val_loss: 1.0734\n",
      "Epoch 34/100\n",
      "\u001b[1m507/507\u001b[0m \u001b[32m━━━━━━━━━━━━━━━━━━━━\u001b[0m\u001b[37m\u001b[0m \u001b[1m0s\u001b[0m 176ms/step - accuracy: 0.9719 - loss: 0.0866\n",
      "Epoch 34: val_accuracy improved from 0.87556 to 0.88130, saving model to classification_model.keras\n",
      "\u001b[1m507/507\u001b[0m \u001b[32m━━━━━━━━━━━━━━━━━━━━\u001b[0m\u001b[37m\u001b[0m \u001b[1m99s\u001b[0m 195ms/step - accuracy: 0.9719 - loss: 0.0866 - val_accuracy: 0.8813 - val_loss: 0.6054\n",
      "Epoch 35/100\n",
      "\u001b[1m507/507\u001b[0m \u001b[32m━━━━━━━━━━━━━━━━━━━━\u001b[0m\u001b[37m\u001b[0m \u001b[1m0s\u001b[0m 176ms/step - accuracy: 0.9682 - loss: 0.0932\n",
      "Epoch 35: val_accuracy did not improve from 0.88130\n",
      "\u001b[1m507/507\u001b[0m \u001b[32m━━━━━━━━━━━━━━━━━━━━\u001b[0m\u001b[37m\u001b[0m \u001b[1m99s\u001b[0m 195ms/step - accuracy: 0.9682 - loss: 0.0932 - val_accuracy: 0.8089 - val_loss: 1.1947\n",
      "Epoch 36/100\n",
      "\u001b[1m507/507\u001b[0m \u001b[32m━━━━━━━━━━━━━━━━━━━━\u001b[0m\u001b[37m\u001b[0m \u001b[1m0s\u001b[0m 177ms/step - accuracy: 0.9701 - loss: 0.0869\n",
      "Epoch 36: val_accuracy did not improve from 0.88130\n",
      "\u001b[1m507/507\u001b[0m \u001b[32m━━━━━━━━━━━━━━━━━━━━\u001b[0m\u001b[37m\u001b[0m \u001b[1m99s\u001b[0m 195ms/step - accuracy: 0.9701 - loss: 0.0869 - val_accuracy: 0.8280 - val_loss: 0.8168\n",
      "Epoch 37/100\n",
      "\u001b[1m507/507\u001b[0m \u001b[32m━━━━━━━━━━━━━━━━━━━━\u001b[0m\u001b[37m\u001b[0m \u001b[1m0s\u001b[0m 179ms/step - accuracy: 0.9712 - loss: 0.0930\n",
      "Epoch 37: val_accuracy did not improve from 0.88130\n",
      "\u001b[1m507/507\u001b[0m \u001b[32m━━━━━━━━━━━━━━━━━━━━\u001b[0m\u001b[37m\u001b[0m \u001b[1m100s\u001b[0m 197ms/step - accuracy: 0.9712 - loss: 0.0931 - val_accuracy: 0.8763 - val_loss: 0.6674\n",
      "Epoch 38/100\n",
      "\u001b[1m507/507\u001b[0m \u001b[32m━━━━━━━━━━━━━━━━━━━━\u001b[0m\u001b[37m\u001b[0m \u001b[1m0s\u001b[0m 177ms/step - accuracy: 0.9718 - loss: 0.0879\n",
      "Epoch 38: val_accuracy did not improve from 0.88130\n",
      "\u001b[1m507/507\u001b[0m \u001b[32m━━━━━━━━━━━━━━━━━━━━\u001b[0m\u001b[37m\u001b[0m \u001b[1m100s\u001b[0m 196ms/step - accuracy: 0.9718 - loss: 0.0879 - val_accuracy: 0.8126 - val_loss: 1.1335\n",
      "Epoch 39/100\n",
      "\u001b[1m507/507\u001b[0m \u001b[32m━━━━━━━━━━━━━━━━━━━━\u001b[0m\u001b[37m\u001b[0m \u001b[1m0s\u001b[0m 177ms/step - accuracy: 0.9709 - loss: 0.0893\n",
      "Epoch 39: val_accuracy did not improve from 0.88130\n",
      "\u001b[1m507/507\u001b[0m \u001b[32m━━━━━━━━━━━━━━━━━━━━\u001b[0m\u001b[37m\u001b[0m \u001b[1m99s\u001b[0m 195ms/step - accuracy: 0.9709 - loss: 0.0893 - val_accuracy: 0.8419 - val_loss: 1.0203\n",
      "Epoch 40/100\n",
      "\u001b[1m507/507\u001b[0m \u001b[32m━━━━━━━━━━━━━━━━━━━━\u001b[0m\u001b[37m\u001b[0m \u001b[1m0s\u001b[0m 183ms/step - accuracy: 0.9759 - loss: 0.0716\n",
      "Epoch 40: val_accuracy did not improve from 0.88130\n",
      "\u001b[1m507/507\u001b[0m \u001b[32m━━━━━━━━━━━━━━━━━━━━\u001b[0m\u001b[37m\u001b[0m \u001b[1m102s\u001b[0m 201ms/step - accuracy: 0.9759 - loss: 0.0716 - val_accuracy: 0.4770 - val_loss: 14.6313\n",
      "Epoch 41/100\n",
      "\u001b[1m507/507\u001b[0m \u001b[32m━━━━━━━━━━━━━━━━━━━━\u001b[0m\u001b[37m\u001b[0m \u001b[1m0s\u001b[0m 177ms/step - accuracy: 0.9673 - loss: 0.1073\n",
      "Epoch 41: val_accuracy did not improve from 0.88130\n",
      "\u001b[1m507/507\u001b[0m \u001b[32m━━━━━━━━━━━━━━━━━━━━\u001b[0m\u001b[37m\u001b[0m \u001b[1m100s\u001b[0m 196ms/step - accuracy: 0.9673 - loss: 0.1073 - val_accuracy: 0.7419 - val_loss: 1.8726\n",
      "Epoch 42/100\n",
      "\u001b[1m507/507\u001b[0m \u001b[32m━━━━━━━━━━━━━━━━━━━━\u001b[0m\u001b[37m\u001b[0m \u001b[1m0s\u001b[0m 176ms/step - accuracy: 0.9651 - loss: 0.1153\n",
      "Epoch 42: val_accuracy did not improve from 0.88130\n",
      "\u001b[1m507/507\u001b[0m \u001b[32m━━━━━━━━━━━━━━━━━━━━\u001b[0m\u001b[37m\u001b[0m \u001b[1m99s\u001b[0m 195ms/step - accuracy: 0.9651 - loss: 0.1153 - val_accuracy: 0.8361 - val_loss: 0.9702\n",
      "Epoch 43/100\n",
      "\u001b[1m507/507\u001b[0m \u001b[32m━━━━━━━━━━━━━━━━━━━━\u001b[0m\u001b[37m\u001b[0m \u001b[1m0s\u001b[0m 178ms/step - accuracy: 0.9707 - loss: 0.0995\n",
      "Epoch 43: val_accuracy did not improve from 0.88130\n",
      "\u001b[1m507/507\u001b[0m \u001b[32m━━━━━━━━━━━━━━━━━━━━\u001b[0m\u001b[37m\u001b[0m \u001b[1m100s\u001b[0m 196ms/step - accuracy: 0.9707 - loss: 0.0995 - val_accuracy: 0.7726 - val_loss: 1.4910\n",
      "Epoch 44/100\n",
      "\u001b[1m507/507\u001b[0m \u001b[32m━━━━━━━━━━━━━━━━━━━━\u001b[0m\u001b[37m\u001b[0m \u001b[1m0s\u001b[0m 176ms/step - accuracy: 0.9744 - loss: 0.0849\n",
      "Epoch 44: val_accuracy did not improve from 0.88130\n",
      "\u001b[1m507/507\u001b[0m \u001b[32m━━━━━━━━━━━━━━━━━━━━\u001b[0m\u001b[37m\u001b[0m \u001b[1m98s\u001b[0m 194ms/step - accuracy: 0.9744 - loss: 0.0849 - val_accuracy: 0.7833 - val_loss: 1.2807\n",
      "Epoch 45/100\n",
      "\u001b[1m507/507\u001b[0m \u001b[32m━━━━━━━━━━━━━━━━━━━━\u001b[0m\u001b[37m\u001b[0m \u001b[1m0s\u001b[0m 176ms/step - accuracy: 0.9737 - loss: 0.0853\n",
      "Epoch 45: val_accuracy did not improve from 0.88130\n",
      "\u001b[1m507/507\u001b[0m \u001b[32m━━━━━━━━━━━━━━━━━━━━\u001b[0m\u001b[37m\u001b[0m \u001b[1m99s\u001b[0m 194ms/step - accuracy: 0.9737 - loss: 0.0853 - val_accuracy: 0.8411 - val_loss: 0.9836\n",
      "Epoch 46/100\n",
      "\u001b[1m507/507\u001b[0m \u001b[32m━━━━━━━━━━━━━━━━━━━━\u001b[0m\u001b[37m\u001b[0m \u001b[1m0s\u001b[0m 176ms/step - accuracy: 0.9742 - loss: 0.0790\n",
      "Epoch 46: val_accuracy did not improve from 0.88130\n",
      "\u001b[1m507/507\u001b[0m \u001b[32m━━━━━━━━━━━━━━━━━━━━\u001b[0m\u001b[37m\u001b[0m \u001b[1m99s\u001b[0m 194ms/step - accuracy: 0.9742 - loss: 0.0790 - val_accuracy: 0.7987 - val_loss: 1.2800\n",
      "Epoch 47/100\n",
      "\u001b[1m507/507\u001b[0m \u001b[32m━━━━━━━━━━━━━━━━━━━━\u001b[0m\u001b[37m\u001b[0m \u001b[1m0s\u001b[0m 188ms/step - accuracy: 0.9768 - loss: 0.0664\n",
      "Epoch 47: val_accuracy improved from 0.88130 to 0.88722, saving model to classification_model.keras\n",
      "\u001b[1m507/507\u001b[0m \u001b[32m━━━━━━━━━━━━━━━━━━━━\u001b[0m\u001b[37m\u001b[0m \u001b[1m105s\u001b[0m 207ms/step - accuracy: 0.9768 - loss: 0.0664 - val_accuracy: 0.8872 - val_loss: 0.7017\n",
      "Epoch 48/100\n",
      "\u001b[1m507/507\u001b[0m \u001b[32m━━━━━━━━━━━━━━━━━━━━\u001b[0m\u001b[37m\u001b[0m \u001b[1m0s\u001b[0m 186ms/step - accuracy: 0.9779 - loss: 0.0679\n",
      "Epoch 48: val_accuracy did not improve from 0.88722\n",
      "\u001b[1m507/507\u001b[0m \u001b[32m━━━━━━━━━━━━━━━━━━━━\u001b[0m\u001b[37m\u001b[0m \u001b[1m104s\u001b[0m 205ms/step - accuracy: 0.9779 - loss: 0.0679 - val_accuracy: 0.7904 - val_loss: 1.9415\n",
      "Epoch 49/100\n",
      "\u001b[1m507/507\u001b[0m \u001b[32m━━━━━━━━━━━━━━━━━━━━\u001b[0m\u001b[37m\u001b[0m \u001b[1m0s\u001b[0m 186ms/step - accuracy: 0.9769 - loss: 0.0770\n",
      "Epoch 49: val_accuracy did not improve from 0.88722\n",
      "\u001b[1m507/507\u001b[0m \u001b[32m━━━━━━━━━━━━━━━━━━━━\u001b[0m\u001b[37m\u001b[0m \u001b[1m103s\u001b[0m 203ms/step - accuracy: 0.9769 - loss: 0.0770 - val_accuracy: 0.8380 - val_loss: 0.7322\n"
     ]
    },
    {
     "name": "stdout",
     "output_type": "stream",
     "text": [
      "Epoch 50/100\n",
      "\u001b[1m507/507\u001b[0m \u001b[32m━━━━━━━━━━━━━━━━━━━━\u001b[0m\u001b[37m\u001b[0m \u001b[1m0s\u001b[0m 169ms/step - accuracy: 0.9758 - loss: 0.0857\n",
      "Epoch 50: val_accuracy did not improve from 0.88722\n",
      "\u001b[1m507/507\u001b[0m \u001b[32m━━━━━━━━━━━━━━━━━━━━\u001b[0m\u001b[37m\u001b[0m \u001b[1m93s\u001b[0m 184ms/step - accuracy: 0.9758 - loss: 0.0856 - val_accuracy: 0.8843 - val_loss: 0.6637\n",
      "Epoch 51/100\n",
      "\u001b[1m507/507\u001b[0m \u001b[32m━━━━━━━━━━━━━━━━━━━━\u001b[0m\u001b[37m\u001b[0m \u001b[1m0s\u001b[0m 163ms/step - accuracy: 0.9768 - loss: 0.0771\n",
      "Epoch 51: val_accuracy did not improve from 0.88722\n",
      "\u001b[1m507/507\u001b[0m \u001b[32m━━━━━━━━━━━━━━━━━━━━\u001b[0m\u001b[37m\u001b[0m \u001b[1m91s\u001b[0m 180ms/step - accuracy: 0.9768 - loss: 0.0771 - val_accuracy: 0.7872 - val_loss: 1.3794\n",
      "Epoch 52/100\n",
      "\u001b[1m507/507\u001b[0m \u001b[32m━━━━━━━━━━━━━━━━━━━━\u001b[0m\u001b[37m\u001b[0m \u001b[1m0s\u001b[0m 161ms/step - accuracy: 0.9746 - loss: 0.0767\n",
      "Epoch 52: val_accuracy did not improve from 0.88722\n",
      "\u001b[1m507/507\u001b[0m \u001b[32m━━━━━━━━━━━━━━━━━━━━\u001b[0m\u001b[37m\u001b[0m \u001b[1m90s\u001b[0m 176ms/step - accuracy: 0.9746 - loss: 0.0767 - val_accuracy: 0.8626 - val_loss: 0.6875\n",
      "Epoch 53/100\n",
      "\u001b[1m507/507\u001b[0m \u001b[32m━━━━━━━━━━━━━━━━━━━━\u001b[0m\u001b[37m\u001b[0m \u001b[1m0s\u001b[0m 189ms/step - accuracy: 0.9793 - loss: 0.0671\n",
      "Epoch 53: val_accuracy did not improve from 0.88722\n",
      "\u001b[1m507/507\u001b[0m \u001b[32m━━━━━━━━━━━━━━━━━━━━\u001b[0m\u001b[37m\u001b[0m \u001b[1m104s\u001b[0m 205ms/step - accuracy: 0.9793 - loss: 0.0671 - val_accuracy: 0.8419 - val_loss: 0.9469\n",
      "Epoch 54/100\n",
      "\u001b[1m507/507\u001b[0m \u001b[32m━━━━━━━━━━━━━━━━━━━━\u001b[0m\u001b[37m\u001b[0m \u001b[1m0s\u001b[0m 168ms/step - accuracy: 0.9775 - loss: 0.0740\n",
      "Epoch 54: val_accuracy did not improve from 0.88722\n",
      "\u001b[1m507/507\u001b[0m \u001b[32m━━━━━━━━━━━━━━━━━━━━\u001b[0m\u001b[37m\u001b[0m \u001b[1m98s\u001b[0m 192ms/step - accuracy: 0.9775 - loss: 0.0740 - val_accuracy: 0.7307 - val_loss: 2.6980\n",
      "Epoch 55/100\n",
      "\u001b[1m507/507\u001b[0m \u001b[32m━━━━━━━━━━━━━━━━━━━━\u001b[0m\u001b[37m\u001b[0m \u001b[1m0s\u001b[0m 186ms/step - accuracy: 0.9798 - loss: 0.0706\n",
      "Epoch 55: val_accuracy did not improve from 0.88722\n",
      "\u001b[1m507/507\u001b[0m \u001b[32m━━━━━━━━━━━━━━━━━━━━\u001b[0m\u001b[37m\u001b[0m \u001b[1m103s\u001b[0m 202ms/step - accuracy: 0.9798 - loss: 0.0706 - val_accuracy: 0.7057 - val_loss: 2.3841\n",
      "Epoch 56/100\n",
      "\u001b[1m507/507\u001b[0m \u001b[32m━━━━━━━━━━━━━━━━━━━━\u001b[0m\u001b[37m\u001b[0m \u001b[1m0s\u001b[0m 169ms/step - accuracy: 0.9781 - loss: 0.0668\n",
      "Epoch 56: val_accuracy did not improve from 0.88722\n",
      "\u001b[1m507/507\u001b[0m \u001b[32m━━━━━━━━━━━━━━━━━━━━\u001b[0m\u001b[37m\u001b[0m \u001b[1m95s\u001b[0m 187ms/step - accuracy: 0.9781 - loss: 0.0668 - val_accuracy: 0.8824 - val_loss: 0.6623\n",
      "Epoch 57/100\n",
      "\u001b[1m507/507\u001b[0m \u001b[32m━━━━━━━━━━━━━━━━━━━━\u001b[0m\u001b[37m\u001b[0m \u001b[1m0s\u001b[0m 163ms/step - accuracy: 0.9778 - loss: 0.0688\n",
      "Epoch 57: val_accuracy did not improve from 0.88722\n",
      "\u001b[1m507/507\u001b[0m \u001b[32m━━━━━━━━━━━━━━━━━━━━\u001b[0m\u001b[37m\u001b[0m \u001b[1m90s\u001b[0m 177ms/step - accuracy: 0.9778 - loss: 0.0688 - val_accuracy: 0.8796 - val_loss: 0.7491\n",
      "Epoch 58/100\n",
      "\u001b[1m507/507\u001b[0m \u001b[32m━━━━━━━━━━━━━━━━━━━━\u001b[0m\u001b[37m\u001b[0m \u001b[1m0s\u001b[0m 150ms/step - accuracy: 0.9765 - loss: 0.0828\n",
      "Epoch 58: val_accuracy did not improve from 0.88722\n",
      "\u001b[1m507/507\u001b[0m \u001b[32m━━━━━━━━━━━━━━━━━━━━\u001b[0m\u001b[37m\u001b[0m \u001b[1m83s\u001b[0m 164ms/step - accuracy: 0.9765 - loss: 0.0828 - val_accuracy: 0.8654 - val_loss: 0.9015\n",
      "Epoch 59/100\n",
      "\u001b[1m507/507\u001b[0m \u001b[32m━━━━━━━━━━━━━━━━━━━━\u001b[0m\u001b[37m\u001b[0m \u001b[1m0s\u001b[0m 148ms/step - accuracy: 0.9747 - loss: 0.0866\n",
      "Epoch 59: val_accuracy improved from 0.88722 to 0.90000, saving model to classification_model.keras\n",
      "\u001b[1m507/507\u001b[0m \u001b[32m━━━━━━━━━━━━━━━━━━━━\u001b[0m\u001b[37m\u001b[0m \u001b[1m83s\u001b[0m 163ms/step - accuracy: 0.9747 - loss: 0.0866 - val_accuracy: 0.9000 - val_loss: 0.6331\n",
      "Epoch 60/100\n",
      "\u001b[1m507/507\u001b[0m \u001b[32m━━━━━━━━━━━━━━━━━━━━\u001b[0m\u001b[37m\u001b[0m \u001b[1m0s\u001b[0m 147ms/step - accuracy: 0.9828 - loss: 0.0539\n",
      "Epoch 60: val_accuracy did not improve from 0.90000\n",
      "\u001b[1m507/507\u001b[0m \u001b[32m━━━━━━━━━━━━━━━━━━━━\u001b[0m\u001b[37m\u001b[0m \u001b[1m82s\u001b[0m 162ms/step - accuracy: 0.9828 - loss: 0.0539 - val_accuracy: 0.8641 - val_loss: 0.9353\n",
      "Epoch 61/100\n",
      "\u001b[1m507/507\u001b[0m \u001b[32m━━━━━━━━━━━━━━━━━━━━\u001b[0m\u001b[37m\u001b[0m \u001b[1m0s\u001b[0m 147ms/step - accuracy: 0.9833 - loss: 0.0561\n",
      "Epoch 61: val_accuracy did not improve from 0.90000\n",
      "\u001b[1m507/507\u001b[0m \u001b[32m━━━━━━━━━━━━━━━━━━━━\u001b[0m\u001b[37m\u001b[0m \u001b[1m82s\u001b[0m 162ms/step - accuracy: 0.9833 - loss: 0.0561 - val_accuracy: 0.8928 - val_loss: 0.6004\n",
      "Epoch 62/100\n",
      "\u001b[1m507/507\u001b[0m \u001b[32m━━━━━━━━━━━━━━━━━━━━\u001b[0m\u001b[37m\u001b[0m \u001b[1m0s\u001b[0m 149ms/step - accuracy: 0.9860 - loss: 0.0520\n",
      "Epoch 62: val_accuracy did not improve from 0.90000\n",
      "\u001b[1m507/507\u001b[0m \u001b[32m━━━━━━━━━━━━━━━━━━━━\u001b[0m\u001b[37m\u001b[0m \u001b[1m84s\u001b[0m 165ms/step - accuracy: 0.9860 - loss: 0.0520 - val_accuracy: 0.8465 - val_loss: 0.7487\n",
      "Epoch 63/100\n",
      "\u001b[1m507/507\u001b[0m \u001b[32m━━━━━━━━━━━━━━━━━━━━\u001b[0m\u001b[37m\u001b[0m \u001b[1m0s\u001b[0m 162ms/step - accuracy: 0.9828 - loss: 0.0597\n",
      "Epoch 63: val_accuracy did not improve from 0.90000\n",
      "\u001b[1m507/507\u001b[0m \u001b[32m━━━━━━━━━━━━━━━━━━━━\u001b[0m\u001b[37m\u001b[0m \u001b[1m90s\u001b[0m 176ms/step - accuracy: 0.9828 - loss: 0.0597 - val_accuracy: 0.8985 - val_loss: 0.7195\n",
      "Epoch 64/100\n",
      "\u001b[1m507/507\u001b[0m \u001b[32m━━━━━━━━━━━━━━━━━━━━\u001b[0m\u001b[37m\u001b[0m \u001b[1m0s\u001b[0m 150ms/step - accuracy: 0.9842 - loss: 0.0513\n",
      "Epoch 64: val_accuracy did not improve from 0.90000\n",
      "\u001b[1m507/507\u001b[0m \u001b[32m━━━━━━━━━━━━━━━━━━━━\u001b[0m\u001b[37m\u001b[0m \u001b[1m84s\u001b[0m 165ms/step - accuracy: 0.9842 - loss: 0.0513 - val_accuracy: 0.8372 - val_loss: 1.5205\n",
      "Epoch 65/100\n",
      "\u001b[1m507/507\u001b[0m \u001b[32m━━━━━━━━━━━━━━━━━━━━\u001b[0m\u001b[37m\u001b[0m \u001b[1m0s\u001b[0m 149ms/step - accuracy: 0.9829 - loss: 0.0600\n",
      "Epoch 65: val_accuracy did not improve from 0.90000\n",
      "\u001b[1m507/507\u001b[0m \u001b[32m━━━━━━━━━━━━━━━━━━━━\u001b[0m\u001b[37m\u001b[0m \u001b[1m83s\u001b[0m 163ms/step - accuracy: 0.9829 - loss: 0.0600 - val_accuracy: 0.8822 - val_loss: 0.6650\n",
      "Epoch 66/100\n",
      "\u001b[1m507/507\u001b[0m \u001b[32m━━━━━━━━━━━━━━━━━━━━\u001b[0m\u001b[37m\u001b[0m \u001b[1m0s\u001b[0m 149ms/step - accuracy: 0.9857 - loss: 0.0455\n",
      "Epoch 66: val_accuracy did not improve from 0.90000\n",
      "\u001b[1m507/507\u001b[0m \u001b[32m━━━━━━━━━━━━━━━━━━━━\u001b[0m\u001b[37m\u001b[0m \u001b[1m84s\u001b[0m 166ms/step - accuracy: 0.9857 - loss: 0.0455 - val_accuracy: 0.8676 - val_loss: 0.8883\n",
      "Epoch 67/100\n",
      "\u001b[1m507/507\u001b[0m \u001b[32m━━━━━━━━━━━━━━━━━━━━\u001b[0m\u001b[37m\u001b[0m \u001b[1m0s\u001b[0m 155ms/step - accuracy: 0.9839 - loss: 0.0533\n",
      "Epoch 67: val_accuracy did not improve from 0.90000\n",
      "\u001b[1m507/507\u001b[0m \u001b[32m━━━━━━━━━━━━━━━━━━━━\u001b[0m\u001b[37m\u001b[0m \u001b[1m87s\u001b[0m 170ms/step - accuracy: 0.9838 - loss: 0.0533 - val_accuracy: 0.8804 - val_loss: 0.7910\n",
      "Epoch 68/100\n",
      "\u001b[1m507/507\u001b[0m \u001b[32m━━━━━━━━━━━━━━━━━━━━\u001b[0m\u001b[37m\u001b[0m \u001b[1m0s\u001b[0m 177ms/step - accuracy: 0.9818 - loss: 0.0559\n",
      "Epoch 68: val_accuracy did not improve from 0.90000\n",
      "\u001b[1m507/507\u001b[0m \u001b[32m━━━━━━━━━━━━━━━━━━━━\u001b[0m\u001b[37m\u001b[0m \u001b[1m98s\u001b[0m 192ms/step - accuracy: 0.9818 - loss: 0.0559 - val_accuracy: 0.8033 - val_loss: 1.2269\n",
      "Epoch 69/100\n",
      "\u001b[1m507/507\u001b[0m \u001b[32m━━━━━━━━━━━━━━━━━━━━\u001b[0m\u001b[37m\u001b[0m \u001b[1m0s\u001b[0m 158ms/step - accuracy: 0.9840 - loss: 0.0529\n",
      "Epoch 69: val_accuracy did not improve from 0.90000\n",
      "\u001b[1m507/507\u001b[0m \u001b[32m━━━━━━━━━━━━━━━━━━━━\u001b[0m\u001b[37m\u001b[0m \u001b[1m87s\u001b[0m 172ms/step - accuracy: 0.9840 - loss: 0.0529 - val_accuracy: 0.8352 - val_loss: 1.0363\n",
      "Epoch 70/100\n",
      "\u001b[1m507/507\u001b[0m \u001b[32m━━━━━━━━━━━━━━━━━━━━\u001b[0m\u001b[37m\u001b[0m \u001b[1m0s\u001b[0m 145ms/step - accuracy: 0.9841 - loss: 0.0629\n",
      "Epoch 70: val_accuracy did not improve from 0.90000\n",
      "\u001b[1m507/507\u001b[0m \u001b[32m━━━━━━━━━━━━━━━━━━━━\u001b[0m\u001b[37m\u001b[0m \u001b[1m81s\u001b[0m 159ms/step - accuracy: 0.9841 - loss: 0.0629 - val_accuracy: 0.7020 - val_loss: 4.8222\n",
      "Epoch 71/100\n",
      "\u001b[1m507/507\u001b[0m \u001b[32m━━━━━━━━━━━━━━━━━━━━\u001b[0m\u001b[37m\u001b[0m \u001b[1m0s\u001b[0m 146ms/step - accuracy: 0.9832 - loss: 0.0639\n",
      "Epoch 71: val_accuracy improved from 0.90000 to 0.90796, saving model to classification_model.keras\n",
      "\u001b[1m507/507\u001b[0m \u001b[32m━━━━━━━━━━━━━━━━━━━━\u001b[0m\u001b[37m\u001b[0m \u001b[1m81s\u001b[0m 160ms/step - accuracy: 0.9832 - loss: 0.0639 - val_accuracy: 0.9080 - val_loss: 0.6253\n",
      "Epoch 72/100\n",
      "\u001b[1m507/507\u001b[0m \u001b[32m━━━━━━━━━━━━━━━━━━━━\u001b[0m\u001b[37m\u001b[0m \u001b[1m0s\u001b[0m 148ms/step - accuracy: 0.9850 - loss: 0.0501\n",
      "Epoch 72: val_accuracy did not improve from 0.90796\n",
      "\u001b[1m507/507\u001b[0m \u001b[32m━━━━━━━━━━━━━━━━━━━━\u001b[0m\u001b[37m\u001b[0m \u001b[1m82s\u001b[0m 162ms/step - accuracy: 0.9850 - loss: 0.0501 - val_accuracy: 0.8178 - val_loss: 1.1830\n",
      "Epoch 73/100\n",
      "\u001b[1m507/507\u001b[0m \u001b[32m━━━━━━━━━━━━━━━━━━━━\u001b[0m\u001b[37m\u001b[0m \u001b[1m0s\u001b[0m 142ms/step - accuracy: 0.9846 - loss: 0.0478\n",
      "Epoch 73: val_accuracy did not improve from 0.90796\n",
      "\u001b[1m507/507\u001b[0m \u001b[32m━━━━━━━━━━━━━━━━━━━━\u001b[0m\u001b[37m\u001b[0m \u001b[1m79s\u001b[0m 154ms/step - accuracy: 0.9846 - loss: 0.0478 - val_accuracy: 0.8143 - val_loss: 1.3122\n",
      "Epoch 74/100\n",
      "\u001b[1m507/507\u001b[0m \u001b[32m━━━━━━━━━━━━━━━━━━━━\u001b[0m\u001b[37m\u001b[0m \u001b[1m0s\u001b[0m 133ms/step - accuracy: 0.9817 - loss: 0.0711\n",
      "Epoch 74: val_accuracy did not improve from 0.90796\n"
     ]
    },
    {
     "name": "stdout",
     "output_type": "stream",
     "text": [
      "\u001b[1m507/507\u001b[0m \u001b[32m━━━━━━━━━━━━━━━━━━━━\u001b[0m\u001b[37m\u001b[0m \u001b[1m74s\u001b[0m 146ms/step - accuracy: 0.9817 - loss: 0.0711 - val_accuracy: 0.8311 - val_loss: 1.1842\n",
      "Epoch 75/100\n",
      "\u001b[1m507/507\u001b[0m \u001b[32m━━━━━━━━━━━━━━━━━━━━\u001b[0m\u001b[37m\u001b[0m \u001b[1m0s\u001b[0m 132ms/step - accuracy: 0.9830 - loss: 0.0630\n",
      "Epoch 75: val_accuracy did not improve from 0.90796\n",
      "\u001b[1m507/507\u001b[0m \u001b[32m━━━━━━━━━━━━━━━━━━━━\u001b[0m\u001b[37m\u001b[0m \u001b[1m74s\u001b[0m 145ms/step - accuracy: 0.9830 - loss: 0.0630 - val_accuracy: 0.8693 - val_loss: 0.9476\n",
      "Epoch 76/100\n",
      "\u001b[1m507/507\u001b[0m \u001b[32m━━━━━━━━━━━━━━━━━━━━\u001b[0m\u001b[37m\u001b[0m \u001b[1m0s\u001b[0m 132ms/step - accuracy: 0.9833 - loss: 0.0562\n",
      "Epoch 76: val_accuracy did not improve from 0.90796\n",
      "\u001b[1m507/507\u001b[0m \u001b[32m━━━━━━━━━━━━━━━━━━━━\u001b[0m\u001b[37m\u001b[0m \u001b[1m74s\u001b[0m 145ms/step - accuracy: 0.9833 - loss: 0.0562 - val_accuracy: 0.8785 - val_loss: 0.8002\n",
      "Epoch 77/100\n",
      "\u001b[1m507/507\u001b[0m \u001b[32m━━━━━━━━━━━━━━━━━━━━\u001b[0m\u001b[37m\u001b[0m \u001b[1m0s\u001b[0m 133ms/step - accuracy: 0.9869 - loss: 0.0464\n",
      "Epoch 77: val_accuracy did not improve from 0.90796\n",
      "\u001b[1m507/507\u001b[0m \u001b[32m━━━━━━━━━━━━━━━━━━━━\u001b[0m\u001b[37m\u001b[0m \u001b[1m74s\u001b[0m 146ms/step - accuracy: 0.9869 - loss: 0.0464 - val_accuracy: 0.8500 - val_loss: 1.3497\n",
      "Epoch 78/100\n",
      "\u001b[1m507/507\u001b[0m \u001b[32m━━━━━━━━━━━━━━━━━━━━\u001b[0m\u001b[37m\u001b[0m \u001b[1m0s\u001b[0m 170ms/step - accuracy: 0.9838 - loss: 0.0483\n",
      "Epoch 78: val_accuracy did not improve from 0.90796\n",
      "\u001b[1m507/507\u001b[0m \u001b[32m━━━━━━━━━━━━━━━━━━━━\u001b[0m\u001b[37m\u001b[0m \u001b[1m96s\u001b[0m 189ms/step - accuracy: 0.9838 - loss: 0.0483 - val_accuracy: 0.8269 - val_loss: 1.3951\n",
      "Epoch 79/100\n",
      "\u001b[1m507/507\u001b[0m \u001b[32m━━━━━━━━━━━━━━━━━━━━\u001b[0m\u001b[37m\u001b[0m \u001b[1m0s\u001b[0m 185ms/step - accuracy: 0.9850 - loss: 0.0552\n",
      "Epoch 79: val_accuracy did not improve from 0.90796\n",
      "\u001b[1m507/507\u001b[0m \u001b[32m━━━━━━━━━━━━━━━━━━━━\u001b[0m\u001b[37m\u001b[0m \u001b[1m103s\u001b[0m 203ms/step - accuracy: 0.9850 - loss: 0.0552 - val_accuracy: 0.8631 - val_loss: 1.0198\n",
      "Epoch 80/100\n",
      "\u001b[1m507/507\u001b[0m \u001b[32m━━━━━━━━━━━━━━━━━━━━\u001b[0m\u001b[37m\u001b[0m \u001b[1m0s\u001b[0m 180ms/step - accuracy: 0.9866 - loss: 0.0418\n",
      "Epoch 80: val_accuracy did not improve from 0.90796\n",
      "\u001b[1m507/507\u001b[0m \u001b[32m━━━━━━━━━━━━━━━━━━━━\u001b[0m\u001b[37m\u001b[0m \u001b[1m101s\u001b[0m 198ms/step - accuracy: 0.9866 - loss: 0.0418 - val_accuracy: 0.8913 - val_loss: 0.8372\n",
      "Epoch 81/100\n",
      "\u001b[1m507/507\u001b[0m \u001b[32m━━━━━━━━━━━━━━━━━━━━\u001b[0m\u001b[37m\u001b[0m \u001b[1m0s\u001b[0m 174ms/step - accuracy: 0.9888 - loss: 0.0396\n",
      "Epoch 81: val_accuracy did not improve from 0.90796\n",
      "\u001b[1m507/507\u001b[0m \u001b[32m━━━━━━━━━━━━━━━━━━━━\u001b[0m\u001b[37m\u001b[0m \u001b[1m98s\u001b[0m 193ms/step - accuracy: 0.9888 - loss: 0.0396 - val_accuracy: 0.8822 - val_loss: 1.0336\n",
      "Epoch 82/100\n",
      "\u001b[1m507/507\u001b[0m \u001b[32m━━━━━━━━━━━━━━━━━━━━\u001b[0m\u001b[37m\u001b[0m \u001b[1m0s\u001b[0m 173ms/step - accuracy: 0.9873 - loss: 0.0497\n",
      "Epoch 82: val_accuracy did not improve from 0.90796\n",
      "\u001b[1m507/507\u001b[0m \u001b[32m━━━━━━━━━━━━━━━━━━━━\u001b[0m\u001b[37m\u001b[0m \u001b[1m98s\u001b[0m 192ms/step - accuracy: 0.9873 - loss: 0.0497 - val_accuracy: 0.8124 - val_loss: 1.4124\n",
      "Epoch 83/100\n",
      "\u001b[1m507/507\u001b[0m \u001b[32m━━━━━━━━━━━━━━━━━━━━\u001b[0m\u001b[37m\u001b[0m \u001b[1m0s\u001b[0m 173ms/step - accuracy: 0.9888 - loss: 0.0385\n",
      "Epoch 83: val_accuracy did not improve from 0.90796\n",
      "\u001b[1m507/507\u001b[0m \u001b[32m━━━━━━━━━━━━━━━━━━━━\u001b[0m\u001b[37m\u001b[0m \u001b[1m97s\u001b[0m 192ms/step - accuracy: 0.9888 - loss: 0.0385 - val_accuracy: 0.8650 - val_loss: 0.7693\n",
      "Epoch 84/100\n",
      "\u001b[1m507/507\u001b[0m \u001b[32m━━━━━━━━━━━━━━━━━━━━\u001b[0m\u001b[37m\u001b[0m \u001b[1m0s\u001b[0m 173ms/step - accuracy: 0.9830 - loss: 0.0640\n",
      "Epoch 84: val_accuracy did not improve from 0.90796\n",
      "\u001b[1m507/507\u001b[0m \u001b[32m━━━━━━━━━━━━━━━━━━━━\u001b[0m\u001b[37m\u001b[0m \u001b[1m97s\u001b[0m 191ms/step - accuracy: 0.9830 - loss: 0.0640 - val_accuracy: 0.8804 - val_loss: 0.7915\n",
      "Epoch 85/100\n",
      "\u001b[1m507/507\u001b[0m \u001b[32m━━━━━━━━━━━━━━━━━━━━\u001b[0m\u001b[37m\u001b[0m \u001b[1m0s\u001b[0m 630ms/step - accuracy: 0.9865 - loss: 0.0514\n",
      "Epoch 85: val_accuracy did not improve from 0.90796\n",
      "\u001b[1m507/507\u001b[0m \u001b[32m━━━━━━━━━━━━━━━━━━━━\u001b[0m\u001b[37m\u001b[0m \u001b[1m327s\u001b[0m 644ms/step - accuracy: 0.9865 - loss: 0.0514 - val_accuracy: 0.8241 - val_loss: 1.3773\n",
      "Epoch 86/100\n",
      "\u001b[1m507/507\u001b[0m \u001b[32m━━━━━━━━━━━━━━━━━━━━\u001b[0m\u001b[37m\u001b[0m \u001b[1m0s\u001b[0m 180ms/step - accuracy: 0.9825 - loss: 0.0798\n",
      "Epoch 86: val_accuracy did not improve from 0.90796\n",
      "\u001b[1m507/507\u001b[0m \u001b[32m━━━━━━━━━━━━━━━━━━━━\u001b[0m\u001b[37m\u001b[0m \u001b[1m101s\u001b[0m 199ms/step - accuracy: 0.9825 - loss: 0.0797 - val_accuracy: 0.6878 - val_loss: 3.8793\n",
      "Epoch 87/100\n",
      "\u001b[1m507/507\u001b[0m \u001b[32m━━━━━━━━━━━━━━━━━━━━\u001b[0m\u001b[37m\u001b[0m \u001b[1m0s\u001b[0m 202ms/step - accuracy: 0.9860 - loss: 0.0418\n",
      "Epoch 87: val_accuracy did not improve from 0.90796\n",
      "\u001b[1m507/507\u001b[0m \u001b[32m━━━━━━━━━━━━━━━━━━━━\u001b[0m\u001b[37m\u001b[0m \u001b[1m112s\u001b[0m 221ms/step - accuracy: 0.9860 - loss: 0.0418 - val_accuracy: 0.8815 - val_loss: 0.7943\n",
      "Epoch 88/100\n",
      "\u001b[1m507/507\u001b[0m \u001b[32m━━━━━━━━━━━━━━━━━━━━\u001b[0m\u001b[37m\u001b[0m \u001b[1m0s\u001b[0m 196ms/step - accuracy: 0.9871 - loss: 0.0464\n",
      "Epoch 88: val_accuracy did not improve from 0.90796\n",
      "\u001b[1m507/507\u001b[0m \u001b[32m━━━━━━━━━━━━━━━━━━━━\u001b[0m\u001b[37m\u001b[0m \u001b[1m110s\u001b[0m 217ms/step - accuracy: 0.9871 - loss: 0.0464 - val_accuracy: 0.8820 - val_loss: 0.7871\n",
      "Epoch 89/100\n",
      "\u001b[1m507/507\u001b[0m \u001b[32m━━━━━━━━━━━━━━━━━━━━\u001b[0m\u001b[37m\u001b[0m \u001b[1m0s\u001b[0m 197ms/step - accuracy: 0.9876 - loss: 0.0425\n",
      "Epoch 89: val_accuracy did not improve from 0.90796\n",
      "\u001b[1m507/507\u001b[0m \u001b[32m━━━━━━━━━━━━━━━━━━━━\u001b[0m\u001b[37m\u001b[0m \u001b[1m111s\u001b[0m 218ms/step - accuracy: 0.9876 - loss: 0.0425 - val_accuracy: 0.8570 - val_loss: 0.9694\n",
      "Epoch 90/100\n",
      "\u001b[1m507/507\u001b[0m \u001b[32m━━━━━━━━━━━━━━━━━━━━\u001b[0m\u001b[37m\u001b[0m \u001b[1m0s\u001b[0m 209ms/step - accuracy: 0.9888 - loss: 0.0455\n",
      "Epoch 90: val_accuracy did not improve from 0.90796\n",
      "\u001b[1m507/507\u001b[0m \u001b[32m━━━━━━━━━━━━━━━━━━━━\u001b[0m\u001b[37m\u001b[0m \u001b[1m116s\u001b[0m 228ms/step - accuracy: 0.9888 - loss: 0.0455 - val_accuracy: 0.7594 - val_loss: 1.5627\n",
      "Epoch 91/100\n",
      "\u001b[1m507/507\u001b[0m \u001b[32m━━━━━━━━━━━━━━━━━━━━\u001b[0m\u001b[37m\u001b[0m \u001b[1m0s\u001b[0m 211ms/step - accuracy: 0.9880 - loss: 0.0434\n",
      "Epoch 91: val_accuracy did not improve from 0.90796\n",
      "\u001b[1m507/507\u001b[0m \u001b[32m━━━━━━━━━━━━━━━━━━━━\u001b[0m\u001b[37m\u001b[0m \u001b[1m118s\u001b[0m 232ms/step - accuracy: 0.9880 - loss: 0.0434 - val_accuracy: 0.7170 - val_loss: 2.6003\n",
      "Epoch 91: early stopping\n",
      "Restoring model weights from the end of the best epoch: 71.\n"
     ]
    },
    {
     "name": "stderr",
     "output_type": "stream",
     "text": [
      "WARNING:absl:You are saving your model as an HDF5 file via `model.save()` or `keras.saving.save_model(model)`. This file format is considered legacy. We recommend using instead the native Keras format, e.g. `model.save('my_model.keras')` or `keras.saving.save_model(model, 'my_model.keras')`. \n"
     ]
    },
    {
     "name": "stdout",
     "output_type": "stream",
     "text": [
      "Training model with GlorotUniform initialization\n",
      "Epoch 1/100\n",
      "\u001b[1m507/507\u001b[0m \u001b[32m━━━━━━━━━━━━━━━━━━━━\u001b[0m\u001b[37m\u001b[0m \u001b[1m0s\u001b[0m 181ms/step - accuracy: 0.3823 - loss: 2.0131\n",
      "Epoch 1: val_accuracy did not improve from 0.90796\n",
      "\u001b[1m507/507\u001b[0m \u001b[32m━━━━━━━━━━━━━━━━━━━━\u001b[0m\u001b[37m\u001b[0m \u001b[1m108s\u001b[0m 201ms/step - accuracy: 0.3824 - loss: 2.0123 - val_accuracy: 0.1517 - val_loss: 10.5541\n",
      "Epoch 2/100\n",
      "\u001b[1m507/507\u001b[0m \u001b[32m━━━━━━━━━━━━━━━━━━━━\u001b[0m\u001b[37m\u001b[0m \u001b[1m0s\u001b[0m 182ms/step - accuracy: 0.5409 - loss: 1.3061\n",
      "Epoch 2: val_accuracy did not improve from 0.90796\n",
      "\u001b[1m507/507\u001b[0m \u001b[32m━━━━━━━━━━━━━━━━━━━━\u001b[0m\u001b[37m\u001b[0m \u001b[1m102s\u001b[0m 201ms/step - accuracy: 0.5409 - loss: 1.3060 - val_accuracy: 0.4863 - val_loss: 1.8659\n",
      "Epoch 3/100\n",
      "\u001b[1m507/507\u001b[0m \u001b[32m━━━━━━━━━━━━━━━━━━━━\u001b[0m\u001b[37m\u001b[0m \u001b[1m0s\u001b[0m 198ms/step - accuracy: 0.5971 - loss: 1.1096\n",
      "Epoch 3: val_accuracy did not improve from 0.90796\n",
      "\u001b[1m507/507\u001b[0m \u001b[32m━━━━━━━━━━━━━━━━━━━━\u001b[0m\u001b[37m\u001b[0m \u001b[1m110s\u001b[0m 217ms/step - accuracy: 0.5972 - loss: 1.1096 - val_accuracy: 0.3796 - val_loss: 3.2634\n",
      "Epoch 4/100\n",
      "\u001b[1m507/507\u001b[0m \u001b[32m━━━━━━━━━━━━━━━━━━━━\u001b[0m\u001b[37m\u001b[0m \u001b[1m0s\u001b[0m 191ms/step - accuracy: 0.6538 - loss: 0.9721\n",
      "Epoch 4: val_accuracy did not improve from 0.90796\n",
      "\u001b[1m507/507\u001b[0m \u001b[32m━━━━━━━━━━━━━━━━━━━━\u001b[0m\u001b[37m\u001b[0m \u001b[1m107s\u001b[0m 210ms/step - accuracy: 0.6538 - loss: 0.9721 - val_accuracy: 0.6498 - val_loss: 1.1700\n",
      "Epoch 5/100\n",
      "\u001b[1m507/507\u001b[0m \u001b[32m━━━━━━━━━━━━━━━━━━━━\u001b[0m\u001b[37m\u001b[0m \u001b[1m0s\u001b[0m 201ms/step - accuracy: 0.6880 - loss: 0.8866\n",
      "Epoch 5: val_accuracy did not improve from 0.90796\n",
      "\u001b[1m507/507\u001b[0m \u001b[32m━━━━━━━━━━━━━━━━━━━━\u001b[0m\u001b[37m\u001b[0m \u001b[1m147s\u001b[0m 221ms/step - accuracy: 0.6880 - loss: 0.8865 - val_accuracy: 0.6909 - val_loss: 1.0323\n",
      "Epoch 6/100\n",
      "\u001b[1m507/507\u001b[0m \u001b[32m━━━━━━━━━━━━━━━━━━━━\u001b[0m\u001b[37m\u001b[0m \u001b[1m0s\u001b[0m 196ms/step - accuracy: 0.7286 - loss: 0.7523\n",
      "Epoch 6: val_accuracy did not improve from 0.90796\n",
      "\u001b[1m507/507\u001b[0m \u001b[32m━━━━━━━━━━━━━━━━━━━━\u001b[0m\u001b[37m\u001b[0m \u001b[1m109s\u001b[0m 215ms/step - accuracy: 0.7286 - loss: 0.7523 - val_accuracy: 0.6830 - val_loss: 1.0708\n",
      "Epoch 7/100\n",
      "\u001b[1m507/507\u001b[0m \u001b[32m━━━━━━━━━━━━━━━━━━━━\u001b[0m\u001b[37m\u001b[0m \u001b[1m0s\u001b[0m 205ms/step - accuracy: 0.7733 - loss: 0.6663\n",
      "Epoch 7: val_accuracy did not improve from 0.90796\n",
      "\u001b[1m507/507\u001b[0m \u001b[32m━━━━━━━━━━━━━━━━━━━━\u001b[0m\u001b[37m\u001b[0m \u001b[1m113s\u001b[0m 223ms/step - accuracy: 0.7733 - loss: 0.6663 - val_accuracy: 0.8165 - val_loss: 0.5367\n",
      "Epoch 8/100\n",
      "\u001b[1m507/507\u001b[0m \u001b[32m━━━━━━━━━━━━━━━━━━━━\u001b[0m\u001b[37m\u001b[0m \u001b[1m0s\u001b[0m 185ms/step - accuracy: 0.7987 - loss: 0.5862\n",
      "Epoch 8: val_accuracy did not improve from 0.90796\n",
      "\u001b[1m507/507\u001b[0m \u001b[32m━━━━━━━━━━━━━━━━━━━━\u001b[0m\u001b[37m\u001b[0m \u001b[1m104s\u001b[0m 204ms/step - accuracy: 0.7987 - loss: 0.5862 - val_accuracy: 0.6869 - val_loss: 1.2910\n",
      "Epoch 9/100\n",
      "\u001b[1m507/507\u001b[0m \u001b[32m━━━━━━━━━━━━━━━━━━━━\u001b[0m\u001b[37m\u001b[0m \u001b[1m0s\u001b[0m 183ms/step - accuracy: 0.8115 - loss: 0.5526\n",
      "Epoch 9: val_accuracy did not improve from 0.90796\n",
      "\u001b[1m507/507\u001b[0m \u001b[32m━━━━━━━━━━━━━━━━━━━━\u001b[0m\u001b[37m\u001b[0m \u001b[1m103s\u001b[0m 202ms/step - accuracy: 0.8115 - loss: 0.5526 - val_accuracy: 0.6928 - val_loss: 1.2113\n",
      "Epoch 10/100\n",
      "\u001b[1m507/507\u001b[0m \u001b[32m━━━━━━━━━━━━━━━━━━━━\u001b[0m\u001b[37m\u001b[0m \u001b[1m0s\u001b[0m 182ms/step - accuracy: 0.8459 - loss: 0.4736\n",
      "Epoch 10: val_accuracy did not improve from 0.90796\n",
      "\u001b[1m507/507\u001b[0m \u001b[32m━━━━━━━━━━━━━━━━━━━━\u001b[0m\u001b[37m\u001b[0m \u001b[1m102s\u001b[0m 201ms/step - accuracy: 0.8459 - loss: 0.4736 - val_accuracy: 0.4411 - val_loss: 5.7011\n",
      "Epoch 11/100\n",
      "\u001b[1m507/507\u001b[0m \u001b[32m━━━━━━━━━━━━━━━━━━━━\u001b[0m\u001b[37m\u001b[0m \u001b[1m0s\u001b[0m 183ms/step - accuracy: 0.8552 - loss: 0.4290\n",
      "Epoch 11: val_accuracy did not improve from 0.90796\n",
      "\u001b[1m507/507\u001b[0m \u001b[32m━━━━━━━━━━━━━━━━━━━━\u001b[0m\u001b[37m\u001b[0m \u001b[1m103s\u001b[0m 202ms/step - accuracy: 0.8552 - loss: 0.4290 - val_accuracy: 0.5861 - val_loss: 2.5670\n",
      "Epoch 12/100\n",
      "\u001b[1m507/507\u001b[0m \u001b[32m━━━━━━━━━━━━━━━━━━━━\u001b[0m\u001b[37m\u001b[0m \u001b[1m0s\u001b[0m 182ms/step - accuracy: 0.8739 - loss: 0.3704\n",
      "Epoch 12: val_accuracy did not improve from 0.90796\n",
      "\u001b[1m507/507\u001b[0m \u001b[32m━━━━━━━━━━━━━━━━━━━━\u001b[0m\u001b[37m\u001b[0m \u001b[1m102s\u001b[0m 201ms/step - accuracy: 0.8739 - loss: 0.3704 - val_accuracy: 0.7294 - val_loss: 1.0935\n",
      "Epoch 13/100\n",
      "\u001b[1m507/507\u001b[0m \u001b[32m━━━━━━━━━━━━━━━━━━━━\u001b[0m\u001b[37m\u001b[0m \u001b[1m0s\u001b[0m 181ms/step - accuracy: 0.8851 - loss: 0.3525\n",
      "Epoch 13: val_accuracy did not improve from 0.90796\n",
      "\u001b[1m507/507\u001b[0m \u001b[32m━━━━━━━━━━━━━━━━━━━━\u001b[0m\u001b[37m\u001b[0m \u001b[1m102s\u001b[0m 200ms/step - accuracy: 0.8851 - loss: 0.3525 - val_accuracy: 0.5333 - val_loss: 3.2250\n",
      "Epoch 14/100\n",
      "\u001b[1m507/507\u001b[0m \u001b[32m━━━━━━━━━━━━━━━━━━━━\u001b[0m\u001b[37m\u001b[0m \u001b[1m0s\u001b[0m 181ms/step - accuracy: 0.9002 - loss: 0.3056\n",
      "Epoch 14: val_accuracy did not improve from 0.90796\n",
      "\u001b[1m507/507\u001b[0m \u001b[32m━━━━━━━━━━━━━━━━━━━━\u001b[0m\u001b[37m\u001b[0m \u001b[1m102s\u001b[0m 200ms/step - accuracy: 0.9002 - loss: 0.3056 - val_accuracy: 0.5730 - val_loss: 2.5174\n",
      "Epoch 15/100\n",
      "\u001b[1m507/507\u001b[0m \u001b[32m━━━━━━━━━━━━━━━━━━━━\u001b[0m\u001b[37m\u001b[0m \u001b[1m0s\u001b[0m 182ms/step - accuracy: 0.9046 - loss: 0.2985\n",
      "Epoch 15: val_accuracy did not improve from 0.90796\n",
      "\u001b[1m507/507\u001b[0m \u001b[32m━━━━━━━━━━━━━━━━━━━━\u001b[0m\u001b[37m\u001b[0m \u001b[1m102s\u001b[0m 200ms/step - accuracy: 0.9046 - loss: 0.2985 - val_accuracy: 0.7754 - val_loss: 1.0851\n",
      "Epoch 16/100\n",
      "\u001b[1m507/507\u001b[0m \u001b[32m━━━━━━━━━━━━━━━━━━━━\u001b[0m\u001b[37m\u001b[0m \u001b[1m0s\u001b[0m 181ms/step - accuracy: 0.9160 - loss: 0.2593\n",
      "Epoch 16: val_accuracy did not improve from 0.90796\n",
      "\u001b[1m507/507\u001b[0m \u001b[32m━━━━━━━━━━━━━━━━━━━━\u001b[0m\u001b[37m\u001b[0m \u001b[1m101s\u001b[0m 199ms/step - accuracy: 0.9160 - loss: 0.2593 - val_accuracy: 0.7424 - val_loss: 0.8889\n",
      "Epoch 17/100\n",
      "\u001b[1m507/507\u001b[0m \u001b[32m━━━━━━━━━━━━━━━━━━━━\u001b[0m\u001b[37m\u001b[0m \u001b[1m0s\u001b[0m 183ms/step - accuracy: 0.9169 - loss: 0.2517\n",
      "Epoch 17: val_accuracy did not improve from 0.90796\n",
      "\u001b[1m507/507\u001b[0m \u001b[32m━━━━━━━━━━━━━━━━━━━━\u001b[0m\u001b[37m\u001b[0m \u001b[1m102s\u001b[0m 201ms/step - accuracy: 0.9169 - loss: 0.2517 - val_accuracy: 0.4548 - val_loss: 4.5354\n",
      "Epoch 18/100\n",
      "\u001b[1m507/507\u001b[0m \u001b[32m━━━━━━━━━━━━━━━━━━━━\u001b[0m\u001b[37m\u001b[0m \u001b[1m0s\u001b[0m 181ms/step - accuracy: 0.9256 - loss: 0.2226\n",
      "Epoch 18: val_accuracy did not improve from 0.90796\n",
      "\u001b[1m507/507\u001b[0m \u001b[32m━━━━━━━━━━━━━━━━━━━━\u001b[0m\u001b[37m\u001b[0m \u001b[1m102s\u001b[0m 201ms/step - accuracy: 0.9256 - loss: 0.2226 - val_accuracy: 0.8846 - val_loss: 0.4161\n",
      "Epoch 19/100\n",
      "\u001b[1m507/507\u001b[0m \u001b[32m━━━━━━━━━━━━━━━━━━━━\u001b[0m\u001b[37m\u001b[0m \u001b[1m0s\u001b[0m 179ms/step - accuracy: 0.9326 - loss: 0.2090\n",
      "Epoch 19: val_accuracy did not improve from 0.90796\n",
      "\u001b[1m507/507\u001b[0m \u001b[32m━━━━━━━━━━━━━━━━━━━━\u001b[0m\u001b[37m\u001b[0m \u001b[1m101s\u001b[0m 198ms/step - accuracy: 0.9326 - loss: 0.2090 - val_accuracy: 0.7570 - val_loss: 0.9120\n",
      "Epoch 20/100\n",
      "\u001b[1m507/507\u001b[0m \u001b[32m━━━━━━━━━━━━━━━━━━━━\u001b[0m\u001b[37m\u001b[0m \u001b[1m0s\u001b[0m 181ms/step - accuracy: 0.9266 - loss: 0.2175\n",
      "Epoch 20: val_accuracy did not improve from 0.90796\n",
      "\u001b[1m507/507\u001b[0m \u001b[32m━━━━━━━━━━━━━━━━━━━━\u001b[0m\u001b[37m\u001b[0m \u001b[1m101s\u001b[0m 200ms/step - accuracy: 0.9266 - loss: 0.2175 - val_accuracy: 0.8926 - val_loss: 0.4613\n",
      "Epoch 20: early stopping\n",
      "Restoring model weights from the end of the best epoch: 1.\n"
     ]
    },
    {
     "name": "stderr",
     "output_type": "stream",
     "text": [
      "WARNING:absl:You are saving your model as an HDF5 file via `model.save()` or `keras.saving.save_model(model)`. This file format is considered legacy. We recommend using instead the native Keras format, e.g. `model.save('my_model.keras')` or `keras.saving.save_model(model, 'my_model.keras')`. \n"
     ]
    },
    {
     "name": "stdout",
     "output_type": "stream",
     "text": [
      "Training model with HeNormal initialization\n",
      "Epoch 1/100\n",
      "\u001b[1m507/507\u001b[0m \u001b[32m━━━━━━━━━━━━━━━━━━━━\u001b[0m\u001b[37m\u001b[0m \u001b[1m0s\u001b[0m 182ms/step - accuracy: 0.4342 - loss: 1.8763\n",
      "Epoch 1: val_accuracy did not improve from 0.90796\n",
      "\u001b[1m507/507\u001b[0m \u001b[32m━━━━━━━━━━━━━━━━━━━━\u001b[0m\u001b[37m\u001b[0m \u001b[1m110s\u001b[0m 202ms/step - accuracy: 0.4343 - loss: 1.8755 - val_accuracy: 0.4806 - val_loss: 1.5814\n",
      "Epoch 2/100\n",
      "\u001b[1m507/507\u001b[0m \u001b[32m━━━━━━━━━━━━━━━━━━━━\u001b[0m\u001b[37m\u001b[0m \u001b[1m0s\u001b[0m 183ms/step - accuracy: 0.6171 - loss: 1.0818\n",
      "Epoch 2: val_accuracy did not improve from 0.90796\n",
      "\u001b[1m507/507\u001b[0m \u001b[32m━━━━━━━━━━━━━━━━━━━━\u001b[0m\u001b[37m\u001b[0m \u001b[1m102s\u001b[0m 201ms/step - accuracy: 0.6171 - loss: 1.0818 - val_accuracy: 0.4726 - val_loss: 2.4126\n",
      "Epoch 3/100\n",
      "\u001b[1m507/507\u001b[0m \u001b[32m━━━━━━━━━━━━━━━━━━━━\u001b[0m\u001b[37m\u001b[0m \u001b[1m0s\u001b[0m 156ms/step - accuracy: 0.6736 - loss: 0.9189\n",
      "Epoch 3: val_accuracy did not improve from 0.90796\n",
      "\u001b[1m507/507\u001b[0m \u001b[32m━━━━━━━━━━━━━━━━━━━━\u001b[0m\u001b[37m\u001b[0m \u001b[1m86s\u001b[0m 170ms/step - accuracy: 0.6736 - loss: 0.9189 - val_accuracy: 0.4804 - val_loss: 2.1548\n",
      "Epoch 4/100\n",
      "\u001b[1m507/507\u001b[0m \u001b[32m━━━━━━━━━━━━━━━━━━━━\u001b[0m\u001b[37m\u001b[0m \u001b[1m0s\u001b[0m 136ms/step - accuracy: 0.7027 - loss: 0.8609\n",
      "Epoch 4: val_accuracy did not improve from 0.90796\n",
      "\u001b[1m507/507\u001b[0m \u001b[32m━━━━━━━━━━━━━━━━━━━━\u001b[0m\u001b[37m\u001b[0m \u001b[1m76s\u001b[0m 149ms/step - accuracy: 0.7027 - loss: 0.8608 - val_accuracy: 0.4678 - val_loss: 2.3918\n",
      "Epoch 5/100\n",
      "\u001b[1m507/507\u001b[0m \u001b[32m━━━━━━━━━━━━━━━━━━━━\u001b[0m\u001b[37m\u001b[0m \u001b[1m0s\u001b[0m 138ms/step - accuracy: 0.7398 - loss: 0.7494\n",
      "Epoch 5: val_accuracy did not improve from 0.90796\n",
      "\u001b[1m507/507\u001b[0m \u001b[32m━━━━━━━━━━━━━━━━━━━━\u001b[0m\u001b[37m\u001b[0m \u001b[1m77s\u001b[0m 151ms/step - accuracy: 0.7398 - loss: 0.7494 - val_accuracy: 0.6376 - val_loss: 1.7423\n",
      "Epoch 6/100\n",
      "\u001b[1m507/507\u001b[0m \u001b[32m━━━━━━━━━━━━━━━━━━━━\u001b[0m\u001b[37m\u001b[0m \u001b[1m0s\u001b[0m 136ms/step - accuracy: 0.7748 - loss: 0.6539\n",
      "Epoch 6: val_accuracy did not improve from 0.90796\n",
      "\u001b[1m507/507\u001b[0m \u001b[32m━━━━━━━━━━━━━━━━━━━━\u001b[0m\u001b[37m\u001b[0m \u001b[1m76s\u001b[0m 149ms/step - accuracy: 0.7748 - loss: 0.6539 - val_accuracy: 0.7030 - val_loss: 1.0879\n",
      "Epoch 7/100\n",
      "\u001b[1m507/507\u001b[0m \u001b[32m━━━━━━━━━━━━━━━━━━━━\u001b[0m\u001b[37m\u001b[0m \u001b[1m0s\u001b[0m 139ms/step - accuracy: 0.8060 - loss: 0.5547\n",
      "Epoch 7: val_accuracy did not improve from 0.90796\n",
      "\u001b[1m507/507\u001b[0m \u001b[32m━━━━━━━━━━━━━━━━━━━━\u001b[0m\u001b[37m\u001b[0m \u001b[1m80s\u001b[0m 158ms/step - accuracy: 0.8061 - loss: 0.5547 - val_accuracy: 0.8559 - val_loss: 0.4709\n",
      "Epoch 8/100\n",
      "\u001b[1m507/507\u001b[0m \u001b[32m━━━━━━━━━━━━━━━━━━━━\u001b[0m\u001b[37m\u001b[0m \u001b[1m0s\u001b[0m 197ms/step - accuracy: 0.8367 - loss: 0.4901\n",
      "Epoch 8: val_accuracy did not improve from 0.90796\n",
      "\u001b[1m507/507\u001b[0m \u001b[32m━━━━━━━━━━━━━━━━━━━━\u001b[0m\u001b[37m\u001b[0m \u001b[1m108s\u001b[0m 212ms/step - accuracy: 0.8367 - loss: 0.4901 - val_accuracy: 0.4946 - val_loss: 3.6223\n",
      "Epoch 9/100\n",
      "\u001b[1m507/507\u001b[0m \u001b[32m━━━━━━━━━━━━━━━━━━━━\u001b[0m\u001b[37m\u001b[0m \u001b[1m0s\u001b[0m 149ms/step - accuracy: 0.8514 - loss: 0.4333\n",
      "Epoch 9: val_accuracy did not improve from 0.90796\n",
      "\u001b[1m507/507\u001b[0m \u001b[32m━━━━━━━━━━━━━━━━━━━━\u001b[0m\u001b[37m\u001b[0m \u001b[1m83s\u001b[0m 164ms/step - accuracy: 0.8514 - loss: 0.4333 - val_accuracy: 0.5928 - val_loss: 3.1933\n",
      "Epoch 10/100\n",
      "\u001b[1m507/507\u001b[0m \u001b[32m━━━━━━━━━━━━━━━━━━━━\u001b[0m\u001b[37m\u001b[0m \u001b[1m0s\u001b[0m 143ms/step - accuracy: 0.8816 - loss: 0.3732\n",
      "Epoch 10: val_accuracy did not improve from 0.90796\n",
      "\u001b[1m507/507\u001b[0m \u001b[32m━━━━━━━━━━━━━━━━━━━━\u001b[0m\u001b[37m\u001b[0m \u001b[1m80s\u001b[0m 157ms/step - accuracy: 0.8816 - loss: 0.3732 - val_accuracy: 0.8683 - val_loss: 0.4089\n",
      "Epoch 11/100\n",
      "\u001b[1m507/507\u001b[0m \u001b[32m━━━━━━━━━━━━━━━━━━━━\u001b[0m\u001b[37m\u001b[0m \u001b[1m0s\u001b[0m 145ms/step - accuracy: 0.8867 - loss: 0.3442\n",
      "Epoch 11: val_accuracy did not improve from 0.90796\n",
      "\u001b[1m507/507\u001b[0m \u001b[32m━━━━━━━━━━━━━━━━━━━━\u001b[0m\u001b[37m\u001b[0m \u001b[1m81s\u001b[0m 159ms/step - accuracy: 0.8867 - loss: 0.3442 - val_accuracy: 0.8152 - val_loss: 0.5253\n",
      "Epoch 12/100\n",
      "\u001b[1m507/507\u001b[0m \u001b[32m━━━━━━━━━━━━━━━━━━━━\u001b[0m\u001b[37m\u001b[0m \u001b[1m0s\u001b[0m 146ms/step - accuracy: 0.9029 - loss: 0.3027\n",
      "Epoch 12: val_accuracy did not improve from 0.90796\n",
      "\u001b[1m507/507\u001b[0m \u001b[32m━━━━━━━━━━━━━━━━━━━━\u001b[0m\u001b[37m\u001b[0m \u001b[1m82s\u001b[0m 162ms/step - accuracy: 0.9029 - loss: 0.3027 - val_accuracy: 0.8596 - val_loss: 0.5109\n",
      "Epoch 13/100\n",
      "\u001b[1m507/507\u001b[0m \u001b[32m━━━━━━━━━━━━━━━━━━━━\u001b[0m\u001b[37m\u001b[0m \u001b[1m0s\u001b[0m 146ms/step - accuracy: 0.9108 - loss: 0.2677\n",
      "Epoch 13: val_accuracy did not improve from 0.90796\n",
      "\u001b[1m507/507\u001b[0m \u001b[32m━━━━━━━━━━━━━━━━━━━━\u001b[0m\u001b[37m\u001b[0m \u001b[1m81s\u001b[0m 160ms/step - accuracy: 0.9108 - loss: 0.2677 - val_accuracy: 0.8111 - val_loss: 0.6365\n",
      "Epoch 14/100\n",
      "\u001b[1m507/507\u001b[0m \u001b[32m━━━━━━━━━━━━━━━━━━━━\u001b[0m\u001b[37m\u001b[0m \u001b[1m0s\u001b[0m 162ms/step - accuracy: 0.9271 - loss: 0.2207\n",
      "Epoch 14: val_accuracy did not improve from 0.90796\n",
      "\u001b[1m507/507\u001b[0m \u001b[32m━━━━━━━━━━━━━━━━━━━━\u001b[0m\u001b[37m\u001b[0m \u001b[1m91s\u001b[0m 179ms/step - accuracy: 0.9271 - loss: 0.2208 - val_accuracy: 0.7189 - val_loss: 1.3696\n",
      "Epoch 15/100\n",
      "\u001b[1m507/507\u001b[0m \u001b[32m━━━━━━━━━━━━━━━━━━━━\u001b[0m\u001b[37m\u001b[0m \u001b[1m0s\u001b[0m 157ms/step - accuracy: 0.9122 - loss: 0.2744\n",
      "Epoch 15: val_accuracy did not improve from 0.90796\n",
      "\u001b[1m507/507\u001b[0m \u001b[32m━━━━━━━━━━━━━━━━━━━━\u001b[0m\u001b[37m\u001b[0m \u001b[1m89s\u001b[0m 174ms/step - accuracy: 0.9122 - loss: 0.2743 - val_accuracy: 0.8106 - val_loss: 0.7709\n",
      "Epoch 16/100\n",
      "\u001b[1m507/507\u001b[0m \u001b[32m━━━━━━━━━━━━━━━━━━━━\u001b[0m\u001b[37m\u001b[0m \u001b[1m0s\u001b[0m 173ms/step - accuracy: 0.9333 - loss: 0.2031\n",
      "Epoch 16: val_accuracy did not improve from 0.90796\n",
      "\u001b[1m507/507\u001b[0m \u001b[32m━━━━━━━━━━━━━━━━━━━━\u001b[0m\u001b[37m\u001b[0m \u001b[1m97s\u001b[0m 192ms/step - accuracy: 0.9333 - loss: 0.2031 - val_accuracy: 0.8139 - val_loss: 0.6788\n",
      "Epoch 17/100\n",
      "\u001b[1m507/507\u001b[0m \u001b[32m━━━━━━━━━━━━━━━━━━━━\u001b[0m\u001b[37m\u001b[0m \u001b[1m0s\u001b[0m 176ms/step - accuracy: 0.9355 - loss: 0.1968\n",
      "Epoch 17: val_accuracy did not improve from 0.90796\n",
      "\u001b[1m507/507\u001b[0m \u001b[32m━━━━━━━━━━━━━━━━━━━━\u001b[0m\u001b[37m\u001b[0m \u001b[1m99s\u001b[0m 195ms/step - accuracy: 0.9355 - loss: 0.1968 - val_accuracy: 0.8100 - val_loss: 0.9513\n",
      "Epoch 18/100\n",
      "\u001b[1m507/507\u001b[0m \u001b[32m━━━━━━━━━━━━━━━━━━━━\u001b[0m\u001b[37m\u001b[0m \u001b[1m0s\u001b[0m 177ms/step - accuracy: 0.9421 - loss: 0.1732\n",
      "Epoch 18: val_accuracy did not improve from 0.90796\n",
      "\u001b[1m507/507\u001b[0m \u001b[32m━━━━━━━━━━━━━━━━━━━━\u001b[0m\u001b[37m\u001b[0m \u001b[1m99s\u001b[0m 195ms/step - accuracy: 0.9420 - loss: 0.1733 - val_accuracy: 0.7985 - val_loss: 1.0181\n",
      "Epoch 19/100\n",
      "\u001b[1m507/507\u001b[0m \u001b[32m━━━━━━━━━━━━━━━━━━━━\u001b[0m\u001b[37m\u001b[0m \u001b[1m0s\u001b[0m 176ms/step - accuracy: 0.9414 - loss: 0.1870\n",
      "Epoch 19: val_accuracy did not improve from 0.90796\n",
      "\u001b[1m507/507\u001b[0m \u001b[32m━━━━━━━━━━━━━━━━━━━━\u001b[0m\u001b[37m\u001b[0m \u001b[1m99s\u001b[0m 195ms/step - accuracy: 0.9414 - loss: 0.1870 - val_accuracy: 0.4354 - val_loss: 13.3904\n",
      "Epoch 20/100\n",
      "\u001b[1m507/507\u001b[0m \u001b[32m━━━━━━━━━━━━━━━━━━━━\u001b[0m\u001b[37m\u001b[0m \u001b[1m0s\u001b[0m 179ms/step - accuracy: 0.9466 - loss: 0.1740\n",
      "Epoch 20: val_accuracy did not improve from 0.90796\n",
      "\u001b[1m507/507\u001b[0m \u001b[32m━━━━━━━━━━━━━━━━━━━━\u001b[0m\u001b[37m\u001b[0m \u001b[1m101s\u001b[0m 198ms/step - accuracy: 0.9466 - loss: 0.1740 - val_accuracy: 0.8235 - val_loss: 0.8154\n",
      "Epoch 20: early stopping\n",
      "Restoring model weights from the end of the best epoch: 1.\n"
     ]
    },
    {
     "name": "stderr",
     "output_type": "stream",
     "text": [
      "WARNING:absl:You are saving your model as an HDF5 file via `model.save()` or `keras.saving.save_model(model)`. This file format is considered legacy. We recommend using instead the native Keras format, e.g. `model.save('my_model.keras')` or `keras.saving.save_model(model, 'my_model.keras')`. \n"
     ]
    }
   ],
   "source": [
    "for name, model in models.items():\n",
    "    print(f\"Training model with {name} initialization\")\n",
    "    history = model.fit(data_gen_train,\n",
    "                    epochs=100,\n",
    "                    validation_data=data_gen_val,\n",
    "                    callbacks=callbacks\n",
    "                    )\n",
    "    model.save(f'model_{name}.h5')"
   ]
  },
  {
   "cell_type": "markdown",
   "metadata": {},
   "source": [
    "Link to the report: https://api.wandb.ai/links/dishaxgh/bqyucf77"
   ]
  },
  {
   "cell_type": "markdown",
   "metadata": {
    "id": "38gCzERMCRj3"
   },
   "source": [
    "## **Testing the model**"
   ]
  },
  {
   "cell_type": "markdown",
   "metadata": {
    "id": "P6F-7iCvygxq"
   },
   "source": [
    "Test your model and report the accuracies for the train, validation and test sets."
   ]
  },
  {
   "cell_type": "code",
   "execution_count": 21,
   "metadata": {},
   "outputs": [
    {
     "name": "stdout",
     "output_type": "stream",
     "text": [
      "Train:\n",
      "\u001b[1m507/507\u001b[0m \u001b[32m━━━━━━━━━━━━━━━━━━━━\u001b[0m\u001b[37m\u001b[0m \u001b[1m30s\u001b[0m 59ms/step - accuracy: 0.5022 - loss: 1.4908\n",
      "Validation:\n",
      "\u001b[1m169/169\u001b[0m \u001b[32m━━━━━━━━━━━━━━━━━━━━\u001b[0m\u001b[37m\u001b[0m \u001b[1m10s\u001b[0m 60ms/step - accuracy: 0.4772 - loss: 1.6107\n",
      "Test:\n",
      "\u001b[1m169/169\u001b[0m \u001b[32m━━━━━━━━━━━━━━━━━━━━\u001b[0m\u001b[37m\u001b[0m \u001b[1m66s\u001b[0m 394ms/step - accuracy: 0.4891 - loss: 1.5496\n"
     ]
    }
   ],
   "source": [
    "data_gen_test = DataGenerator(path_images=x_test,\n",
    "                              labels=y_test,\n",
    "                              batch_size=BATCH_SIZE,\n",
    "                              n_classes=n_classes,\n",
    "                              target_size=TARGET_SIZE,\n",
    "                              shuffle=False)\n",
    "\n",
    "print(\"Train:\")\n",
    "scores_train = model.evaluate(data_gen_train)\n",
    "print(\"Validation:\")\n",
    "scores_val = model.evaluate(data_gen_val)\n",
    "print(\"Test:\")\n",
    "scores_test = model.evaluate(data_gen_test)"
   ]
  }
 ],
 "metadata": {
  "colab": {
   "collapsed_sections": [
    "EyS5sA5SxSYe",
    "ZcOA6hVa1PEE",
    "cxIMxNBkYpCD",
    "dah4bJlO-rOW",
    "GpN8IibKyV8x",
    "38gCzERMCRj3"
   ],
   "gpuType": "A100",
   "machine_shape": "hm",
   "provenance": []
  },
  "gpuClass": "standard",
  "kernelspec": {
   "display_name": "Python 3 (ipykernel)",
   "language": "python",
   "name": "python3"
  },
  "language_info": {
   "codemirror_mode": {
    "name": "ipython",
    "version": 3
   },
   "file_extension": ".py",
   "mimetype": "text/x-python",
   "name": "python",
   "nbconvert_exporter": "python",
   "pygments_lexer": "ipython3",
   "version": "3.11.4"
  }
 },
 "nbformat": 4,
 "nbformat_minor": 1
}
